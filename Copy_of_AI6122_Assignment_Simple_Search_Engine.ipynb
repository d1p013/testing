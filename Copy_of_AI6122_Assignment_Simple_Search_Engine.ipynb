{
  "nbformat": 4,
  "nbformat_minor": 0,
  "metadata": {
    "colab": {
      "name": "Copy of AI6122_Assignment_Simple_Search_Engine.ipynb",
      "provenance": [],
      "collapsed_sections": [],
      "include_colab_link": true
    },
    "kernelspec": {
      "name": "python3",
      "display_name": "Python 3"
    },
    "widgets": {
      "application/vnd.jupyter.widget-state+json": {
        "c197c3d095e449c3a6a8cec27dade9f0": {
          "model_module": "@jupyter-widgets/controls",
          "model_name": "HBoxModel",
          "model_module_version": "1.5.0",
          "state": {
            "_view_name": "HBoxView",
            "_dom_classes": [],
            "_model_name": "HBoxModel",
            "_view_module": "@jupyter-widgets/controls",
            "_model_module_version": "1.5.0",
            "_view_count": null,
            "_view_module_version": "1.5.0",
            "box_style": "",
            "layout": "IPY_MODEL_2fe83a40de924d62bd1ece1070ae902c",
            "_model_module": "@jupyter-widgets/controls",
            "children": [
              "IPY_MODEL_883ec379240a404b872a524de7502acf",
              "IPY_MODEL_2617e5f70ab34f0984a1581b905b81a0",
              "IPY_MODEL_c2ca34b91ca9491b9284a0d6444ecc77"
            ]
          }
        },
        "2fe83a40de924d62bd1ece1070ae902c": {
          "model_module": "@jupyter-widgets/base",
          "model_name": "LayoutModel",
          "model_module_version": "1.2.0",
          "state": {
            "_view_name": "LayoutView",
            "grid_template_rows": null,
            "right": null,
            "justify_content": null,
            "_view_module": "@jupyter-widgets/base",
            "overflow": null,
            "_model_module_version": "1.2.0",
            "_view_count": null,
            "flex_flow": null,
            "width": null,
            "min_width": null,
            "border": null,
            "align_items": null,
            "bottom": null,
            "_model_module": "@jupyter-widgets/base",
            "top": null,
            "grid_column": null,
            "overflow_y": null,
            "overflow_x": null,
            "grid_auto_flow": null,
            "grid_area": null,
            "grid_template_columns": null,
            "flex": null,
            "_model_name": "LayoutModel",
            "justify_items": null,
            "grid_row": null,
            "max_height": null,
            "align_content": null,
            "visibility": null,
            "align_self": null,
            "height": null,
            "min_height": null,
            "padding": null,
            "grid_auto_rows": null,
            "grid_gap": null,
            "max_width": null,
            "order": null,
            "_view_module_version": "1.2.0",
            "grid_template_areas": null,
            "object_position": null,
            "object_fit": null,
            "grid_auto_columns": null,
            "margin": null,
            "display": null,
            "left": null
          }
        },
        "883ec379240a404b872a524de7502acf": {
          "model_module": "@jupyter-widgets/controls",
          "model_name": "HTMLModel",
          "model_module_version": "1.5.0",
          "state": {
            "_view_name": "HTMLView",
            "style": "IPY_MODEL_fa4b18ee43ec47b193a757d7cc0a850d",
            "_dom_classes": [],
            "description": "",
            "_model_name": "HTMLModel",
            "placeholder": "​",
            "_view_module": "@jupyter-widgets/controls",
            "_model_module_version": "1.5.0",
            "value": "",
            "_view_count": null,
            "_view_module_version": "1.5.0",
            "description_tooltip": null,
            "_model_module": "@jupyter-widgets/controls",
            "layout": "IPY_MODEL_dd49dd60fa7246b9bbf155e572234d21"
          }
        },
        "2617e5f70ab34f0984a1581b905b81a0": {
          "model_module": "@jupyter-widgets/controls",
          "model_name": "FloatProgressModel",
          "model_module_version": "1.5.0",
          "state": {
            "_view_name": "ProgressView",
            "style": "IPY_MODEL_7656c55c969c47989b9d78e869d7643d",
            "_dom_classes": [],
            "description": "",
            "_model_name": "FloatProgressModel",
            "bar_style": "success",
            "max": 692,
            "_view_module": "@jupyter-widgets/controls",
            "_model_module_version": "1.5.0",
            "value": 692,
            "_view_count": null,
            "_view_module_version": "1.5.0",
            "orientation": "horizontal",
            "min": 0,
            "description_tooltip": null,
            "_model_module": "@jupyter-widgets/controls",
            "layout": "IPY_MODEL_ccce365fdd374f2e94b840ddd8d7fa8c"
          }
        },
        "c2ca34b91ca9491b9284a0d6444ecc77": {
          "model_module": "@jupyter-widgets/controls",
          "model_name": "HTMLModel",
          "model_module_version": "1.5.0",
          "state": {
            "_view_name": "HTMLView",
            "style": "IPY_MODEL_c630d586006441639b74f1b025b9a130",
            "_dom_classes": [],
            "description": "",
            "_model_name": "HTMLModel",
            "placeholder": "​",
            "_view_module": "@jupyter-widgets/controls",
            "_model_module_version": "1.5.0",
            "value": " 693/? [00:01&lt;00:00, 790.81documents/s]",
            "_view_count": null,
            "_view_module_version": "1.5.0",
            "description_tooltip": null,
            "_model_module": "@jupyter-widgets/controls",
            "layout": "IPY_MODEL_ca5e146dfa2b4696bf81143e9da20d48"
          }
        },
        "fa4b18ee43ec47b193a757d7cc0a850d": {
          "model_module": "@jupyter-widgets/controls",
          "model_name": "DescriptionStyleModel",
          "model_module_version": "1.5.0",
          "state": {
            "_view_name": "StyleView",
            "_model_name": "DescriptionStyleModel",
            "description_width": "",
            "_view_module": "@jupyter-widgets/base",
            "_model_module_version": "1.5.0",
            "_view_count": null,
            "_view_module_version": "1.2.0",
            "_model_module": "@jupyter-widgets/controls"
          }
        },
        "dd49dd60fa7246b9bbf155e572234d21": {
          "model_module": "@jupyter-widgets/base",
          "model_name": "LayoutModel",
          "model_module_version": "1.2.0",
          "state": {
            "_view_name": "LayoutView",
            "grid_template_rows": null,
            "right": null,
            "justify_content": null,
            "_view_module": "@jupyter-widgets/base",
            "overflow": null,
            "_model_module_version": "1.2.0",
            "_view_count": null,
            "flex_flow": null,
            "width": null,
            "min_width": null,
            "border": null,
            "align_items": null,
            "bottom": null,
            "_model_module": "@jupyter-widgets/base",
            "top": null,
            "grid_column": null,
            "overflow_y": null,
            "overflow_x": null,
            "grid_auto_flow": null,
            "grid_area": null,
            "grid_template_columns": null,
            "flex": null,
            "_model_name": "LayoutModel",
            "justify_items": null,
            "grid_row": null,
            "max_height": null,
            "align_content": null,
            "visibility": null,
            "align_self": null,
            "height": null,
            "min_height": null,
            "padding": null,
            "grid_auto_rows": null,
            "grid_gap": null,
            "max_width": null,
            "order": null,
            "_view_module_version": "1.2.0",
            "grid_template_areas": null,
            "object_position": null,
            "object_fit": null,
            "grid_auto_columns": null,
            "margin": null,
            "display": null,
            "left": null
          }
        },
        "7656c55c969c47989b9d78e869d7643d": {
          "model_module": "@jupyter-widgets/controls",
          "model_name": "ProgressStyleModel",
          "model_module_version": "1.5.0",
          "state": {
            "_view_name": "StyleView",
            "_model_name": "ProgressStyleModel",
            "description_width": "",
            "_view_module": "@jupyter-widgets/base",
            "_model_module_version": "1.5.0",
            "_view_count": null,
            "_view_module_version": "1.2.0",
            "bar_color": null,
            "_model_module": "@jupyter-widgets/controls"
          }
        },
        "ccce365fdd374f2e94b840ddd8d7fa8c": {
          "model_module": "@jupyter-widgets/base",
          "model_name": "LayoutModel",
          "model_module_version": "1.2.0",
          "state": {
            "_view_name": "LayoutView",
            "grid_template_rows": null,
            "right": null,
            "justify_content": null,
            "_view_module": "@jupyter-widgets/base",
            "overflow": null,
            "_model_module_version": "1.2.0",
            "_view_count": null,
            "flex_flow": null,
            "width": null,
            "min_width": null,
            "border": null,
            "align_items": null,
            "bottom": null,
            "_model_module": "@jupyter-widgets/base",
            "top": null,
            "grid_column": null,
            "overflow_y": null,
            "overflow_x": null,
            "grid_auto_flow": null,
            "grid_area": null,
            "grid_template_columns": null,
            "flex": null,
            "_model_name": "LayoutModel",
            "justify_items": null,
            "grid_row": null,
            "max_height": null,
            "align_content": null,
            "visibility": null,
            "align_self": null,
            "height": null,
            "min_height": null,
            "padding": null,
            "grid_auto_rows": null,
            "grid_gap": null,
            "max_width": null,
            "order": null,
            "_view_module_version": "1.2.0",
            "grid_template_areas": null,
            "object_position": null,
            "object_fit": null,
            "grid_auto_columns": null,
            "margin": null,
            "display": null,
            "left": null
          }
        },
        "c630d586006441639b74f1b025b9a130": {
          "model_module": "@jupyter-widgets/controls",
          "model_name": "DescriptionStyleModel",
          "model_module_version": "1.5.0",
          "state": {
            "_view_name": "StyleView",
            "_model_name": "DescriptionStyleModel",
            "description_width": "",
            "_view_module": "@jupyter-widgets/base",
            "_model_module_version": "1.5.0",
            "_view_count": null,
            "_view_module_version": "1.2.0",
            "_model_module": "@jupyter-widgets/controls"
          }
        },
        "ca5e146dfa2b4696bf81143e9da20d48": {
          "model_module": "@jupyter-widgets/base",
          "model_name": "LayoutModel",
          "model_module_version": "1.2.0",
          "state": {
            "_view_name": "LayoutView",
            "grid_template_rows": null,
            "right": null,
            "justify_content": null,
            "_view_module": "@jupyter-widgets/base",
            "overflow": null,
            "_model_module_version": "1.2.0",
            "_view_count": null,
            "flex_flow": null,
            "width": null,
            "min_width": null,
            "border": null,
            "align_items": null,
            "bottom": null,
            "_model_module": "@jupyter-widgets/base",
            "top": null,
            "grid_column": null,
            "overflow_y": null,
            "overflow_x": null,
            "grid_auto_flow": null,
            "grid_area": null,
            "grid_template_columns": null,
            "flex": null,
            "_model_name": "LayoutModel",
            "justify_items": null,
            "grid_row": null,
            "max_height": null,
            "align_content": null,
            "visibility": null,
            "align_self": null,
            "height": null,
            "min_height": null,
            "padding": null,
            "grid_auto_rows": null,
            "grid_gap": null,
            "max_width": null,
            "order": null,
            "_view_module_version": "1.2.0",
            "grid_template_areas": null,
            "object_position": null,
            "object_fit": null,
            "grid_auto_columns": null,
            "margin": null,
            "display": null,
            "left": null
          }
        },
        "2b43c759fdc24a5e89418da0f63294cb": {
          "model_module": "@jupyter-widgets/controls",
          "model_name": "HBoxModel",
          "model_module_version": "1.5.0",
          "state": {
            "_view_name": "HBoxView",
            "_dom_classes": [],
            "_model_name": "HBoxModel",
            "_view_module": "@jupyter-widgets/controls",
            "_model_module_version": "1.5.0",
            "_view_count": null,
            "_view_module_version": "1.5.0",
            "box_style": "",
            "layout": "IPY_MODEL_0cf580568253445fa2b03c1b7a82a572",
            "_model_module": "@jupyter-widgets/controls",
            "children": [
              "IPY_MODEL_b55753fa167d4dbcb1d9a625cc85555e",
              "IPY_MODEL_1e95092d31a54669bbf954b70d33279b",
              "IPY_MODEL_227a60ea575f4cec85be75e9474c6f1e"
            ]
          }
        },
        "a24bad3612ec4e578fbda96e8820c3f2": {
          "model_module": "@jupyter-widgets/controls",
          "model_name": "HBoxModel",
          "model_module_version": "1.5.0",
          "state": {
            "_view_name": "HBoxView",
            "_dom_classes": [],
            "_model_name": "HBoxModel",
            "_view_module": "@jupyter-widgets/controls",
            "_model_module_version": "1.5.0",
            "_view_count": null,
            "_view_module_version": "1.5.0",
            "box_style": "",
            "layout": "IPY_MODEL_8d0bea33a9e042ef8841da278e42eb03",
            "_model_module": "@jupyter-widgets/controls",
            "children": [
              "IPY_MODEL_85d680988c664934a97fa6ff0ddb9f70",
              "IPY_MODEL_2e92887716994e89b3ffe03942e64e28",
              "IPY_MODEL_eabd7d58a5684e0483fc59b17ef3d0c1"
            ]
          }
        },
        "caa0733094794c018a7b9a599c5947dd": {
          "model_module": "@jupyter-widgets/controls",
          "model_name": "HBoxModel",
          "model_module_version": "1.5.0",
          "state": {
            "_view_name": "HBoxView",
            "_dom_classes": [],
            "_model_name": "HBoxModel",
            "_view_module": "@jupyter-widgets/controls",
            "_model_module_version": "1.5.0",
            "_view_count": null,
            "_view_module_version": "1.5.0",
            "box_style": "",
            "layout": "IPY_MODEL_5837d7951d7f4177a7ff9ccd77bd61f9",
            "_model_module": "@jupyter-widgets/controls",
            "children": [
              "IPY_MODEL_0f59eb7f2b0a482dbfab6603fb16571d",
              "IPY_MODEL_95ecace630ef401d93d7356fcaa6c1ce",
              "IPY_MODEL_051625145e3e4386b5a645a875bba2e1"
            ]
          }
        },
        "cf8ad4b350c54dd3acc8a520d7d16a6f": {
          "model_module": "@jupyter-widgets/controls",
          "model_name": "HBoxModel",
          "model_module_version": "1.5.0",
          "state": {
            "_view_name": "HBoxView",
            "_dom_classes": [],
            "_model_name": "HBoxModel",
            "_view_module": "@jupyter-widgets/controls",
            "_model_module_version": "1.5.0",
            "_view_count": null,
            "_view_module_version": "1.5.0",
            "box_style": "",
            "layout": "IPY_MODEL_0c1653fa6d9a418296712db22dc20018",
            "_model_module": "@jupyter-widgets/controls",
            "children": [
              "IPY_MODEL_8ee1686e18574c8bb27138862be3ce31",
              "IPY_MODEL_215ae589ac374dc59c57d30619f2f588",
              "IPY_MODEL_6315f207845243e5b7bdba5f9efc756c"
            ]
          }
        },
        "0a854334231445ab9d939d7f30b2d430": {
          "model_module": "@jupyter-widgets/controls",
          "model_name": "HBoxModel",
          "model_module_version": "1.5.0",
          "state": {
            "_view_name": "HBoxView",
            "_dom_classes": [],
            "_model_name": "HBoxModel",
            "_view_module": "@jupyter-widgets/controls",
            "_model_module_version": "1.5.0",
            "_view_count": null,
            "_view_module_version": "1.5.0",
            "box_style": "",
            "layout": "IPY_MODEL_3b500647e4284e28b9122b0e3d4b3a14",
            "_model_module": "@jupyter-widgets/controls",
            "children": [
              "IPY_MODEL_f14b997567234c12a66849edb2d38c69",
              "IPY_MODEL_17e1c2a28b6643faab84f6220900d399",
              "IPY_MODEL_d688da70018641af847f71371ac9726a"
            ]
          }
        },
        "22b818fe36a4487c9ac0e2141808517e": {
          "model_module": "@jupyter-widgets/controls",
          "model_name": "HBoxModel",
          "model_module_version": "1.5.0",
          "state": {
            "_view_name": "HBoxView",
            "_dom_classes": [],
            "_model_name": "HBoxModel",
            "_view_module": "@jupyter-widgets/controls",
            "_model_module_version": "1.5.0",
            "_view_count": null,
            "_view_module_version": "1.5.0",
            "box_style": "",
            "layout": "IPY_MODEL_b36c69d05d5f46318aa9b3bbf03b727c",
            "_model_module": "@jupyter-widgets/controls",
            "children": [
              "IPY_MODEL_8da7a0f1699c4ccb8248ee62055134d8",
              "IPY_MODEL_3a35f04a5a30419cb37047593c6573bb",
              "IPY_MODEL_8069f4dbdbb3443f800eacac3307d9f8"
            ]
          }
        },
        "6f9b269117c147ab897f07dc4d57ce39": {
          "model_module": "@jupyter-widgets/controls",
          "model_name": "HBoxModel",
          "model_module_version": "1.5.0",
          "state": {
            "_view_name": "HBoxView",
            "_dom_classes": [],
            "_model_name": "HBoxModel",
            "_view_module": "@jupyter-widgets/controls",
            "_model_module_version": "1.5.0",
            "_view_count": null,
            "_view_module_version": "1.5.0",
            "box_style": "",
            "layout": "IPY_MODEL_cb709b585e564362a1226ccdc37f8fa3",
            "_model_module": "@jupyter-widgets/controls",
            "children": [
              "IPY_MODEL_2171334577f64e44a7a8255b82a9d8cb",
              "IPY_MODEL_5392238875f040d8b67441b9c3d1d342",
              "IPY_MODEL_837be93311c049e78da375b69bb443c5"
            ]
          }
        },
        "8c435c6e89f046369e7d65eedc030f58": {
          "model_module": "@jupyter-widgets/controls",
          "model_name": "HBoxModel",
          "model_module_version": "1.5.0",
          "state": {
            "_view_name": "HBoxView",
            "_dom_classes": [],
            "_model_name": "HBoxModel",
            "_view_module": "@jupyter-widgets/controls",
            "_model_module_version": "1.5.0",
            "_view_count": null,
            "_view_module_version": "1.5.0",
            "box_style": "",
            "layout": "IPY_MODEL_eae0a486bc5c49afb0716df17f01ba09",
            "_model_module": "@jupyter-widgets/controls",
            "children": [
              "IPY_MODEL_b0939c29540b452fa7af59887b47b9c5",
              "IPY_MODEL_13afda01f4494313b665204b61467196",
              "IPY_MODEL_4de7dfda744e457092f79f9170c12f89"
            ]
          }
        },
        "ae5798c27b7042ea825327034e3f8de6": {
          "model_module": "@jupyter-widgets/controls",
          "model_name": "HBoxModel",
          "model_module_version": "1.5.0",
          "state": {
            "_view_name": "HBoxView",
            "_dom_classes": [],
            "_model_name": "HBoxModel",
            "_view_module": "@jupyter-widgets/controls",
            "_model_module_version": "1.5.0",
            "_view_count": null,
            "_view_module_version": "1.5.0",
            "box_style": "",
            "layout": "IPY_MODEL_fb9b32f347ec4a3cbfd14988050f7211",
            "_model_module": "@jupyter-widgets/controls",
            "children": [
              "IPY_MODEL_ab00e47a7be3451daa32cfd66ceaccbe",
              "IPY_MODEL_9fd80d38bdf64ffebf6406de6b8426e4",
              "IPY_MODEL_5beeeb5b77384e8e986541a922111eb6"
            ]
          }
        },
        "590f93a772474f40b46c4bd1e96a9d2a": {
          "model_module": "@jupyter-widgets/controls",
          "model_name": "HBoxModel",
          "model_module_version": "1.5.0",
          "state": {
            "_view_name": "HBoxView",
            "_dom_classes": [],
            "_model_name": "HBoxModel",
            "_view_module": "@jupyter-widgets/controls",
            "_model_module_version": "1.5.0",
            "_view_count": null,
            "_view_module_version": "1.5.0",
            "box_style": "",
            "layout": "IPY_MODEL_801895fbd5a645d0900d60fd880e7c36",
            "_model_module": "@jupyter-widgets/controls",
            "children": [
              "IPY_MODEL_b02ffbf9b6004b728470b3f9232d9c61",
              "IPY_MODEL_7560e7e09d4e4834aec8348f6c24b19a",
              "IPY_MODEL_d7104568344c47f280705e369949858f"
            ]
          }
        },
        "801895fbd5a645d0900d60fd880e7c36": {
          "model_module": "@jupyter-widgets/base",
          "model_name": "LayoutModel",
          "model_module_version": "1.2.0",
          "state": {
            "_view_name": "LayoutView",
            "grid_template_rows": null,
            "right": null,
            "justify_content": null,
            "_view_module": "@jupyter-widgets/base",
            "overflow": null,
            "_model_module_version": "1.2.0",
            "_view_count": null,
            "flex_flow": null,
            "width": null,
            "min_width": null,
            "border": null,
            "align_items": null,
            "bottom": null,
            "_model_module": "@jupyter-widgets/base",
            "top": null,
            "grid_column": null,
            "overflow_y": null,
            "overflow_x": null,
            "grid_auto_flow": null,
            "grid_area": null,
            "grid_template_columns": null,
            "flex": null,
            "_model_name": "LayoutModel",
            "justify_items": null,
            "grid_row": null,
            "max_height": null,
            "align_content": null,
            "visibility": null,
            "align_self": null,
            "height": null,
            "min_height": null,
            "padding": null,
            "grid_auto_rows": null,
            "grid_gap": null,
            "max_width": null,
            "order": null,
            "_view_module_version": "1.2.0",
            "grid_template_areas": null,
            "object_position": null,
            "object_fit": null,
            "grid_auto_columns": null,
            "margin": null,
            "display": null,
            "left": null
          }
        },
        "b02ffbf9b6004b728470b3f9232d9c61": {
          "model_module": "@jupyter-widgets/controls",
          "model_name": "HTMLModel",
          "model_module_version": "1.5.0",
          "state": {
            "_view_name": "HTMLView",
            "style": "IPY_MODEL_cf799ac678304472882c71ef6394bde2",
            "_dom_classes": [],
            "description": "",
            "_model_name": "HTMLModel",
            "placeholder": "​",
            "_view_module": "@jupyter-widgets/controls",
            "_model_module_version": "1.5.0",
            "value": "",
            "_view_count": null,
            "_view_module_version": "1.5.0",
            "description_tooltip": null,
            "_model_module": "@jupyter-widgets/controls",
            "layout": "IPY_MODEL_9d26a553d9b7496fa95f08d009e61b09"
          }
        },
        "7560e7e09d4e4834aec8348f6c24b19a": {
          "model_module": "@jupyter-widgets/controls",
          "model_name": "FloatProgressModel",
          "model_module_version": "1.5.0",
          "state": {
            "_view_name": "ProgressView",
            "style": "IPY_MODEL_0454b4c0d69a45cda5c0c7773119a02f",
            "_dom_classes": [],
            "description": "",
            "_model_name": "FloatProgressModel",
            "bar_style": "success",
            "max": 6928,
            "_view_module": "@jupyter-widgets/controls",
            "_model_module_version": "1.5.0",
            "value": 6928,
            "_view_count": null,
            "_view_module_version": "1.5.0",
            "orientation": "horizontal",
            "min": 0,
            "description_tooltip": null,
            "_model_module": "@jupyter-widgets/controls",
            "layout": "IPY_MODEL_de01c7a1ef1f48e2b5e83c202f7aec5a"
          }
        },
        "d7104568344c47f280705e369949858f": {
          "model_module": "@jupyter-widgets/controls",
          "model_name": "HTMLModel",
          "model_module_version": "1.5.0",
          "state": {
            "_view_name": "HTMLView",
            "style": "IPY_MODEL_75a9695c03f84ddc82a1ebd17a7cdd17",
            "_dom_classes": [],
            "description": "",
            "_model_name": "HTMLModel",
            "placeholder": "​",
            "_view_module": "@jupyter-widgets/controls",
            "_model_module_version": "1.5.0",
            "value": " 6929/? [00:08&lt;00:00, 795.09documents/s]",
            "_view_count": null,
            "_view_module_version": "1.5.0",
            "description_tooltip": null,
            "_model_module": "@jupyter-widgets/controls",
            "layout": "IPY_MODEL_97c326f8fd8c41508f057572f9e6e07b"
          }
        },
        "cf799ac678304472882c71ef6394bde2": {
          "model_module": "@jupyter-widgets/controls",
          "model_name": "DescriptionStyleModel",
          "model_module_version": "1.5.0",
          "state": {
            "_view_name": "StyleView",
            "_model_name": "DescriptionStyleModel",
            "description_width": "",
            "_view_module": "@jupyter-widgets/base",
            "_model_module_version": "1.5.0",
            "_view_count": null,
            "_view_module_version": "1.2.0",
            "_model_module": "@jupyter-widgets/controls"
          }
        },
        "9d26a553d9b7496fa95f08d009e61b09": {
          "model_module": "@jupyter-widgets/base",
          "model_name": "LayoutModel",
          "model_module_version": "1.2.0",
          "state": {
            "_view_name": "LayoutView",
            "grid_template_rows": null,
            "right": null,
            "justify_content": null,
            "_view_module": "@jupyter-widgets/base",
            "overflow": null,
            "_model_module_version": "1.2.0",
            "_view_count": null,
            "flex_flow": null,
            "width": null,
            "min_width": null,
            "border": null,
            "align_items": null,
            "bottom": null,
            "_model_module": "@jupyter-widgets/base",
            "top": null,
            "grid_column": null,
            "overflow_y": null,
            "overflow_x": null,
            "grid_auto_flow": null,
            "grid_area": null,
            "grid_template_columns": null,
            "flex": null,
            "_model_name": "LayoutModel",
            "justify_items": null,
            "grid_row": null,
            "max_height": null,
            "align_content": null,
            "visibility": null,
            "align_self": null,
            "height": null,
            "min_height": null,
            "padding": null,
            "grid_auto_rows": null,
            "grid_gap": null,
            "max_width": null,
            "order": null,
            "_view_module_version": "1.2.0",
            "grid_template_areas": null,
            "object_position": null,
            "object_fit": null,
            "grid_auto_columns": null,
            "margin": null,
            "display": null,
            "left": null
          }
        },
        "0454b4c0d69a45cda5c0c7773119a02f": {
          "model_module": "@jupyter-widgets/controls",
          "model_name": "ProgressStyleModel",
          "model_module_version": "1.5.0",
          "state": {
            "_view_name": "StyleView",
            "_model_name": "ProgressStyleModel",
            "description_width": "",
            "_view_module": "@jupyter-widgets/base",
            "_model_module_version": "1.5.0",
            "_view_count": null,
            "_view_module_version": "1.2.0",
            "bar_color": null,
            "_model_module": "@jupyter-widgets/controls"
          }
        },
        "de01c7a1ef1f48e2b5e83c202f7aec5a": {
          "model_module": "@jupyter-widgets/base",
          "model_name": "LayoutModel",
          "model_module_version": "1.2.0",
          "state": {
            "_view_name": "LayoutView",
            "grid_template_rows": null,
            "right": null,
            "justify_content": null,
            "_view_module": "@jupyter-widgets/base",
            "overflow": null,
            "_model_module_version": "1.2.0",
            "_view_count": null,
            "flex_flow": null,
            "width": null,
            "min_width": null,
            "border": null,
            "align_items": null,
            "bottom": null,
            "_model_module": "@jupyter-widgets/base",
            "top": null,
            "grid_column": null,
            "overflow_y": null,
            "overflow_x": null,
            "grid_auto_flow": null,
            "grid_area": null,
            "grid_template_columns": null,
            "flex": null,
            "_model_name": "LayoutModel",
            "justify_items": null,
            "grid_row": null,
            "max_height": null,
            "align_content": null,
            "visibility": null,
            "align_self": null,
            "height": null,
            "min_height": null,
            "padding": null,
            "grid_auto_rows": null,
            "grid_gap": null,
            "max_width": null,
            "order": null,
            "_view_module_version": "1.2.0",
            "grid_template_areas": null,
            "object_position": null,
            "object_fit": null,
            "grid_auto_columns": null,
            "margin": null,
            "display": null,
            "left": null
          }
        },
        "75a9695c03f84ddc82a1ebd17a7cdd17": {
          "model_module": "@jupyter-widgets/controls",
          "model_name": "DescriptionStyleModel",
          "model_module_version": "1.5.0",
          "state": {
            "_view_name": "StyleView",
            "_model_name": "DescriptionStyleModel",
            "description_width": "",
            "_view_module": "@jupyter-widgets/base",
            "_model_module_version": "1.5.0",
            "_view_count": null,
            "_view_module_version": "1.2.0",
            "_model_module": "@jupyter-widgets/controls"
          }
        },
        "97c326f8fd8c41508f057572f9e6e07b": {
          "model_module": "@jupyter-widgets/base",
          "model_name": "LayoutModel",
          "model_module_version": "1.2.0",
          "state": {
            "_view_name": "LayoutView",
            "grid_template_rows": null,
            "right": null,
            "justify_content": null,
            "_view_module": "@jupyter-widgets/base",
            "overflow": null,
            "_model_module_version": "1.2.0",
            "_view_count": null,
            "flex_flow": null,
            "width": null,
            "min_width": null,
            "border": null,
            "align_items": null,
            "bottom": null,
            "_model_module": "@jupyter-widgets/base",
            "top": null,
            "grid_column": null,
            "overflow_y": null,
            "overflow_x": null,
            "grid_auto_flow": null,
            "grid_area": null,
            "grid_template_columns": null,
            "flex": null,
            "_model_name": "LayoutModel",
            "justify_items": null,
            "grid_row": null,
            "max_height": null,
            "align_content": null,
            "visibility": null,
            "align_self": null,
            "height": null,
            "min_height": null,
            "padding": null,
            "grid_auto_rows": null,
            "grid_gap": null,
            "max_width": null,
            "order": null,
            "_view_module_version": "1.2.0",
            "grid_template_areas": null,
            "object_position": null,
            "object_fit": null,
            "grid_auto_columns": null,
            "margin": null,
            "display": null,
            "left": null
          }
        }
      }
    }
  },
  "cells": [
    {
      "cell_type": "markdown",
      "metadata": {
        "id": "view-in-github",
        "colab_type": "text"
      },
      "source": [
        "<a href=\"https://colab.research.google.com/github/d1p013/testing/blob/master/Copy_of_AI6122_Assignment_Simple_Search_Engine.ipynb\" target=\"_parent\"><img src=\"https://colab.research.google.com/assets/colab-badge.svg\" alt=\"Open In Colab\"/></a>"
      ]
    },
    {
      "cell_type": "markdown",
      "metadata": {
        "id": "TNdMHD8LS2Bm"
      },
      "source": [
        "# PyTerrier Indexing Demo\n",
        "\n",
        "This notebook takes you through indexing using [PyTerrier](https://github.com/terrier-org/pyterrier)."
      ]
    },
    {
      "cell_type": "markdown",
      "metadata": {
        "id": "pkMrNonZrpEg"
      },
      "source": [
        "## Prerequisites\n",
        "\n",
        "You will need PyTerrier installed. PyTerrier also needs Java to be installed, and will find most installations."
      ]
    },
    {
      "cell_type": "code",
      "metadata": {
        "id": "JWLqWXBHeBRc",
        "colab": {
          "base_uri": "https://localhost:8080/"
        },
        "outputId": "10c3d509-7c73-4540-eff2-3d08ae7c9843"
      },
      "source": [
        "!pip install python-terrier\n",
        "#!pip install --upgrade git+https://github.com/terrier-org/pyterrier.git#egg=python-terrier"
      ],
      "execution_count": 41,
      "outputs": [
        {
          "output_type": "stream",
          "name": "stdout",
          "text": [
            "Requirement already satisfied: python-terrier in /usr/local/lib/python3.7/dist-packages (0.7.0)\n",
            "Requirement already satisfied: ir-measures>=0.2.0 in /usr/local/lib/python3.7/dist-packages (from python-terrier) (0.2.1)\n",
            "Requirement already satisfied: more-itertools in /usr/local/lib/python3.7/dist-packages (from python-terrier) (8.10.0)\n",
            "Requirement already satisfied: scipy in /usr/local/lib/python3.7/dist-packages (from python-terrier) (1.4.1)\n",
            "Requirement already satisfied: jinja2 in /usr/local/lib/python3.7/dist-packages (from python-terrier) (2.11.3)\n",
            "Requirement already satisfied: nptyping in /usr/local/lib/python3.7/dist-packages (from python-terrier) (1.4.4)\n",
            "Requirement already satisfied: wget in /usr/local/lib/python3.7/dist-packages (from python-terrier) (3.2)\n",
            "Requirement already satisfied: pyjnius~=1.3.0 in /usr/local/lib/python3.7/dist-packages (from python-terrier) (1.3.0)\n",
            "Requirement already satisfied: ir-datasets>=0.3.2 in /usr/local/lib/python3.7/dist-packages (from python-terrier) (0.4.3)\n",
            "Requirement already satisfied: deprecation in /usr/local/lib/python3.7/dist-packages (from python-terrier) (2.1.0)\n",
            "Requirement already satisfied: pandas in /usr/local/lib/python3.7/dist-packages (from python-terrier) (1.1.5)\n",
            "Requirement already satisfied: matchpy in /usr/local/lib/python3.7/dist-packages (from python-terrier) (0.5.4)\n",
            "Requirement already satisfied: chest in /usr/local/lib/python3.7/dist-packages (from python-terrier) (0.2.3)\n",
            "Requirement already satisfied: tqdm in /usr/local/lib/python3.7/dist-packages (from python-terrier) (4.62.3)\n",
            "Requirement already satisfied: requests in /usr/local/lib/python3.7/dist-packages (from python-terrier) (2.23.0)\n",
            "Requirement already satisfied: statsmodels in /usr/local/lib/python3.7/dist-packages (from python-terrier) (0.10.2)\n",
            "Requirement already satisfied: dill in /usr/local/lib/python3.7/dist-packages (from python-terrier) (0.3.4)\n",
            "Requirement already satisfied: sklearn in /usr/local/lib/python3.7/dist-packages (from python-terrier) (0.0)\n",
            "Requirement already satisfied: joblib in /usr/local/lib/python3.7/dist-packages (from python-terrier) (1.0.1)\n",
            "Requirement already satisfied: numpy in /usr/local/lib/python3.7/dist-packages (from python-terrier) (1.19.5)\n",
            "Requirement already satisfied: beautifulsoup4>=4.4.1 in /usr/local/lib/python3.7/dist-packages (from ir-datasets>=0.3.2->python-terrier) (4.6.3)\n",
            "Requirement already satisfied: ijson>=3.1.3 in /usr/local/lib/python3.7/dist-packages (from ir-datasets>=0.3.2->python-terrier) (3.1.4)\n",
            "Requirement already satisfied: lxml>=4.5.2 in /usr/local/lib/python3.7/dist-packages (from ir-datasets>=0.3.2->python-terrier) (4.6.3)\n",
            "Requirement already satisfied: trec-car-tools>=2.5.4 in /usr/local/lib/python3.7/dist-packages (from ir-datasets>=0.3.2->python-terrier) (2.5.4)\n",
            "Requirement already satisfied: pyyaml>=5.3.1 in /usr/local/lib/python3.7/dist-packages (from ir-datasets>=0.3.2->python-terrier) (5.4.1)\n",
            "Requirement already satisfied: pyautocorpus>=0.1.1 in /usr/local/lib/python3.7/dist-packages (from ir-datasets>=0.3.2->python-terrier) (0.1.6)\n",
            "Requirement already satisfied: lz4>=3.1.1 in /usr/local/lib/python3.7/dist-packages (from ir-datasets>=0.3.2->python-terrier) (3.1.3)\n",
            "Requirement already satisfied: warc3-wet>=0.2.3 in /usr/local/lib/python3.7/dist-packages (from ir-datasets>=0.3.2->python-terrier) (0.2.3)\n",
            "Requirement already satisfied: zlib-state>=0.1.3 in /usr/local/lib/python3.7/dist-packages (from ir-datasets>=0.3.2->python-terrier) (0.1.3)\n",
            "Requirement already satisfied: warc3-wet-clueweb09>=0.2.5 in /usr/local/lib/python3.7/dist-packages (from ir-datasets>=0.3.2->python-terrier) (0.2.5)\n",
            "Requirement already satisfied: cwl-eval>=1.0.10 in /usr/local/lib/python3.7/dist-packages (from ir-measures>=0.2.0->python-terrier) (1.0.10)\n",
            "Requirement already satisfied: pytrec-eval-terrier==0.5.1 in /usr/local/lib/python3.7/dist-packages (from ir-measures>=0.2.0->python-terrier) (0.5.1)\n",
            "Requirement already satisfied: six>=1.7.0 in /usr/local/lib/python3.7/dist-packages (from pyjnius~=1.3.0->python-terrier) (1.15.0)\n",
            "Requirement already satisfied: cython in /usr/local/lib/python3.7/dist-packages (from pyjnius~=1.3.0->python-terrier) (0.29.24)\n",
            "Requirement already satisfied: certifi>=2017.4.17 in /usr/local/lib/python3.7/dist-packages (from requests->python-terrier) (2021.5.30)\n",
            "Requirement already satisfied: chardet<4,>=3.0.2 in /usr/local/lib/python3.7/dist-packages (from requests->python-terrier) (3.0.4)\n",
            "Requirement already satisfied: idna<3,>=2.5 in /usr/local/lib/python3.7/dist-packages (from requests->python-terrier) (2.10)\n",
            "Requirement already satisfied: urllib3!=1.25.0,!=1.25.1,<1.26,>=1.21.1 in /usr/local/lib/python3.7/dist-packages (from requests->python-terrier) (1.24.3)\n",
            "Requirement already satisfied: cbor>=1.0.0 in /usr/local/lib/python3.7/dist-packages (from trec-car-tools>=2.5.4->ir-datasets>=0.3.2->python-terrier) (1.0.0)\n",
            "Requirement already satisfied: heapdict in /usr/local/lib/python3.7/dist-packages (from chest->python-terrier) (1.0.1)\n",
            "Requirement already satisfied: packaging in /usr/local/lib/python3.7/dist-packages (from deprecation->python-terrier) (21.0)\n",
            "Requirement already satisfied: MarkupSafe>=0.23 in /usr/local/lib/python3.7/dist-packages (from jinja2->python-terrier) (2.0.1)\n",
            "Requirement already satisfied: multiset<3.0,>=2.0 in /usr/local/lib/python3.7/dist-packages (from matchpy->python-terrier) (2.1.1)\n",
            "Requirement already satisfied: typish>=1.7.0 in /usr/local/lib/python3.7/dist-packages (from nptyping->python-terrier) (1.9.3)\n",
            "Requirement already satisfied: pyparsing>=2.0.2 in /usr/local/lib/python3.7/dist-packages (from packaging->deprecation->python-terrier) (2.4.7)\n",
            "Requirement already satisfied: pytz>=2017.2 in /usr/local/lib/python3.7/dist-packages (from pandas->python-terrier) (2018.9)\n",
            "Requirement already satisfied: python-dateutil>=2.7.3 in /usr/local/lib/python3.7/dist-packages (from pandas->python-terrier) (2.8.2)\n",
            "Requirement already satisfied: scikit-learn in /usr/local/lib/python3.7/dist-packages (from sklearn->python-terrier) (0.22.2.post1)\n",
            "Requirement already satisfied: patsy>=0.4.0 in /usr/local/lib/python3.7/dist-packages (from statsmodels->python-terrier) (0.5.2)\n"
          ]
        }
      ]
    },
    {
      "cell_type": "markdown",
      "metadata": {
        "id": "ixzDjvtTOQbB"
      },
      "source": [
        "## Init \n",
        "\n",
        "You must run `pt.init()` before other pyterrier functions and classes\n",
        "\n",
        "Optional Arguments:    \n",
        " - `version` - terrier IR version e.g. \"5.2\"    \n",
        " - `mem` - megabytes allocated to java e.g. \"4096\"      \n",
        " - `packages` - external java packages for Terrier to load e.g. [\"org.terrier:terrier.prf\"]\n",
        " - `logging` - logging level for Terrier. Defaults to \"WARN\", use \"INFO\" or \"DEBUG\" for more output.\n",
        "\n",
        "NB: PyTerrier needs Java 11 installed. If it cannot find your Java installation, you can set the `JAVA_HOME` environment variable."
      ]
    },
    {
      "cell_type": "code",
      "metadata": {
        "id": "k3ltUZ8PgWmz"
      },
      "source": [
        "import pyterrier as pt\n",
        "if not pt.started():\n",
        "  pt.init()"
      ],
      "execution_count": 42,
      "outputs": []
    },
    {
      "cell_type": "code",
      "metadata": {
        "id": "9-DSyic7WvPJ"
      },
      "source": [
        " #vaswani_dataset = pt.datasets.get_dataset(\"vaswani\")\n",
        " #indexref = vaswani_dataset.get_index()\n",
        " #index = pt.IndexFactory.of(indexref)\n",
        " #print(index.getCollectionStatistics().toString()) "
      ],
      "execution_count": 43,
      "outputs": []
    },
    {
      "cell_type": "code",
      "metadata": {
        "id": "Lx6Uf6M2WxrD"
      },
      "source": [
        "#topics = vaswani_dataset.get_topics()\n",
        "#topics.head(5) "
      ],
      "execution_count": 44,
      "outputs": []
    },
    {
      "cell_type": "code",
      "metadata": {
        "id": "tSfGwAYVXFeT"
      },
      "source": [
        "#retr = pt.BatchRetrieve(index, controls = {\"wmodel\": \"TF_IDF\"}, num_results=10)\n",
        "#retr.setControl(\"wmodel\", \"TF_IDF\")\n",
        "#retr.setControls({\"wmodel\": \"TF_IDF\"})\n",
        "#res=retr.transform(topics)\n",
        "#res "
      ],
      "execution_count": 45,
      "outputs": []
    },
    {
      "cell_type": "markdown",
      "metadata": {
        "id": "oumbzZuwGM9-"
      },
      "source": [
        " ## Importing dataset from Google Drive\n",
        "\n",
        "Using built-in function of Google Colab, we can easily import the dataset which hsa been uploaded onto Google Drive beforehand"
      ]
    },
    {
      "cell_type": "code",
      "metadata": {
        "id": "PFF_NGltOyZK"
      },
      "source": [
        "# Import PyDrive and associated libraries.\n",
        "# This only needs to be done once per notebook.\n",
        "from pydrive.auth import GoogleAuth\n",
        "from pydrive.drive import GoogleDrive\n",
        "from google.colab import auth\n",
        "from oauth2client.client import GoogleCredentials\n",
        "\n",
        "# Authenticate and create the PyDrive client.\n",
        "# This only needs to be done once per notebook.\n",
        "auth.authenticate_user()\n",
        "gauth = GoogleAuth()\n",
        "gauth.credentials = GoogleCredentials.get_application_default()\n",
        "drive = GoogleDrive(gauth)\n",
        "\n",
        "# Download a file based on its file ID which is residing on Google Drive\n",
        "#\n",
        "# A file ID looks like: laggVyWshwcyP6kEI-y_W3P8D26sz\n",
        "# file_id = '1YkltHAl3Ro9xv25EkGB56h271_STNlPA' #'AI6122_Dataset_B1.csv'\n",
        "file_id = '1aVXMJ_luTXISxMwP5_Bt2xE0ObXqEsQ2' #\"Dataset_B1to8\"\n",
        "\n",
        "downloaded = drive.CreateFile({'id': file_id})\n",
        "#print('Downloaded content \"{}\"'.format(downloaded.GetContentString()))\n",
        "#downloaded.GetContentFile('AI6122_Dataset_B1.csv')\n",
        "downloaded.GetContentFile('Dataset_B1to8.csv')"
      ],
      "execution_count": 46,
      "outputs": []
    },
    {
      "cell_type": "markdown",
      "metadata": {
        "id": "wGV18JV1P129"
      },
      "source": [
        "## Loading dataset (csv) into Pandas dataframe\n",
        "\n",
        "pyTerrier makes it easy to index standard Python data structures, particularly [Pandas dataframes](https://pandas.pydata.org/pandas-docs/stable/reference/api/pandas.DataFrame.html).\n",
        "\n",
        "importing dataset, which is scale down version of the original `review.json` file as the original file is too large to load into Google Colab memory\n"
      ]
    },
    {
      "cell_type": "code",
      "metadata": {
        "id": "r86UHesmt0Wc"
      },
      "source": [
        "## load data into df\n",
        "import pandas as pd\n",
        "#df = pd.read_csv(\"AI6122_Dataset_B1.csv\", dtype = str)\n",
        "df = pd.read_csv(\"Dataset_B1to8.csv\", dtype = str)\n",
        "\n",
        "try :\n",
        "  del docno \n",
        "except:\n",
        "  pass\n",
        "\n",
        "##docno = list(range(1,len(df)+1))\n",
        "##df['docno'] = docno\n",
        "##df = df.astype({\"docno\" : str})\n",
        "#print(type(df[\"docno\"][0]))\n",
        "\n",
        "docno =[]\n",
        "for idx in range(1,len(df)+1):\n",
        "  docno.append(\"d\" + str(idx))\n",
        "\n",
        "df[\"docno\"] = docno\n"
      ],
      "execution_count": 47,
      "outputs": []
    },
    {
      "cell_type": "code",
      "metadata": {
        "colab": {
          "base_uri": "https://localhost:8080/",
          "height": 1000
        },
        "id": "1emps_EChsok",
        "outputId": "ad6baab2-577c-4b97-e577-a62c5fd9d072"
      },
      "source": [
        "df"
      ],
      "execution_count": 48,
      "outputs": [
        {
          "output_type": "execute_result",
          "data": {
            "text/html": [
              "<div>\n",
              "<style scoped>\n",
              "    .dataframe tbody tr th:only-of-type {\n",
              "        vertical-align: middle;\n",
              "    }\n",
              "\n",
              "    .dataframe tbody tr th {\n",
              "        vertical-align: top;\n",
              "    }\n",
              "\n",
              "    .dataframe thead th {\n",
              "        text-align: right;\n",
              "    }\n",
              "</style>\n",
              "<table border=\"1\" class=\"dataframe\">\n",
              "  <thead>\n",
              "    <tr style=\"text-align: right;\">\n",
              "      <th></th>\n",
              "      <th>Unnamed: 0</th>\n",
              "      <th>review_id</th>\n",
              "      <th>user_id</th>\n",
              "      <th>business_id</th>\n",
              "      <th>stars</th>\n",
              "      <th>useful</th>\n",
              "      <th>funny</th>\n",
              "      <th>cool</th>\n",
              "      <th>text</th>\n",
              "      <th>date</th>\n",
              "      <th>docno</th>\n",
              "    </tr>\n",
              "  </thead>\n",
              "  <tbody>\n",
              "    <tr>\n",
              "      <th>0</th>\n",
              "      <td>5160031</td>\n",
              "      <td>1dZ2Vjex6D4FcGUvc633xw</td>\n",
              "      <td>S2IaUH7jqGg021oJ1jo27w</td>\n",
              "      <td>Slj9yz_RfDRqiMRH8VxUMQ</td>\n",
              "      <td>3</td>\n",
              "      <td>0</td>\n",
              "      <td>0</td>\n",
              "      <td>0</td>\n",
              "      <td>Really cute restaurant with lots of character....</td>\n",
              "      <td>3/23/2018 13:51</td>\n",
              "      <td>d1</td>\n",
              "    </tr>\n",
              "    <tr>\n",
              "      <th>1</th>\n",
              "      <td>5161915</td>\n",
              "      <td>XTOOwso4XocpgvfzUrLahQ</td>\n",
              "      <td>1-ikyrBXfTij5k6M4nTaZg</td>\n",
              "      <td>Slj9yz_RfDRqiMRH8VxUMQ</td>\n",
              "      <td>5</td>\n",
              "      <td>1</td>\n",
              "      <td>0</td>\n",
              "      <td>0</td>\n",
              "      <td>We visited when my wife and I came to Atlanta....</td>\n",
              "      <td>2/1/2018 20:08</td>\n",
              "      <td>d2</td>\n",
              "    </tr>\n",
              "    <tr>\n",
              "      <th>2</th>\n",
              "      <td>5162697</td>\n",
              "      <td>Dq--78gS7JHHHCoryoUSsA</td>\n",
              "      <td>1ohGAyANSWmHI1k5h5t3BA</td>\n",
              "      <td>Slj9yz_RfDRqiMRH8VxUMQ</td>\n",
              "      <td>4</td>\n",
              "      <td>0</td>\n",
              "      <td>0</td>\n",
              "      <td>0</td>\n",
              "      <td>I came here for lunch one day to pick up an or...</td>\n",
              "      <td>1/21/2018 15:25</td>\n",
              "      <td>d3</td>\n",
              "    </tr>\n",
              "    <tr>\n",
              "      <th>3</th>\n",
              "      <td>5162961</td>\n",
              "      <td>K1aPKM6fRpNXmpiRgjclbg</td>\n",
              "      <td>cFNmQ_EUjcNeF7aS4sz19Q</td>\n",
              "      <td>Slj9yz_RfDRqiMRH8VxUMQ</td>\n",
              "      <td>5</td>\n",
              "      <td>0</td>\n",
              "      <td>0</td>\n",
              "      <td>0</td>\n",
              "      <td>Our waitress was EXTREMELY courteous. She chec...</td>\n",
              "      <td>12/15/2017 23:56</td>\n",
              "      <td>d4</td>\n",
              "    </tr>\n",
              "    <tr>\n",
              "      <th>4</th>\n",
              "      <td>5164768</td>\n",
              "      <td>CM9C7n3QvBwA9nsaPRSExg</td>\n",
              "      <td>TZFhgwVEkGurFBEsqmi21A</td>\n",
              "      <td>Slj9yz_RfDRqiMRH8VxUMQ</td>\n",
              "      <td>3</td>\n",
              "      <td>1</td>\n",
              "      <td>0</td>\n",
              "      <td>0</td>\n",
              "      <td>I had the lasagna calzone.  The calzone was sm...</td>\n",
              "      <td>6/7/2017 0:03</td>\n",
              "      <td>d5</td>\n",
              "    </tr>\n",
              "    <tr>\n",
              "      <th>...</th>\n",
              "      <td>...</td>\n",
              "      <td>...</td>\n",
              "      <td>...</td>\n",
              "      <td>...</td>\n",
              "      <td>...</td>\n",
              "      <td>...</td>\n",
              "      <td>...</td>\n",
              "      <td>...</td>\n",
              "      <td>...</td>\n",
              "      <td>...</td>\n",
              "      <td>...</td>\n",
              "    </tr>\n",
              "    <tr>\n",
              "      <th>6923</th>\n",
              "      <td>6908034</td>\n",
              "      <td>CtRRUmxAq0HfODwST8gosg</td>\n",
              "      <td>aQjzoc8SNx_4AtsRpjKO_Q</td>\n",
              "      <td>sjgbSELDpzaabRe8bZwUbw</td>\n",
              "      <td>5</td>\n",
              "      <td>2</td>\n",
              "      <td>0</td>\n",
              "      <td>2</td>\n",
              "      <td>GET THE POBLANO JACK SAUSAGES! As soon as I to...</td>\n",
              "      <td>43780.83669</td>\n",
              "      <td>d6924</td>\n",
              "    </tr>\n",
              "    <tr>\n",
              "      <th>6924</th>\n",
              "      <td>6908143</td>\n",
              "      <td>s3flK9z_AodnefTzZSLI4w</td>\n",
              "      <td>7j-CRT0QYjTl_mHzLL_udQ</td>\n",
              "      <td>sjgbSELDpzaabRe8bZwUbw</td>\n",
              "      <td>5</td>\n",
              "      <td>2</td>\n",
              "      <td>0</td>\n",
              "      <td>1</td>\n",
              "      <td>Came to Micklethwait's and was surprised the l...</td>\n",
              "      <td>42756.95071</td>\n",
              "      <td>d6925</td>\n",
              "    </tr>\n",
              "    <tr>\n",
              "      <th>6925</th>\n",
              "      <td>6909152</td>\n",
              "      <td>hxl3_vk_jvWNG6UB8ALqCQ</td>\n",
              "      <td>M9hpSOJG67mGXuwlansGjg</td>\n",
              "      <td>sjgbSELDpzaabRe8bZwUbw</td>\n",
              "      <td>4</td>\n",
              "      <td>4</td>\n",
              "      <td>1</td>\n",
              "      <td>3</td>\n",
              "      <td>I had time for only one barbecue place during ...</td>\n",
              "      <td>43755.8102</td>\n",
              "      <td>d6926</td>\n",
              "    </tr>\n",
              "    <tr>\n",
              "      <th>6926</th>\n",
              "      <td>6909297</td>\n",
              "      <td>XjlTk4oYHT0e-muMKxwa9w</td>\n",
              "      <td>fvbJChNvoxBnIztSMNqLjA</td>\n",
              "      <td>sjgbSELDpzaabRe8bZwUbw</td>\n",
              "      <td>3</td>\n",
              "      <td>0</td>\n",
              "      <td>0</td>\n",
              "      <td>0</td>\n",
              "      <td>I ordered a pound of brisket and turkey. I als...</td>\n",
              "      <td>44156.92817</td>\n",
              "      <td>d6927</td>\n",
              "    </tr>\n",
              "    <tr>\n",
              "      <th>6927</th>\n",
              "      <td>6912251</td>\n",
              "      <td>EE9Izb_i5iHZ-8WKVjrNJg</td>\n",
              "      <td>ZsSfi9qqRfP7xMze4V6JNg</td>\n",
              "      <td>sjgbSELDpzaabRe8bZwUbw</td>\n",
              "      <td>5</td>\n",
              "      <td>1</td>\n",
              "      <td>0</td>\n",
              "      <td>0</td>\n",
              "      <td>YOU MUST TRY THE BEEF SHORTRIB. We initially c...</td>\n",
              "      <td>43621.63041</td>\n",
              "      <td>d6928</td>\n",
              "    </tr>\n",
              "  </tbody>\n",
              "</table>\n",
              "<p>6928 rows × 11 columns</p>\n",
              "</div>"
            ],
            "text/plain": [
              "     Unnamed: 0               review_id  ...              date  docno\n",
              "0       5160031  1dZ2Vjex6D4FcGUvc633xw  ...   3/23/2018 13:51     d1\n",
              "1       5161915  XTOOwso4XocpgvfzUrLahQ  ...    2/1/2018 20:08     d2\n",
              "2       5162697  Dq--78gS7JHHHCoryoUSsA  ...   1/21/2018 15:25     d3\n",
              "3       5162961  K1aPKM6fRpNXmpiRgjclbg  ...  12/15/2017 23:56     d4\n",
              "4       5164768  CM9C7n3QvBwA9nsaPRSExg  ...     6/7/2017 0:03     d5\n",
              "...         ...                     ...  ...               ...    ...\n",
              "6923    6908034  CtRRUmxAq0HfODwST8gosg  ...       43780.83669  d6924\n",
              "6924    6908143  s3flK9z_AodnefTzZSLI4w  ...       42756.95071  d6925\n",
              "6925    6909152  hxl3_vk_jvWNG6UB8ALqCQ  ...        43755.8102  d6926\n",
              "6926    6909297  XjlTk4oYHT0e-muMKxwa9w  ...       44156.92817  d6927\n",
              "6927    6912251  EE9Izb_i5iHZ-8WKVjrNJg  ...       43621.63041  d6928\n",
              "\n",
              "[6928 rows x 11 columns]"
            ]
          },
          "metadata": {},
          "execution_count": 48
        }
      ]
    },
    {
      "cell_type": "markdown",
      "metadata": {
        "id": "S9KZ2QDYEt-k"
      },
      "source": [
        "## Time taken for indexing\n",
        "\n",
        "Tracking the time to complete indexing for each 10% incremental of documents. The index folder is cleared before each indexing and time and is taken before and after indexing, the difference being the time taken to index\n"
      ]
    },
    {
      "cell_type": "code",
      "metadata": {
        "id": "xv44JX_cqa4G",
        "colab": {
          "base_uri": "https://localhost:8080/",
          "height": 507,
          "referenced_widgets": [
            "c197c3d095e449c3a6a8cec27dade9f0",
            "2fe83a40de924d62bd1ece1070ae902c",
            "883ec379240a404b872a524de7502acf",
            "2617e5f70ab34f0984a1581b905b81a0",
            "c2ca34b91ca9491b9284a0d6444ecc77",
            "fa4b18ee43ec47b193a757d7cc0a850d",
            "dd49dd60fa7246b9bbf155e572234d21",
            "7656c55c969c47989b9d78e869d7643d",
            "ccce365fdd374f2e94b840ddd8d7fa8c",
            "c630d586006441639b74f1b025b9a130",
            "ca5e146dfa2b4696bf81143e9da20d48",
            "2b43c759fdc24a5e89418da0f63294cb",
            "a24bad3612ec4e578fbda96e8820c3f2",
            "caa0733094794c018a7b9a599c5947dd",
            "cf8ad4b350c54dd3acc8a520d7d16a6f",
            "0a854334231445ab9d939d7f30b2d430",
            "22b818fe36a4487c9ac0e2141808517e",
            "6f9b269117c147ab897f07dc4d57ce39",
            "8c435c6e89f046369e7d65eedc030f58",
            "ae5798c27b7042ea825327034e3f8de6"
          ]
        },
        "outputId": "f010b41f-b70a-4c63-db08-77043d04f07d"
      },
      "source": [
        "import time\n",
        "\n",
        "Tcollect = []\n",
        "for idx in range(1,11):\n",
        "  #print(idx)\n",
        "  df_resize = df.iloc[:int(len(df)/(10/idx)),:]\n",
        "  !rm -rf ./pd_index\n",
        "  pd_indexer = pt.DFIndexer(\"./pd_index\", overwrite=True, verbose=True)\n",
        "  Tstart = time.perf_counter()\n",
        "  indexref = pd_indexer.index(df_resize[\"text\"], df_resize)\n",
        "  Tend = time.perf_counter()\n",
        "  print(str(10*idx)+f\"% df search completed in {Tend - Tstart:0.4f} seconds\")\n",
        "  Tcollect.append(Tend - Tstart)\n",
        "\n"
      ],
      "execution_count": 49,
      "outputs": [
        {
          "output_type": "display_data",
          "data": {
            "application/vnd.jupyter.widget-view+json": {
              "model_id": "c197c3d095e449c3a6a8cec27dade9f0",
              "version_minor": 0,
              "version_major": 2
            },
            "text/plain": [
              "  0%|          | 0/692 [00:00<?, ?documents/s]"
            ]
          },
          "metadata": {}
        },
        {
          "output_type": "stream",
          "name": "stdout",
          "text": [
            "10% df search completed in 1.7759 seconds\n"
          ]
        },
        {
          "output_type": "display_data",
          "data": {
            "application/vnd.jupyter.widget-view+json": {
              "model_id": "2b43c759fdc24a5e89418da0f63294cb",
              "version_minor": 0,
              "version_major": 2
            },
            "text/plain": [
              "  0%|          | 0/1385 [00:00<?, ?documents/s]"
            ]
          },
          "metadata": {}
        },
        {
          "output_type": "stream",
          "name": "stdout",
          "text": [
            "20% df search completed in 2.4152 seconds\n"
          ]
        },
        {
          "output_type": "display_data",
          "data": {
            "application/vnd.jupyter.widget-view+json": {
              "model_id": "a24bad3612ec4e578fbda96e8820c3f2",
              "version_minor": 0,
              "version_major": 2
            },
            "text/plain": [
              "  0%|          | 0/2078 [00:00<?, ?documents/s]"
            ]
          },
          "metadata": {}
        },
        {
          "output_type": "stream",
          "name": "stdout",
          "text": [
            "30% df search completed in 3.1185 seconds\n"
          ]
        },
        {
          "output_type": "display_data",
          "data": {
            "application/vnd.jupyter.widget-view+json": {
              "model_id": "caa0733094794c018a7b9a599c5947dd",
              "version_minor": 0,
              "version_major": 2
            },
            "text/plain": [
              "  0%|          | 0/2771 [00:00<?, ?documents/s]"
            ]
          },
          "metadata": {}
        },
        {
          "output_type": "stream",
          "name": "stdout",
          "text": [
            "40% df search completed in 3.9771 seconds\n"
          ]
        },
        {
          "output_type": "display_data",
          "data": {
            "application/vnd.jupyter.widget-view+json": {
              "model_id": "cf8ad4b350c54dd3acc8a520d7d16a6f",
              "version_minor": 0,
              "version_major": 2
            },
            "text/plain": [
              "  0%|          | 0/3464 [00:00<?, ?documents/s]"
            ]
          },
          "metadata": {}
        },
        {
          "output_type": "stream",
          "name": "stdout",
          "text": [
            "50% df search completed in 4.8830 seconds\n"
          ]
        },
        {
          "output_type": "display_data",
          "data": {
            "application/vnd.jupyter.widget-view+json": {
              "model_id": "0a854334231445ab9d939d7f30b2d430",
              "version_minor": 0,
              "version_major": 2
            },
            "text/plain": [
              "  0%|          | 0/4156 [00:00<?, ?documents/s]"
            ]
          },
          "metadata": {}
        },
        {
          "output_type": "stream",
          "name": "stdout",
          "text": [
            "60% df search completed in 5.5911 seconds\n"
          ]
        },
        {
          "output_type": "display_data",
          "data": {
            "application/vnd.jupyter.widget-view+json": {
              "model_id": "22b818fe36a4487c9ac0e2141808517e",
              "version_minor": 0,
              "version_major": 2
            },
            "text/plain": [
              "  0%|          | 0/4849 [00:00<?, ?documents/s]"
            ]
          },
          "metadata": {}
        },
        {
          "output_type": "stream",
          "name": "stdout",
          "text": [
            "70% df search completed in 6.4076 seconds\n"
          ]
        },
        {
          "output_type": "display_data",
          "data": {
            "application/vnd.jupyter.widget-view+json": {
              "model_id": "6f9b269117c147ab897f07dc4d57ce39",
              "version_minor": 0,
              "version_major": 2
            },
            "text/plain": [
              "  0%|          | 0/5542 [00:00<?, ?documents/s]"
            ]
          },
          "metadata": {}
        },
        {
          "output_type": "stream",
          "name": "stdout",
          "text": [
            "80% df search completed in 7.1910 seconds\n"
          ]
        },
        {
          "output_type": "display_data",
          "data": {
            "application/vnd.jupyter.widget-view+json": {
              "model_id": "8c435c6e89f046369e7d65eedc030f58",
              "version_minor": 0,
              "version_major": 2
            },
            "text/plain": [
              "  0%|          | 0/6235 [00:00<?, ?documents/s]"
            ]
          },
          "metadata": {}
        },
        {
          "output_type": "stream",
          "name": "stdout",
          "text": [
            "90% df search completed in 7.8704 seconds\n"
          ]
        },
        {
          "output_type": "display_data",
          "data": {
            "application/vnd.jupyter.widget-view+json": {
              "model_id": "ae5798c27b7042ea825327034e3f8de6",
              "version_minor": 0,
              "version_major": 2
            },
            "text/plain": [
              "  0%|          | 0/6928 [00:00<?, ?documents/s]"
            ]
          },
          "metadata": {}
        },
        {
          "output_type": "stream",
          "name": "stdout",
          "text": [
            "100% df search completed in 8.7727 seconds\n"
          ]
        }
      ]
    },
    {
      "cell_type": "code",
      "metadata": {
        "colab": {
          "base_uri": "https://localhost:8080/",
          "height": 280
        },
        "id": "AknJkV0KdNOn",
        "outputId": "1402adf9-de01-44b4-f6e7-9a9cee1d43a6"
      },
      "source": [
        "import matplotlib.pyplot as plt\n",
        "\n",
        "plotdf = pd.DataFrame({\n",
        "    'Percentage Completed':['10%', '20%', '30%', '40%', '50%', \n",
        "                            '60%', '70%', '80%', '90%', '100%'],\n",
        "    'Time(s)':Tcollect\n",
        "    })\n",
        "\n",
        "# a scatter plot comparing num_children and num_pets\n",
        "plotdf.plot(kind='line',x='Percentage Completed',y='Time(s)',color='blue')\n",
        "plt.show()\n"
      ],
      "execution_count": 50,
      "outputs": [
        {
          "output_type": "display_data",
          "data": {
            "image/png": "[encoded data removed]",
            "text/plain": [
              "<Figure size 432x288 with 1 Axes>"
            ]
          },
          "metadata": {
            "needs_background": "light"
          }
        }
      ]
    },
    {
      "cell_type": "markdown",
      "metadata": {
        "id": "by7Mt0TlHIDJ"
      },
      "source": [
        "## Indexing a Pandas dataframe\n",
        "\n",
        "We can use a `pt.DFIndexer()` object to do indexing for Pandas dataframe"
      ]
    },
    {
      "cell_type": "code",
      "metadata": {
        "id": "vw-4NIjlUY16"
      },
      "source": [
        "#import pandas as pd\n",
        "!rm -rf ./pd_index\n",
        "pd_indexer = pt.DFIndexer(\"./pd_index\", overwrite=True, verbose=True)\n",
        "\n",
        "# optionally modify properties\n",
        "# index_properies = {\"block.indexing\":\"true\", \"invertedfile.lexiconscanner\":\"pointers\"}\n",
        "# indexer.setProperties(**index_properies)"
      ],
      "execution_count": 51,
      "outputs": []
    },
    {
      "cell_type": "markdown",
      "metadata": {
        "id": "K-idBQ5OUV9c"
      },
      "source": [
        "Then there are a number of options to index the dataframe:    \n",
        "The first argument should always a pandas.Series object of Strings, which specifies the body of each document.    \n",
        "Any arguments after that are for specifying metadata.\n",
        "\n",
        "We can view more useful information from the indexed objects using a indexref.getCollectionsStatistics()"
      ]
    },
    {
      "cell_type": "code",
      "metadata": {
        "id": "rBXHWO4yUJT7",
        "colab": {
          "base_uri": "https://localhost:8080/",
          "height": 202,
          "referenced_widgets": [
            "590f93a772474f40b46c4bd1e96a9d2a",
            "801895fbd5a645d0900d60fd880e7c36",
            "b02ffbf9b6004b728470b3f9232d9c61",
            "7560e7e09d4e4834aec8348f6c24b19a",
            "d7104568344c47f280705e369949858f",
            "cf799ac678304472882c71ef6394bde2",
            "9d26a553d9b7496fa95f08d009e61b09",
            "0454b4c0d69a45cda5c0c7773119a02f",
            "de01c7a1ef1f48e2b5e83c202f7aec5a",
            "75a9695c03f84ddc82a1ebd17a7cdd17",
            "97c326f8fd8c41508f057572f9e6e07b"
          ]
        },
        "outputId": "40a3ae5c-33cb-4287-cf50-fd753cfe4f85"
      },
      "source": [
        "import time\n",
        "# no metadata\n",
        "# pd_indexer.index(df[\"text\"])\n",
        "\n",
        "# Add metadata fields as Pandas.Series objects, with the name of the Series object becoming the name of the meta field.\n",
        "#indexref = pd_indexer.index(df[\"text\"], df[\"docno\"], df[\"review_id\"], df[\"user_id\"], df[\"business_id\"], df[\"stars\"], df[\"useful\"], df[\"funny\"], df[\"cool\"])\n",
        "Tstart = time.perf_counter()\n",
        "indexref = pd_indexer.index(df[\"text\"], df)\n",
        "Tend = time.perf_counter()\n",
        "print(f\"search completed in {Tend - Tstart:0.4f} seconds\")\n",
        "indexinfo = pt.IndexFactory.of(indexref)\n",
        "print(indexinfo.getCollectionStatistics().toString()) \n",
        "# pd_indexer.index(df[\"text\"], df[\"docno\"], df[\"url\"])\n",
        "\n",
        "# Add metadata fields as lists to a keyword arguement\n",
        "# pd_indexer.index(df[\"text\"], docno=[\"1\",\"2\",\"3\"], url=[\"url1\", \"url2\", \"url3\"])\n",
        "\n",
        "# Add the metadata fields with a dictionary\n",
        "# meta_fields={\"docno\":[\"1\",\"2\",\"3\"],\"url\":[\"url1\", \"url2\", \"url3\"]}\n",
        "# pd_indexer.index(df[\"text\"], **meta_fields)\n",
        "\n",
        "# Add the entire dataframe as metadata\n",
        "# pd_indexer.index(df[\"text\"], df)"
      ],
      "execution_count": 52,
      "outputs": [
        {
          "output_type": "display_data",
          "data": {
            "application/vnd.jupyter.widget-view+json": {
              "model_id": "590f93a772474f40b46c4bd1e96a9d2a",
              "version_minor": 0,
              "version_major": 2
            },
            "text/plain": [
              "  0%|          | 0/6928 [00:00<?, ?documents/s]"
            ]
          },
          "metadata": {}
        },
        {
          "output_type": "stream",
          "name": "stdout",
          "text": [
            "search completed in 8.8008 seconds\n",
            "Number of documents: 6928\n",
            "Number of terms: 12049\n",
            "Number of postings: 323743\n",
            "Number of fields: 0\n",
            "Number of tokens: 388543\n",
            "Field names: []\n",
            "Positions:   false\n",
            "\n"
          ]
        }
      ]
    },
    {
      "cell_type": "markdown",
      "metadata": {
        "id": "EThhcXmwIZu5"
      },
      "source": [
        "In the above example, the indexed collection had 6928 documents, which contained 388543-word occurrences. Out of which 12049 were identified as unique words. The total postings in the inverted index are 323743. \n",
        "\n",
        "The whole datafame is being index, with the `\"text\"` field being searchable while the remaining (e.g. `\"review_id\"`, `\"user_id\"`, `\"business_id\"`, `\"stars\"`, `\"date\"`, `\"useful\"`, `\"funny\"`, `\"cool\"`, `\"text\"`) as metadata which can be displayed when called upon.\n",
        "\n",
        "pyTerrier perform standard stopwords removal and applies Porter's stemmer by default, and it is applicable in this notebook as well."
      ]
    },
    {
      "cell_type": "markdown",
      "metadata": {
        "id": "IKrZNyaUXRMg"
      },
      "source": [
        "## Retrieval\n",
        "\n",
        "Retrieval takes place using the `BatchRetrieve` object, by invoking `transform()` method for one or more queries. For a quick test, you can give just pass your query to `transform()`. \n",
        "\n",
        "BatchRetrieve will return the results as a Pandas dataframe.\n"
      ]
    },
    {
      "cell_type": "code",
      "metadata": {
        "id": "zWj6YnN4Wnsz"
      },
      "source": [
        "#pt.BatchRetrieve(indexref).search(\"so many\")"
      ],
      "execution_count": 53,
      "outputs": []
    },
    {
      "cell_type": "code",
      "metadata": {
        "colab": {
          "base_uri": "https://localhost:8080/",
          "height": 258
        },
        "id": "xbVTWDYuUFud",
        "outputId": "3ed17f12-a692-44cc-b39e-1871f0955f28"
      },
      "source": [
        "\n",
        "#this ranker will make the candidate set of documents for each query\n",
        "BM25 = pt.BatchRetrieve(indexref, controls = {\"wmodel\": \"BM25\"}, num_results=5)\n",
        "#these rankers we will use to re-rank the BM25 results\n",
        "TF_IDF = pt.BatchRetrieve(indexref, controls = {\"wmodel\": \"TF_IDF\"}, num_results=5)\n",
        "PL2 =  pt.BatchRetrieve(indexref, controls = {\"wmodel\": \"PL2\"}, num_results=5)\n",
        "\n",
        "pipe = BM25 >> (TF_IDF ** PL2)\n",
        "pipe.transform(\"really cute restaurant\") \n"
      ],
      "execution_count": 67,
      "outputs": [
        {
          "output_type": "stream",
          "name": "stderr",
          "text": [
            "/usr/local/lib/python3.7/dist-packages/pyterrier/transformer.py:845: FutureWarning: .transform() should be passed a dataframe. Use .search() to execute a single query.\n",
            "  topics = m.transform(topics)\n"
          ]
        },
        {
          "output_type": "execute_result",
          "data": {
            "text/html": [
              "<div>\n",
              "<style scoped>\n",
              "    .dataframe tbody tr th:only-of-type {\n",
              "        vertical-align: middle;\n",
              "    }\n",
              "\n",
              "    .dataframe tbody tr th {\n",
              "        vertical-align: top;\n",
              "    }\n",
              "\n",
              "    .dataframe thead th {\n",
              "        text-align: right;\n",
              "    }\n",
              "</style>\n",
              "<table border=\"1\" class=\"dataframe\">\n",
              "  <thead>\n",
              "    <tr style=\"text-align: right;\">\n",
              "      <th></th>\n",
              "      <th>qid</th>\n",
              "      <th>docid</th>\n",
              "      <th>docno</th>\n",
              "      <th>rank</th>\n",
              "      <th>score</th>\n",
              "      <th>query</th>\n",
              "      <th>features</th>\n",
              "    </tr>\n",
              "  </thead>\n",
              "  <tbody>\n",
              "    <tr>\n",
              "      <th>0</th>\n",
              "      <td>1</td>\n",
              "      <td>5656</td>\n",
              "      <td>d5657</td>\n",
              "      <td>0</td>\n",
              "      <td>11.656181</td>\n",
              "      <td>really cute restaurant</td>\n",
              "      <td>[6.957669848484342, 6.861145712753511]</td>\n",
              "    </tr>\n",
              "    <tr>\n",
              "      <th>1</th>\n",
              "      <td>1</td>\n",
              "      <td>247</td>\n",
              "      <td>d248</td>\n",
              "      <td>1</td>\n",
              "      <td>10.478894</td>\n",
              "      <td>really cute restaurant</td>\n",
              "      <td>[6.254937186160457, 5.707333751062654]</td>\n",
              "    </tr>\n",
              "    <tr>\n",
              "      <th>2</th>\n",
              "      <td>1</td>\n",
              "      <td>3374</td>\n",
              "      <td>d3375</td>\n",
              "      <td>2</td>\n",
              "      <td>10.271409</td>\n",
              "      <td>really cute restaurant</td>\n",
              "      <td>[6.131087801312275, 5.541288977958049]</td>\n",
              "    </tr>\n",
              "    <tr>\n",
              "      <th>3</th>\n",
              "      <td>1</td>\n",
              "      <td>5785</td>\n",
              "      <td>d5786</td>\n",
              "      <td>3</td>\n",
              "      <td>10.009293</td>\n",
              "      <td>really cute restaurant</td>\n",
              "      <td>[5.875657207663913, 5.262894075279536]</td>\n",
              "    </tr>\n",
              "    <tr>\n",
              "      <th>4</th>\n",
              "      <td>1</td>\n",
              "      <td>5183</td>\n",
              "      <td>d5184</td>\n",
              "      <td>4</td>\n",
              "      <td>9.889212</td>\n",
              "      <td>really cute restaurant</td>\n",
              "      <td>[5.995664430264314, 5.490947108412864]</td>\n",
              "    </tr>\n",
              "  </tbody>\n",
              "</table>\n",
              "</div>"
            ],
            "text/plain": [
              "  qid  docid  docno  rank      score                   query  \\\n",
              "0   1   5656  d5657     0  11.656181  really cute restaurant   \n",
              "1   1    247   d248     1  10.478894  really cute restaurant   \n",
              "2   1   3374  d3375     2  10.271409  really cute restaurant   \n",
              "3   1   5785  d5786     3  10.009293  really cute restaurant   \n",
              "4   1   5183  d5184     4   9.889212  really cute restaurant   \n",
              "\n",
              "                                 features  \n",
              "0  [6.957669848484342, 6.861145712753511]  \n",
              "1  [6.254937186160457, 5.707333751062654]  \n",
              "2  [6.131087801312275, 5.541288977958049]  \n",
              "3  [5.875657207663913, 5.262894075279536]  \n",
              "4  [5.995664430264314, 5.490947108412864]  "
            ]
          },
          "metadata": {},
          "execution_count": 67
        }
      ]
    },
    {
      "cell_type": "code",
      "metadata": {
        "id": "DGb6SCdsVB1y"
      },
      "source": [
        "#pt.BatchRetrieve(indexref, controls = {\"wmodel\": \"PL2\"}, num_results=5).search(\"Really cute restaurant\")\n"
      ],
      "execution_count": 55,
      "outputs": []
    },
    {
      "cell_type": "code",
      "metadata": {
        "colab": {
          "base_uri": "https://localhost:8080/",
          "height": 204
        },
        "id": "17WV98IMHj_U",
        "outputId": "ca9eb0cf-615a-49da-b160-e6702b57a64f"
      },
      "source": [
        "pt.BatchRetrieve(indexref, wmodel=\"BM25\", properties={\"termpipelines\" : \"Stopwords,PorterStemmer\"})\n",
        "pt.BatchRetrieve(indexref, metadata=[\"business_id\", \"stars\"], num_results=5).search(\"Really cute restaurant\")\n"
      ],
      "execution_count": 72,
      "outputs": [
        {
          "output_type": "execute_result",
          "data": {
            "text/html": [
              "<div>\n",
              "<style scoped>\n",
              "    .dataframe tbody tr th:only-of-type {\n",
              "        vertical-align: middle;\n",
              "    }\n",
              "\n",
              "    .dataframe tbody tr th {\n",
              "        vertical-align: top;\n",
              "    }\n",
              "\n",
              "    .dataframe thead th {\n",
              "        text-align: right;\n",
              "    }\n",
              "</style>\n",
              "<table border=\"1\" class=\"dataframe\">\n",
              "  <thead>\n",
              "    <tr style=\"text-align: right;\">\n",
              "      <th></th>\n",
              "      <th>qid</th>\n",
              "      <th>docid</th>\n",
              "      <th>business_id</th>\n",
              "      <th>stars</th>\n",
              "      <th>rank</th>\n",
              "      <th>score</th>\n",
              "      <th>query</th>\n",
              "    </tr>\n",
              "  </thead>\n",
              "  <tbody>\n",
              "    <tr>\n",
              "      <th>0</th>\n",
              "      <td>1</td>\n",
              "      <td>5785</td>\n",
              "      <td>UacakYbLnef2TYU2YDrtuw</td>\n",
              "      <td>2</td>\n",
              "      <td>0</td>\n",
              "      <td>6.212172</td>\n",
              "      <td>Really cute restaurant</td>\n",
              "    </tr>\n",
              "    <tr>\n",
              "      <th>1</th>\n",
              "      <td>1</td>\n",
              "      <td>5183</td>\n",
              "      <td>UacakYbLnef2TYU2YDrtuw</td>\n",
              "      <td>5</td>\n",
              "      <td>1</td>\n",
              "      <td>6.208631</td>\n",
              "      <td>Really cute restaurant</td>\n",
              "    </tr>\n",
              "    <tr>\n",
              "      <th>2</th>\n",
              "      <td>1</td>\n",
              "      <td>0</td>\n",
              "      <td>Slj9yz_RfDRqiMRH8VxUMQ</td>\n",
              "      <td>3</td>\n",
              "      <td>2</td>\n",
              "      <td>6.122120</td>\n",
              "      <td>Really cute restaurant</td>\n",
              "    </tr>\n",
              "    <tr>\n",
              "      <th>3</th>\n",
              "      <td>1</td>\n",
              "      <td>5656</td>\n",
              "      <td>UacakYbLnef2TYU2YDrtuw</td>\n",
              "      <td>4</td>\n",
              "      <td>3</td>\n",
              "      <td>5.880452</td>\n",
              "      <td>Really cute restaurant</td>\n",
              "    </tr>\n",
              "    <tr>\n",
              "      <th>4</th>\n",
              "      <td>1</td>\n",
              "      <td>247</td>\n",
              "      <td>Slj9yz_RfDRqiMRH8VxUMQ</td>\n",
              "      <td>5</td>\n",
              "      <td>4</td>\n",
              "      <td>5.856493</td>\n",
              "      <td>Really cute restaurant</td>\n",
              "    </tr>\n",
              "  </tbody>\n",
              "</table>\n",
              "</div>"
            ],
            "text/plain": [
              "  qid  docid             business_id stars  rank     score  \\\n",
              "0   1   5785  UacakYbLnef2TYU2YDrtuw     2     0  6.212172   \n",
              "1   1   5183  UacakYbLnef2TYU2YDrtuw     5     1  6.208631   \n",
              "2   1      0  Slj9yz_RfDRqiMRH8VxUMQ     3     2  6.122120   \n",
              "3   1   5656  UacakYbLnef2TYU2YDrtuw     4     3  5.880452   \n",
              "4   1    247  Slj9yz_RfDRqiMRH8VxUMQ     5     4  5.856493   \n",
              "\n",
              "                    query  \n",
              "0  Really cute restaurant  \n",
              "1  Really cute restaurant  \n",
              "2  Really cute restaurant  \n",
              "3  Really cute restaurant  \n",
              "4  Really cute restaurant  "
            ]
          },
          "metadata": {},
          "execution_count": 72
        }
      ]
    },
    {
      "cell_type": "markdown",
      "metadata": {
        "id": "oK_wOzQrqi8t"
      },
      "source": [
        "However, most IR experiments, will use a set of queries. You can pass such a set using a data frame for input."
      ]
    },
    {
      "cell_type": "code",
      "metadata": {
        "id": "dgtauIOAXGFY",
        "colab": {
          "base_uri": "https://localhost:8080/",
          "height": 359
        },
        "outputId": "abe25e35-757d-4c9a-c9b3-f04ed73a5b8e"
      },
      "source": [
        "#import pandas as pd\n",
        "topics = pd.DataFrame([[\"q1\", \"Really cute restaurant\"], [\"q2\", \"restaurant\"]],columns=['qid','query'])\n",
        "pt.BatchRetrieve(indexref, metadata=[\"text\"], num_results=5).transform(topics)"
      ],
      "execution_count": 65,
      "outputs": [
        {
          "output_type": "execute_result",
          "data": {
            "text/html": [
              "<div>\n",
              "<style scoped>\n",
              "    .dataframe tbody tr th:only-of-type {\n",
              "        vertical-align: middle;\n",
              "    }\n",
              "\n",
              "    .dataframe tbody tr th {\n",
              "        vertical-align: top;\n",
              "    }\n",
              "\n",
              "    .dataframe thead th {\n",
              "        text-align: right;\n",
              "    }\n",
              "</style>\n",
              "<table border=\"1\" class=\"dataframe\">\n",
              "  <thead>\n",
              "    <tr style=\"text-align: right;\">\n",
              "      <th></th>\n",
              "      <th>qid</th>\n",
              "      <th>docid</th>\n",
              "      <th>text</th>\n",
              "      <th>rank</th>\n",
              "      <th>score</th>\n",
              "      <th>query</th>\n",
              "    </tr>\n",
              "  </thead>\n",
              "  <tbody>\n",
              "    <tr>\n",
              "      <th>0</th>\n",
              "      <td>q1</td>\n",
              "      <td>5785</td>\n",
              "      <td>Perlas the restaurant is very beachy and cute....</td>\n",
              "      <td>0</td>\n",
              "      <td>6.212172</td>\n",
              "      <td>Really cute restaurant</td>\n",
              "    </tr>\n",
              "    <tr>\n",
              "      <th>1</th>\n",
              "      <td>q1</td>\n",
              "      <td>5183</td>\n",
              "      <td>Really cute restaurant on So Co. Great music a...</td>\n",
              "      <td>1</td>\n",
              "      <td>6.208631</td>\n",
              "      <td>Really cute restaurant</td>\n",
              "    </tr>\n",
              "    <tr>\n",
              "      <th>2</th>\n",
              "      <td>q1</td>\n",
              "      <td>0</td>\n",
              "      <td>Really cute restaurant with lots of character....</td>\n",
              "      <td>2</td>\n",
              "      <td>6.122120</td>\n",
              "      <td>Really cute restaurant</td>\n",
              "    </tr>\n",
              "    <tr>\n",
              "      <th>3</th>\n",
              "      <td>q1</td>\n",
              "      <td>5656</td>\n",
              "      <td>Very cute restaurant. Great atmosphere and ind...</td>\n",
              "      <td>3</td>\n",
              "      <td>5.880452</td>\n",
              "      <td>Really cute restaurant</td>\n",
              "    </tr>\n",
              "    <tr>\n",
              "      <th>4</th>\n",
              "      <td>q1</td>\n",
              "      <td>247</td>\n",
              "      <td>Such a cute pizza place! The ambiance was very...</td>\n",
              "      <td>4</td>\n",
              "      <td>5.856493</td>\n",
              "      <td>Really cute restaurant</td>\n",
              "    </tr>\n",
              "    <tr>\n",
              "      <th>5</th>\n",
              "      <td>q2</td>\n",
              "      <td>1728</td>\n",
              "      <td>Those that are giving this restaurant a 2 and ...</td>\n",
              "      <td>0</td>\n",
              "      <td>3.041164</td>\n",
              "      <td>restaurant</td>\n",
              "    </tr>\n",
              "    <tr>\n",
              "      <th>6</th>\n",
              "      <td>q2</td>\n",
              "      <td>4057</td>\n",
              "      <td>Great restaurant for the crowd who goes to Mis...</td>\n",
              "      <td>1</td>\n",
              "      <td>2.962768</td>\n",
              "      <td>restaurant</td>\n",
              "    </tr>\n",
              "    <tr>\n",
              "      <th>7</th>\n",
              "      <td>q2</td>\n",
              "      <td>5405</td>\n",
              "      <td>A quality restaurant with excellent food. The ...</td>\n",
              "      <td>2</td>\n",
              "      <td>2.932314</td>\n",
              "      <td>restaurant</td>\n",
              "    </tr>\n",
              "    <tr>\n",
              "      <th>8</th>\n",
              "      <td>q2</td>\n",
              "      <td>4224</td>\n",
              "      <td>Another amazing dining experience with a Colum...</td>\n",
              "      <td>3</td>\n",
              "      <td>2.930883</td>\n",
              "      <td>restaurant</td>\n",
              "    </tr>\n",
              "    <tr>\n",
              "      <th>9</th>\n",
              "      <td>q2</td>\n",
              "      <td>338</td>\n",
              "      <td>We visited the restaurant at 3:30. We were a l...</td>\n",
              "      <td>4</td>\n",
              "      <td>2.917269</td>\n",
              "      <td>restaurant</td>\n",
              "    </tr>\n",
              "  </tbody>\n",
              "</table>\n",
              "</div>"
            ],
            "text/plain": [
              "  qid  docid                                               text  rank  \\\n",
              "0  q1   5785  Perlas the restaurant is very beachy and cute....     0   \n",
              "1  q1   5183  Really cute restaurant on So Co. Great music a...     1   \n",
              "2  q1      0  Really cute restaurant with lots of character....     2   \n",
              "3  q1   5656  Very cute restaurant. Great atmosphere and ind...     3   \n",
              "4  q1    247  Such a cute pizza place! The ambiance was very...     4   \n",
              "5  q2   1728  Those that are giving this restaurant a 2 and ...     0   \n",
              "6  q2   4057  Great restaurant for the crowd who goes to Mis...     1   \n",
              "7  q2   5405  A quality restaurant with excellent food. The ...     2   \n",
              "8  q2   4224  Another amazing dining experience with a Colum...     3   \n",
              "9  q2    338  We visited the restaurant at 3:30. We were a l...     4   \n",
              "\n",
              "      score                   query  \n",
              "0  6.212172  Really cute restaurant  \n",
              "1  6.208631  Really cute restaurant  \n",
              "2  6.122120  Really cute restaurant  \n",
              "3  5.880452  Really cute restaurant  \n",
              "4  5.856493  Really cute restaurant  \n",
              "5  3.041164              restaurant  \n",
              "6  2.962768              restaurant  \n",
              "7  2.932314              restaurant  \n",
              "8  2.930883              restaurant  \n",
              "9  2.917269              restaurant  "
            ]
          },
          "metadata": {},
          "execution_count": 65
        }
      ]
    },
    {
      "cell_type": "markdown",
      "metadata": {
        "id": "mTgSUnddNOeW"
      },
      "source": [
        "## Simple Search Engine\n",
        "\n",
        "Prompting user input for search string\n",
        "Prompting user input for the Top N results to return\n",
        "Display the time taken to complete the search\n",
        "Display the search results"
      ]
    },
    {
      "cell_type": "code",
      "metadata": {
        "colab": {
          "base_uri": "https://localhost:8080/",
          "height": 117
        },
        "id": "PuwkALdueXRf",
        "outputId": "00d4f4a5-2b26-4472-bfc4-6676fe8c3f0e"
      },
      "source": [
        "import time\n",
        "import pandas as pd\n",
        "pd.reset_option('^display.', silent=True)\n",
        "#pd.set_option('display.max_rows', None)\n",
        "pd.set_option('display.max_columns', None)\n",
        "#pd.set_option('display.width', None)\n",
        "#pd.set_option('display.max_colwidth', -1)\n",
        "\n",
        "search_str = input(\"Please enter your search string: \")\n",
        "#print(\"Search string: \", search_str)\n",
        "TopN = input(\"Please enter number results to display: \")\n",
        "#print(\"Top N results: \", TopN)\n",
        "Tstart = time.perf_counter()\n",
        "topics = pd.DataFrame([[\"q1\", search_str]],columns=['qid','query'])\n",
        "results = pt.BatchRetrieve(indexref, metadata=[\"text\"], num_results=int(TopN)).transform(topics)\n",
        "Tend = time.perf_counter()\n",
        "print(f\"search completed in {Tend - Tstart:0.4f} seconds\")\n",
        "\n",
        "if len(results) == 0:\n",
        "  print(\"no result found!\")\n",
        "#else:\n",
        "  #print(\"len: \", len(results))\n",
        "  #print(results)\n",
        "\n",
        "results"
      ],
      "execution_count": 70,
      "outputs": [
        {
          "output_type": "stream",
          "name": "stdout",
          "text": [
            "Please enter your search string: resturunt\n",
            "Please enter number results to display: 3\n",
            "search completed in 0.0355 seconds\n",
            "no result found!\n"
          ]
        },
        {
          "output_type": "execute_result",
          "data": {
            "text/html": [
              "<div>\n",
              "<style scoped>\n",
              "    .dataframe tbody tr th:only-of-type {\n",
              "        vertical-align: middle;\n",
              "    }\n",
              "\n",
              "    .dataframe tbody tr th {\n",
              "        vertical-align: top;\n",
              "    }\n",
              "\n",
              "    .dataframe thead th {\n",
              "        text-align: right;\n",
              "    }\n",
              "</style>\n",
              "<table border=\"1\" class=\"dataframe\">\n",
              "  <thead>\n",
              "    <tr style=\"text-align: right;\">\n",
              "      <th></th>\n",
              "      <th>docid</th>\n",
              "      <th>text</th>\n",
              "      <th>rank</th>\n",
              "      <th>score</th>\n",
              "      <th>qid</th>\n",
              "      <th>query</th>\n",
              "    </tr>\n",
              "  </thead>\n",
              "  <tbody>\n",
              "  </tbody>\n",
              "</table>\n",
              "</div>"
            ],
            "text/plain": [
              "Empty DataFrame\n",
              "Columns: [docid, text, rank, score, qid, query]\n",
              "Index: []"
            ]
          },
          "metadata": {},
          "execution_count": 70
        }
      ]
    },
    {
      "cell_type": "markdown",
      "metadata": {
        "id": "XLcNP0XHqwQs"
      },
      "source": [
        "Thats the end of the indexing tutorial - you can continue with other example tutorials."
      ]
    }
  ]
}