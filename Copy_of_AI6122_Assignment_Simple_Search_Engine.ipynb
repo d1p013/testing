{
  "nbformat": 4,
  "nbformat_minor": 0,
  "metadata": {
    "colab": {
      "name": "Copy of AI6122_Assignment_Simple_Search_Engine.ipynb",
      "provenance": [],
      "collapsed_sections": [],
      "include_colab_link": true
    },
    "kernelspec": {
      "name": "python3",
      "display_name": "Python 3"
    },
    "widgets": {
      "application/vnd.jupyter.widget-state+json": {
        "d2c1c174543b4088ab66d0dacd4b9655": {
          "model_module": "@jupyter-widgets/controls",
          "model_name": "HBoxModel",
          "model_module_version": "1.5.0",
          "state": {
            "_view_name": "HBoxView",
            "_dom_classes": [],
            "_model_name": "HBoxModel",
            "_view_module": "@jupyter-widgets/controls",
            "_model_module_version": "1.5.0",
            "_view_count": null,
            "_view_module_version": "1.5.0",
            "box_style": "",
            "layout": "IPY_MODEL_655368b981df474983861e9fcdd0c55a",
            "_model_module": "@jupyter-widgets/controls",
            "children": [
              "IPY_MODEL_2dd1620442c34f7a8a3b1e6ec59333c6",
              "IPY_MODEL_7d9da34759c149b798f041c116f122c9",
              "IPY_MODEL_9f909dfe61c745389647a080fa6c670a"
            ]
          }
        },
        "655368b981df474983861e9fcdd0c55a": {
          "model_module": "@jupyter-widgets/base",
          "model_name": "LayoutModel",
          "model_module_version": "1.2.0",
          "state": {
            "_view_name": "LayoutView",
            "grid_template_rows": null,
            "right": null,
            "justify_content": null,
            "_view_module": "@jupyter-widgets/base",
            "overflow": null,
            "_model_module_version": "1.2.0",
            "_view_count": null,
            "flex_flow": null,
            "width": null,
            "min_width": null,
            "border": null,
            "align_items": null,
            "bottom": null,
            "_model_module": "@jupyter-widgets/base",
            "top": null,
            "grid_column": null,
            "overflow_y": null,
            "overflow_x": null,
            "grid_auto_flow": null,
            "grid_area": null,
            "grid_template_columns": null,
            "flex": null,
            "_model_name": "LayoutModel",
            "justify_items": null,
            "grid_row": null,
            "max_height": null,
            "align_content": null,
            "visibility": null,
            "align_self": null,
            "height": null,
            "min_height": null,
            "padding": null,
            "grid_auto_rows": null,
            "grid_gap": null,
            "max_width": null,
            "order": null,
            "_view_module_version": "1.2.0",
            "grid_template_areas": null,
            "object_position": null,
            "object_fit": null,
            "grid_auto_columns": null,
            "margin": null,
            "display": null,
            "left": null
          }
        },
        "2dd1620442c34f7a8a3b1e6ec59333c6": {
          "model_module": "@jupyter-widgets/controls",
          "model_name": "HTMLModel",
          "model_module_version": "1.5.0",
          "state": {
            "_view_name": "HTMLView",
            "style": "IPY_MODEL_efb2298c79a54f33b7d7073c6bf991a6",
            "_dom_classes": [],
            "description": "",
            "_model_name": "HTMLModel",
            "placeholder": "​",
            "_view_module": "@jupyter-widgets/controls",
            "_model_module_version": "1.5.0",
            "value": "",
            "_view_count": null,
            "_view_module_version": "1.5.0",
            "description_tooltip": null,
            "_model_module": "@jupyter-widgets/controls",
            "layout": "IPY_MODEL_a3eeb3db9d2b4ec4ac680bb03d864d7f"
          }
        },
        "7d9da34759c149b798f041c116f122c9": {
          "model_module": "@jupyter-widgets/controls",
          "model_name": "FloatProgressModel",
          "model_module_version": "1.5.0",
          "state": {
            "_view_name": "ProgressView",
            "style": "IPY_MODEL_511788bb938542cc8fbba567225e69b7",
            "_dom_classes": [],
            "description": "",
            "_model_name": "FloatProgressModel",
            "bar_style": "success",
            "max": 692,
            "_view_module": "@jupyter-widgets/controls",
            "_model_module_version": "1.5.0",
            "value": 692,
            "_view_count": null,
            "_view_module_version": "1.5.0",
            "orientation": "horizontal",
            "min": 0,
            "description_tooltip": null,
            "_model_module": "@jupyter-widgets/controls",
            "layout": "IPY_MODEL_24c9ad74e5b7458cb1e45d340faffce0"
          }
        },
        "9f909dfe61c745389647a080fa6c670a": {
          "model_module": "@jupyter-widgets/controls",
          "model_name": "HTMLModel",
          "model_module_version": "1.5.0",
          "state": {
            "_view_name": "HTMLView",
            "style": "IPY_MODEL_c1760232c954476faa914fe9ca03b361",
            "_dom_classes": [],
            "description": "",
            "_model_name": "HTMLModel",
            "placeholder": "​",
            "_view_module": "@jupyter-widgets/controls",
            "_model_module_version": "1.5.0",
            "value": " 693/? [00:02&lt;00:00, 387.60documents/s]",
            "_view_count": null,
            "_view_module_version": "1.5.0",
            "description_tooltip": null,
            "_model_module": "@jupyter-widgets/controls",
            "layout": "IPY_MODEL_ba999beb31f64199884811109f51e222"
          }
        },
        "efb2298c79a54f33b7d7073c6bf991a6": {
          "model_module": "@jupyter-widgets/controls",
          "model_name": "DescriptionStyleModel",
          "model_module_version": "1.5.0",
          "state": {
            "_view_name": "StyleView",
            "_model_name": "DescriptionStyleModel",
            "description_width": "",
            "_view_module": "@jupyter-widgets/base",
            "_model_module_version": "1.5.0",
            "_view_count": null,
            "_view_module_version": "1.2.0",
            "_model_module": "@jupyter-widgets/controls"
          }
        },
        "a3eeb3db9d2b4ec4ac680bb03d864d7f": {
          "model_module": "@jupyter-widgets/base",
          "model_name": "LayoutModel",
          "model_module_version": "1.2.0",
          "state": {
            "_view_name": "LayoutView",
            "grid_template_rows": null,
            "right": null,
            "justify_content": null,
            "_view_module": "@jupyter-widgets/base",
            "overflow": null,
            "_model_module_version": "1.2.0",
            "_view_count": null,
            "flex_flow": null,
            "width": null,
            "min_width": null,
            "border": null,
            "align_items": null,
            "bottom": null,
            "_model_module": "@jupyter-widgets/base",
            "top": null,
            "grid_column": null,
            "overflow_y": null,
            "overflow_x": null,
            "grid_auto_flow": null,
            "grid_area": null,
            "grid_template_columns": null,
            "flex": null,
            "_model_name": "LayoutModel",
            "justify_items": null,
            "grid_row": null,
            "max_height": null,
            "align_content": null,
            "visibility": null,
            "align_self": null,
            "height": null,
            "min_height": null,
            "padding": null,
            "grid_auto_rows": null,
            "grid_gap": null,
            "max_width": null,
            "order": null,
            "_view_module_version": "1.2.0",
            "grid_template_areas": null,
            "object_position": null,
            "object_fit": null,
            "grid_auto_columns": null,
            "margin": null,
            "display": null,
            "left": null
          }
        },
        "511788bb938542cc8fbba567225e69b7": {
          "model_module": "@jupyter-widgets/controls",
          "model_name": "ProgressStyleModel",
          "model_module_version": "1.5.0",
          "state": {
            "_view_name": "StyleView",
            "_model_name": "ProgressStyleModel",
            "description_width": "",
            "_view_module": "@jupyter-widgets/base",
            "_model_module_version": "1.5.0",
            "_view_count": null,
            "_view_module_version": "1.2.0",
            "bar_color": null,
            "_model_module": "@jupyter-widgets/controls"
          }
        },
        "24c9ad74e5b7458cb1e45d340faffce0": {
          "model_module": "@jupyter-widgets/base",
          "model_name": "LayoutModel",
          "model_module_version": "1.2.0",
          "state": {
            "_view_name": "LayoutView",
            "grid_template_rows": null,
            "right": null,
            "justify_content": null,
            "_view_module": "@jupyter-widgets/base",
            "overflow": null,
            "_model_module_version": "1.2.0",
            "_view_count": null,
            "flex_flow": null,
            "width": null,
            "min_width": null,
            "border": null,
            "align_items": null,
            "bottom": null,
            "_model_module": "@jupyter-widgets/base",
            "top": null,
            "grid_column": null,
            "overflow_y": null,
            "overflow_x": null,
            "grid_auto_flow": null,
            "grid_area": null,
            "grid_template_columns": null,
            "flex": null,
            "_model_name": "LayoutModel",
            "justify_items": null,
            "grid_row": null,
            "max_height": null,
            "align_content": null,
            "visibility": null,
            "align_self": null,
            "height": null,
            "min_height": null,
            "padding": null,
            "grid_auto_rows": null,
            "grid_gap": null,
            "max_width": null,
            "order": null,
            "_view_module_version": "1.2.0",
            "grid_template_areas": null,
            "object_position": null,
            "object_fit": null,
            "grid_auto_columns": null,
            "margin": null,
            "display": null,
            "left": null
          }
        },
        "c1760232c954476faa914fe9ca03b361": {
          "model_module": "@jupyter-widgets/controls",
          "model_name": "DescriptionStyleModel",
          "model_module_version": "1.5.0",
          "state": {
            "_view_name": "StyleView",
            "_model_name": "DescriptionStyleModel",
            "description_width": "",
            "_view_module": "@jupyter-widgets/base",
            "_model_module_version": "1.5.0",
            "_view_count": null,
            "_view_module_version": "1.2.0",
            "_model_module": "@jupyter-widgets/controls"
          }
        },
        "ba999beb31f64199884811109f51e222": {
          "model_module": "@jupyter-widgets/base",
          "model_name": "LayoutModel",
          "model_module_version": "1.2.0",
          "state": {
            "_view_name": "LayoutView",
            "grid_template_rows": null,
            "right": null,
            "justify_content": null,
            "_view_module": "@jupyter-widgets/base",
            "overflow": null,
            "_model_module_version": "1.2.0",
            "_view_count": null,
            "flex_flow": null,
            "width": null,
            "min_width": null,
            "border": null,
            "align_items": null,
            "bottom": null,
            "_model_module": "@jupyter-widgets/base",
            "top": null,
            "grid_column": null,
            "overflow_y": null,
            "overflow_x": null,
            "grid_auto_flow": null,
            "grid_area": null,
            "grid_template_columns": null,
            "flex": null,
            "_model_name": "LayoutModel",
            "justify_items": null,
            "grid_row": null,
            "max_height": null,
            "align_content": null,
            "visibility": null,
            "align_self": null,
            "height": null,
            "min_height": null,
            "padding": null,
            "grid_auto_rows": null,
            "grid_gap": null,
            "max_width": null,
            "order": null,
            "_view_module_version": "1.2.0",
            "grid_template_areas": null,
            "object_position": null,
            "object_fit": null,
            "grid_auto_columns": null,
            "margin": null,
            "display": null,
            "left": null
          }
        },
        "17467a80ec7b47b4811afe554ea62b14": {
          "model_module": "@jupyter-widgets/controls",
          "model_name": "HBoxModel",
          "model_module_version": "1.5.0",
          "state": {
            "_view_name": "HBoxView",
            "_dom_classes": [],
            "_model_name": "HBoxModel",
            "_view_module": "@jupyter-widgets/controls",
            "_model_module_version": "1.5.0",
            "_view_count": null,
            "_view_module_version": "1.5.0",
            "box_style": "",
            "layout": "IPY_MODEL_a5bc4b555b164877a9bc94978c5b5ca7",
            "_model_module": "@jupyter-widgets/controls",
            "children": [
              "IPY_MODEL_1c928834a4fe4ac78db18907adda01b3",
              "IPY_MODEL_cd7bc2bb817c4aeca1dba6cd7362377d",
              "IPY_MODEL_242f68e1f4f84164abe8033219e65112"
            ]
          }
        },
        "a5bc4b555b164877a9bc94978c5b5ca7": {
          "model_module": "@jupyter-widgets/base",
          "model_name": "LayoutModel",
          "model_module_version": "1.2.0",
          "state": {
            "_view_name": "LayoutView",
            "grid_template_rows": null,
            "right": null,
            "justify_content": null,
            "_view_module": "@jupyter-widgets/base",
            "overflow": null,
            "_model_module_version": "1.2.0",
            "_view_count": null,
            "flex_flow": null,
            "width": null,
            "min_width": null,
            "border": null,
            "align_items": null,
            "bottom": null,
            "_model_module": "@jupyter-widgets/base",
            "top": null,
            "grid_column": null,
            "overflow_y": null,
            "overflow_x": null,
            "grid_auto_flow": null,
            "grid_area": null,
            "grid_template_columns": null,
            "flex": null,
            "_model_name": "LayoutModel",
            "justify_items": null,
            "grid_row": null,
            "max_height": null,
            "align_content": null,
            "visibility": null,
            "align_self": null,
            "height": null,
            "min_height": null,
            "padding": null,
            "grid_auto_rows": null,
            "grid_gap": null,
            "max_width": null,
            "order": null,
            "_view_module_version": "1.2.0",
            "grid_template_areas": null,
            "object_position": null,
            "object_fit": null,
            "grid_auto_columns": null,
            "margin": null,
            "display": null,
            "left": null
          }
        },
        "1c928834a4fe4ac78db18907adda01b3": {
          "model_module": "@jupyter-widgets/controls",
          "model_name": "HTMLModel",
          "model_module_version": "1.5.0",
          "state": {
            "_view_name": "HTMLView",
            "style": "IPY_MODEL_5d43c4a21cbe4f7ea18333339ce7d2e2",
            "_dom_classes": [],
            "description": "",
            "_model_name": "HTMLModel",
            "placeholder": "​",
            "_view_module": "@jupyter-widgets/controls",
            "_model_module_version": "1.5.0",
            "value": "",
            "_view_count": null,
            "_view_module_version": "1.5.0",
            "description_tooltip": null,
            "_model_module": "@jupyter-widgets/controls",
            "layout": "IPY_MODEL_46b237f4b3254701ab5ecc6962bf3db9"
          }
        },
        "cd7bc2bb817c4aeca1dba6cd7362377d": {
          "model_module": "@jupyter-widgets/controls",
          "model_name": "FloatProgressModel",
          "model_module_version": "1.5.0",
          "state": {
            "_view_name": "ProgressView",
            "style": "IPY_MODEL_f306f7b0cf3e48e796f5e31a0b7e3529",
            "_dom_classes": [],
            "description": "",
            "_model_name": "FloatProgressModel",
            "bar_style": "success",
            "max": 6928,
            "_view_module": "@jupyter-widgets/controls",
            "_model_module_version": "1.5.0",
            "value": 6928,
            "_view_count": null,
            "_view_module_version": "1.5.0",
            "orientation": "horizontal",
            "min": 0,
            "description_tooltip": null,
            "_model_module": "@jupyter-widgets/controls",
            "layout": "IPY_MODEL_037e5aed4df04f35a8558ced526d4228"
          }
        },
        "242f68e1f4f84164abe8033219e65112": {
          "model_module": "@jupyter-widgets/controls",
          "model_name": "HTMLModel",
          "model_module_version": "1.5.0",
          "state": {
            "_view_name": "HTMLView",
            "style": "IPY_MODEL_1c169d58f3d843f2a7910e1ff690fb4b",
            "_dom_classes": [],
            "description": "",
            "_model_name": "HTMLModel",
            "placeholder": "​",
            "_view_module": "@jupyter-widgets/controls",
            "_model_module_version": "1.5.0",
            "value": " 6929/? [00:08&lt;00:00, 909.60documents/s]",
            "_view_count": null,
            "_view_module_version": "1.5.0",
            "description_tooltip": null,
            "_model_module": "@jupyter-widgets/controls",
            "layout": "IPY_MODEL_859ec35acacd4cf78d3ab220f06d51fe"
          }
        },
        "5d43c4a21cbe4f7ea18333339ce7d2e2": {
          "model_module": "@jupyter-widgets/controls",
          "model_name": "DescriptionStyleModel",
          "model_module_version": "1.5.0",
          "state": {
            "_view_name": "StyleView",
            "_model_name": "DescriptionStyleModel",
            "description_width": "",
            "_view_module": "@jupyter-widgets/base",
            "_model_module_version": "1.5.0",
            "_view_count": null,
            "_view_module_version": "1.2.0",
            "_model_module": "@jupyter-widgets/controls"
          }
        },
        "46b237f4b3254701ab5ecc6962bf3db9": {
          "model_module": "@jupyter-widgets/base",
          "model_name": "LayoutModel",
          "model_module_version": "1.2.0",
          "state": {
            "_view_name": "LayoutView",
            "grid_template_rows": null,
            "right": null,
            "justify_content": null,
            "_view_module": "@jupyter-widgets/base",
            "overflow": null,
            "_model_module_version": "1.2.0",
            "_view_count": null,
            "flex_flow": null,
            "width": null,
            "min_width": null,
            "border": null,
            "align_items": null,
            "bottom": null,
            "_model_module": "@jupyter-widgets/base",
            "top": null,
            "grid_column": null,
            "overflow_y": null,
            "overflow_x": null,
            "grid_auto_flow": null,
            "grid_area": null,
            "grid_template_columns": null,
            "flex": null,
            "_model_name": "LayoutModel",
            "justify_items": null,
            "grid_row": null,
            "max_height": null,
            "align_content": null,
            "visibility": null,
            "align_self": null,
            "height": null,
            "min_height": null,
            "padding": null,
            "grid_auto_rows": null,
            "grid_gap": null,
            "max_width": null,
            "order": null,
            "_view_module_version": "1.2.0",
            "grid_template_areas": null,
            "object_position": null,
            "object_fit": null,
            "grid_auto_columns": null,
            "margin": null,
            "display": null,
            "left": null
          }
        },
        "f306f7b0cf3e48e796f5e31a0b7e3529": {
          "model_module": "@jupyter-widgets/controls",
          "model_name": "ProgressStyleModel",
          "model_module_version": "1.5.0",
          "state": {
            "_view_name": "StyleView",
            "_model_name": "ProgressStyleModel",
            "description_width": "",
            "_view_module": "@jupyter-widgets/base",
            "_model_module_version": "1.5.0",
            "_view_count": null,
            "_view_module_version": "1.2.0",
            "bar_color": null,
            "_model_module": "@jupyter-widgets/controls"
          }
        },
        "037e5aed4df04f35a8558ced526d4228": {
          "model_module": "@jupyter-widgets/base",
          "model_name": "LayoutModel",
          "model_module_version": "1.2.0",
          "state": {
            "_view_name": "LayoutView",
            "grid_template_rows": null,
            "right": null,
            "justify_content": null,
            "_view_module": "@jupyter-widgets/base",
            "overflow": null,
            "_model_module_version": "1.2.0",
            "_view_count": null,
            "flex_flow": null,
            "width": null,
            "min_width": null,
            "border": null,
            "align_items": null,
            "bottom": null,
            "_model_module": "@jupyter-widgets/base",
            "top": null,
            "grid_column": null,
            "overflow_y": null,
            "overflow_x": null,
            "grid_auto_flow": null,
            "grid_area": null,
            "grid_template_columns": null,
            "flex": null,
            "_model_name": "LayoutModel",
            "justify_items": null,
            "grid_row": null,
            "max_height": null,
            "align_content": null,
            "visibility": null,
            "align_self": null,
            "height": null,
            "min_height": null,
            "padding": null,
            "grid_auto_rows": null,
            "grid_gap": null,
            "max_width": null,
            "order": null,
            "_view_module_version": "1.2.0",
            "grid_template_areas": null,
            "object_position": null,
            "object_fit": null,
            "grid_auto_columns": null,
            "margin": null,
            "display": null,
            "left": null
          }
        },
        "1c169d58f3d843f2a7910e1ff690fb4b": {
          "model_module": "@jupyter-widgets/controls",
          "model_name": "DescriptionStyleModel",
          "model_module_version": "1.5.0",
          "state": {
            "_view_name": "StyleView",
            "_model_name": "DescriptionStyleModel",
            "description_width": "",
            "_view_module": "@jupyter-widgets/base",
            "_model_module_version": "1.5.0",
            "_view_count": null,
            "_view_module_version": "1.2.0",
            "_model_module": "@jupyter-widgets/controls"
          }
        },
        "859ec35acacd4cf78d3ab220f06d51fe": {
          "model_module": "@jupyter-widgets/base",
          "model_name": "LayoutModel",
          "model_module_version": "1.2.0",
          "state": {
            "_view_name": "LayoutView",
            "grid_template_rows": null,
            "right": null,
            "justify_content": null,
            "_view_module": "@jupyter-widgets/base",
            "overflow": null,
            "_model_module_version": "1.2.0",
            "_view_count": null,
            "flex_flow": null,
            "width": null,
            "min_width": null,
            "border": null,
            "align_items": null,
            "bottom": null,
            "_model_module": "@jupyter-widgets/base",
            "top": null,
            "grid_column": null,
            "overflow_y": null,
            "overflow_x": null,
            "grid_auto_flow": null,
            "grid_area": null,
            "grid_template_columns": null,
            "flex": null,
            "_model_name": "LayoutModel",
            "justify_items": null,
            "grid_row": null,
            "max_height": null,
            "align_content": null,
            "visibility": null,
            "align_self": null,
            "height": null,
            "min_height": null,
            "padding": null,
            "grid_auto_rows": null,
            "grid_gap": null,
            "max_width": null,
            "order": null,
            "_view_module_version": "1.2.0",
            "grid_template_areas": null,
            "object_position": null,
            "object_fit": null,
            "grid_auto_columns": null,
            "margin": null,
            "display": null,
            "left": null
          }
        }
      }
    }
  },
  "cells": [
    {
      "cell_type": "markdown",
      "metadata": {
        "id": "view-in-github",
        "colab_type": "text"
      },
      "source": [
        "<a href=\"https://colab.research.google.com/github/d1p013/testing/blob/master/Copy_of_AI6122_Assignment_Simple_Search_Engine.ipynb\" target=\"_parent\"><img src=\"https://colab.research.google.com/assets/colab-badge.svg\" alt=\"Open In Colab\"/></a>"
      ]
    },
    {
      "cell_type": "markdown",
      "metadata": {
        "id": "TNdMHD8LS2Bm"
      },
      "source": [
        "# PyTerrier Indexing Demo\n",
        "\n",
        "This notebook takes you through indexing using [PyTerrier](https://github.com/terrier-org/pyterrier)."
      ]
    },
    {
      "cell_type": "markdown",
      "metadata": {
        "id": "pkMrNonZrpEg"
      },
      "source": [
        "## Prerequisites\n",
        "\n",
        "You will need PyTerrier installed. PyTerrier also needs Java to be installed, and will find most installations."
      ]
    },
    {
      "cell_type": "code",
      "metadata": {
        "id": "JWLqWXBHeBRc",
        "colab": {
          "base_uri": "https://localhost:8080/"
        },
        "outputId": "36e16b24-64cb-438f-f15f-9127daf56e5a"
      },
      "source": [
        "!pip install python-terrier\n",
        "#!pip install --upgrade git+https://github.com/terrier-org/pyterrier.git#egg=python-terrier"
      ],
      "execution_count": 1,
      "outputs": [
        {
          "output_type": "stream",
          "name": "stdout",
          "text": [
            "Collecting python-terrier\n",
            "  Downloading python-terrier-0.7.0.tar.gz (95 kB)\n",
            "\u001b[?25l\r\u001b[K     |███▍                            | 10 kB 23.1 MB/s eta 0:00:01\r\u001b[K     |██████▉                         | 20 kB 30.4 MB/s eta 0:00:01\r\u001b[K     |██████████▎                     | 30 kB 13.2 MB/s eta 0:00:01\r\u001b[K     |█████████████▊                  | 40 kB 9.7 MB/s eta 0:00:01\r\u001b[K     |█████████████████▏              | 51 kB 5.0 MB/s eta 0:00:01\r\u001b[K     |████████████████████▋           | 61 kB 5.1 MB/s eta 0:00:01\r\u001b[K     |████████████████████████        | 71 kB 5.7 MB/s eta 0:00:01\r\u001b[K     |███████████████████████████▌    | 81 kB 6.4 MB/s eta 0:00:01\r\u001b[K     |███████████████████████████████ | 92 kB 6.7 MB/s eta 0:00:01\r\u001b[K     |████████████████████████████████| 95 kB 2.5 MB/s \n",
            "\u001b[?25hRequirement already satisfied: numpy in /usr/local/lib/python3.7/dist-packages (from python-terrier) (1.19.5)\n",
            "Requirement already satisfied: pandas in /usr/local/lib/python3.7/dist-packages (from python-terrier) (1.1.5)\n",
            "Collecting wget\n",
            "  Downloading wget-3.2.zip (10 kB)\n",
            "Requirement already satisfied: tqdm in /usr/local/lib/python3.7/dist-packages (from python-terrier) (4.62.3)\n",
            "Collecting pyjnius~=1.3.0\n",
            "  Downloading pyjnius-1.3.0-cp37-cp37m-manylinux2010_x86_64.whl (1.1 MB)\n",
            "\u001b[K     |████████████████████████████████| 1.1 MB 45.3 MB/s \n",
            "\u001b[?25hCollecting matchpy\n",
            "  Downloading matchpy-0.5.4-py3-none-any.whl (69 kB)\n",
            "\u001b[K     |████████████████████████████████| 69 kB 6.2 MB/s \n",
            "\u001b[?25hRequirement already satisfied: sklearn in /usr/local/lib/python3.7/dist-packages (from python-terrier) (0.0)\n",
            "Collecting deprecation\n",
            "  Downloading deprecation-2.1.0-py2.py3-none-any.whl (11 kB)\n",
            "Collecting chest\n",
            "  Downloading chest-0.2.3.tar.gz (9.6 kB)\n",
            "Requirement already satisfied: scipy in /usr/local/lib/python3.7/dist-packages (from python-terrier) (1.4.1)\n",
            "Requirement already satisfied: requests in /usr/local/lib/python3.7/dist-packages (from python-terrier) (2.23.0)\n",
            "Requirement already satisfied: joblib in /usr/local/lib/python3.7/dist-packages (from python-terrier) (1.0.1)\n",
            "Collecting nptyping\n",
            "  Downloading nptyping-1.4.4-py3-none-any.whl (31 kB)\n",
            "Requirement already satisfied: more_itertools in /usr/local/lib/python3.7/dist-packages (from python-terrier) (8.10.0)\n",
            "Collecting ir_datasets>=0.3.2\n",
            "  Downloading ir_datasets-0.4.3-py3-none-any.whl (222 kB)\n",
            "\u001b[K     |████████████████████████████████| 222 kB 61.4 MB/s \n",
            "\u001b[?25hRequirement already satisfied: jinja2 in /usr/local/lib/python3.7/dist-packages (from python-terrier) (2.11.3)\n",
            "Requirement already satisfied: statsmodels in /usr/local/lib/python3.7/dist-packages (from python-terrier) (0.10.2)\n",
            "Collecting ir_measures>=0.2.0\n",
            "  Downloading ir_measures-0.2.1.tar.gz (36 kB)\n",
            "Requirement already satisfied: dill in /usr/local/lib/python3.7/dist-packages (from python-terrier) (0.3.4)\n",
            "Requirement already satisfied: beautifulsoup4>=4.4.1 in /usr/local/lib/python3.7/dist-packages (from ir_datasets>=0.3.2->python-terrier) (4.6.3)\n",
            "Collecting lz4>=3.1.1\n",
            "  Downloading lz4-3.1.3-cp37-cp37m-manylinux2010_x86_64.whl (1.8 MB)\n",
            "\u001b[K     |████████████████████████████████| 1.8 MB 33.7 MB/s \n",
            "\u001b[?25hCollecting warc3-wet-clueweb09>=0.2.5\n",
            "  Downloading warc3-wet-clueweb09-0.2.5.tar.gz (17 kB)\n",
            "Collecting zlib-state>=0.1.3\n",
            "  Downloading zlib_state-0.1.3-cp37-cp37m-manylinux2010_x86_64.whl (72 kB)\n",
            "\u001b[K     |████████████████████████████████| 72 kB 1.2 MB/s \n",
            "\u001b[?25hCollecting ijson>=3.1.3\n",
            "  Downloading ijson-3.1.4-cp37-cp37m-manylinux2010_x86_64.whl (126 kB)\n",
            "\u001b[K     |████████████████████████████████| 126 kB 64.7 MB/s \n",
            "\u001b[?25hCollecting pyautocorpus>=0.1.1\n",
            "  Downloading pyautocorpus-0.1.6-cp37-cp37m-manylinux_2_12_x86_64.manylinux2010_x86_64.whl (294 kB)\n",
            "\u001b[K     |████████████████████████████████| 294 kB 59.0 MB/s \n",
            "\u001b[?25hCollecting lxml>=4.5.2\n",
            "  Downloading lxml-4.6.3-cp37-cp37m-manylinux2014_x86_64.whl (6.3 MB)\n",
            "\u001b[K     |████████████████████████████████| 6.3 MB 21.0 MB/s \n",
            "\u001b[?25hCollecting pyyaml>=5.3.1\n",
            "  Downloading PyYAML-5.4.1-cp37-cp37m-manylinux1_x86_64.whl (636 kB)\n",
            "\u001b[K     |████████████████████████████████| 636 kB 67.2 MB/s \n",
            "\u001b[?25hCollecting trec-car-tools>=2.5.4\n",
            "  Downloading trec_car_tools-2.5.4-py3-none-any.whl (8.1 kB)\n",
            "Collecting warc3-wet>=0.2.3\n",
            "  Downloading warc3_wet-0.2.3-py3-none-any.whl (13 kB)\n",
            "Collecting pytrec-eval-terrier==0.5.1\n",
            "  Downloading pytrec_eval_terrier-0.5.1-cp37-cp37m-manylinux2010_x86_64.whl (291 kB)\n",
            "\u001b[K     |████████████████████████████████| 291 kB 44.6 MB/s \n",
            "\u001b[?25hCollecting cwl-eval>=1.0.10\n",
            "  Downloading cwl-eval-1.0.10.tar.gz (31 kB)\n",
            "Requirement already satisfied: cython in /usr/local/lib/python3.7/dist-packages (from pyjnius~=1.3.0->python-terrier) (0.29.24)\n",
            "Requirement already satisfied: six>=1.7.0 in /usr/local/lib/python3.7/dist-packages (from pyjnius~=1.3.0->python-terrier) (1.15.0)\n",
            "Requirement already satisfied: certifi>=2017.4.17 in /usr/local/lib/python3.7/dist-packages (from requests->python-terrier) (2021.5.30)\n",
            "Requirement already satisfied: urllib3!=1.25.0,!=1.25.1,<1.26,>=1.21.1 in /usr/local/lib/python3.7/dist-packages (from requests->python-terrier) (1.24.3)\n",
            "Requirement already satisfied: idna<3,>=2.5 in /usr/local/lib/python3.7/dist-packages (from requests->python-terrier) (2.10)\n",
            "Requirement already satisfied: chardet<4,>=3.0.2 in /usr/local/lib/python3.7/dist-packages (from requests->python-terrier) (3.0.4)\n",
            "Collecting cbor>=1.0.0\n",
            "  Downloading cbor-1.0.0.tar.gz (20 kB)\n",
            "Requirement already satisfied: heapdict in /usr/local/lib/python3.7/dist-packages (from chest->python-terrier) (1.0.1)\n",
            "Requirement already satisfied: packaging in /usr/local/lib/python3.7/dist-packages (from deprecation->python-terrier) (21.0)\n",
            "Requirement already satisfied: MarkupSafe>=0.23 in /usr/local/lib/python3.7/dist-packages (from jinja2->python-terrier) (2.0.1)\n",
            "Collecting multiset<3.0,>=2.0\n",
            "  Downloading multiset-2.1.1-py2.py3-none-any.whl (8.8 kB)\n",
            "Collecting typish>=1.7.0\n",
            "  Downloading typish-1.9.3-py3-none-any.whl (45 kB)\n",
            "\u001b[K     |████████████████████████████████| 45 kB 2.0 MB/s \n",
            "\u001b[?25hRequirement already satisfied: pyparsing>=2.0.2 in /usr/local/lib/python3.7/dist-packages (from packaging->deprecation->python-terrier) (2.4.7)\n",
            "Requirement already satisfied: pytz>=2017.2 in /usr/local/lib/python3.7/dist-packages (from pandas->python-terrier) (2018.9)\n",
            "Requirement already satisfied: python-dateutil>=2.7.3 in /usr/local/lib/python3.7/dist-packages (from pandas->python-terrier) (2.8.2)\n",
            "Requirement already satisfied: scikit-learn in /usr/local/lib/python3.7/dist-packages (from sklearn->python-terrier) (0.22.2.post1)\n",
            "Requirement already satisfied: patsy>=0.4.0 in /usr/local/lib/python3.7/dist-packages (from statsmodels->python-terrier) (0.5.2)\n",
            "Building wheels for collected packages: python-terrier, ir-measures, cwl-eval, cbor, warc3-wet-clueweb09, chest, wget\n",
            "  Building wheel for python-terrier (setup.py) ... \u001b[?25l\u001b[?25hdone\n",
            "  Created wheel for python-terrier: filename=python_terrier-0.7.0-py3-none-any.whl size=102213 sha256=44872eb97d40e718c8b8f8f2ec6849e62b1057e0290259e314a8d1e55cfe3d83\n",
            "  Stored in directory: /root/.cache/pip/wheels/e3/84/1e/68c08f14e2481e2b3e7c1a2c24bb1220712bc3f5d3896c28df\n",
            "  Building wheel for ir-measures (setup.py) ... \u001b[?25l\u001b[?25hdone\n",
            "  Created wheel for ir-measures: filename=ir_measures-0.2.1-py3-none-any.whl size=46421 sha256=d58abf5fade6f4c98deaaf910e98ac176e117ac178c232277d36acad3c62991c\n",
            "  Stored in directory: /root/.cache/pip/wheels/38/a4/34/d0b2e6c329f3d0fab3d3c3ed296b963cee47872811acdc3628\n",
            "  Building wheel for cwl-eval (setup.py) ... \u001b[?25l\u001b[?25hdone\n",
            "  Created wheel for cwl-eval: filename=cwl_eval-1.0.10-py3-none-any.whl size=37795 sha256=4cd770cb610ab3fb44caef4359f51b8e83194e11cd901af63af696b08724a9f1\n",
            "  Stored in directory: /root/.cache/pip/wheels/ff/e9/ff/d2b6d72d9feb0d0b1b11aacfaf5cd866717034615c2d194093\n",
            "  Building wheel for cbor (setup.py) ... \u001b[?25l\u001b[?25hdone\n",
            "  Created wheel for cbor: filename=cbor-1.0.0-cp37-cp37m-linux_x86_64.whl size=51313 sha256=832446f37b9ea5fd6a10369527c12e29116a38c78dd9e9ecbb7afd7ac92af3b7\n",
            "  Stored in directory: /root/.cache/pip/wheels/19/77/49/c9c2c8dc5848502e606e8579d0bbda18b850fb056a6c62239d\n",
            "  Building wheel for warc3-wet-clueweb09 (setup.py) ... \u001b[?25l\u001b[?25hdone\n",
            "  Created wheel for warc3-wet-clueweb09: filename=warc3_wet_clueweb09-0.2.5-py3-none-any.whl size=18921 sha256=c411c3e2eecf7b5254b5a91f669ce47004bfb28dd306c2912b9655a1a422d511\n",
            "  Stored in directory: /root/.cache/pip/wheels/42/d4/3c/7c2b0c3d400ad744e4db69f2fde166655da2ed2198bfc02db6\n",
            "  Building wheel for chest (setup.py) ... \u001b[?25l\u001b[?25hdone\n",
            "  Created wheel for chest: filename=chest-0.2.3-py3-none-any.whl size=7632 sha256=a5fea3bcbd635625912d5232b18ef698e0809ac8a9903fb066ee6952f2ccc8d0\n",
            "  Stored in directory: /root/.cache/pip/wheels/fc/f5/b9/c436e11300809e6b40d46a5d2592fb0bff89e0712f2e878dc7\n",
            "  Building wheel for wget (setup.py) ... \u001b[?25l\u001b[?25hdone\n",
            "  Created wheel for wget: filename=wget-3.2-py3-none-any.whl size=9672 sha256=0829670d853b4ad512fe6edee73d926b05af1719fdc7b7a357667acfd4c6da64\n",
            "  Stored in directory: /root/.cache/pip/wheels/a1/b6/7c/0e63e34eb06634181c63adacca38b79ff8f35c37e3c13e3c02\n",
            "Successfully built python-terrier ir-measures cwl-eval cbor warc3-wet-clueweb09 chest wget\n",
            "Installing collected packages: cbor, zlib-state, warc3-wet-clueweb09, warc3-wet, typish, trec-car-tools, pyyaml, pytrec-eval-terrier, pyautocorpus, multiset, lz4, lxml, ijson, deprecation, cwl-eval, wget, pyjnius, nptyping, matchpy, ir-measures, ir-datasets, chest, python-terrier\n",
            "  Attempting uninstall: pyyaml\n",
            "    Found existing installation: PyYAML 3.13\n",
            "    Uninstalling PyYAML-3.13:\n",
            "      Successfully uninstalled PyYAML-3.13\n",
            "  Attempting uninstall: lxml\n",
            "    Found existing installation: lxml 4.2.6\n",
            "    Uninstalling lxml-4.2.6:\n",
            "      Successfully uninstalled lxml-4.2.6\n",
            "Successfully installed cbor-1.0.0 chest-0.2.3 cwl-eval-1.0.10 deprecation-2.1.0 ijson-3.1.4 ir-datasets-0.4.3 ir-measures-0.2.1 lxml-4.6.3 lz4-3.1.3 matchpy-0.5.4 multiset-2.1.1 nptyping-1.4.4 pyautocorpus-0.1.6 pyjnius-1.3.0 python-terrier-0.7.0 pytrec-eval-terrier-0.5.1 pyyaml-5.4.1 trec-car-tools-2.5.4 typish-1.9.3 warc3-wet-0.2.3 warc3-wet-clueweb09-0.2.5 wget-3.2 zlib-state-0.1.3\n"
          ]
        }
      ]
    },
    {
      "cell_type": "markdown",
      "metadata": {
        "id": "ixzDjvtTOQbB"
      },
      "source": [
        "## Init \n",
        "\n",
        "You must run `pt.init()` before other pyterrier functions and classes\n",
        "\n",
        "Optional Arguments:    \n",
        " - `version` - terrier IR version e.g. \"5.2\"    \n",
        " - `mem` - megabytes allocated to java e.g. \"4096\"      \n",
        " - `packages` - external java packages for Terrier to load e.g. [\"org.terrier:terrier.prf\"]\n",
        " - `logging` - logging level for Terrier. Defaults to \"WARN\", use \"INFO\" or \"DEBUG\" for more output.\n",
        "\n",
        "NB: PyTerrier needs Java 11 installed. If it cannot find your Java installation, you can set the `JAVA_HOME` environment variable."
      ]
    },
    {
      "cell_type": "code",
      "metadata": {
        "id": "k3ltUZ8PgWmz",
        "colab": {
          "base_uri": "https://localhost:8080/"
        },
        "outputId": "8d572223-48b5-4826-9ebc-885f6cb55e85"
      },
      "source": [
        "import pyterrier as pt\n",
        "if not pt.started():\n",
        "  pt.init()"
      ],
      "execution_count": 2,
      "outputs": [
        {
          "output_type": "stream",
          "name": "stdout",
          "text": [
            "terrier-assemblies 5.6  jar-with-dependencies not found, downloading to /root/.pyterrier...\n",
            "Done\n",
            "terrier-python-helper 0.0.6  jar not found, downloading to /root/.pyterrier...\n",
            "Done\n",
            "PyTerrier 0.7.0 has loaded Terrier 5.6 (built by craigmacdonald on 2021-09-17 13:27)\n"
          ]
        }
      ]
    },
    {
      "cell_type": "code",
      "metadata": {
        "id": "9-DSyic7WvPJ"
      },
      "source": [
        " #vaswani_dataset = pt.datasets.get_dataset(\"vaswani\")\n",
        " #indexref = vaswani_dataset.get_index()\n",
        " #index = pt.IndexFactory.of(indexref)\n",
        " #print(index.getCollectionStatistics().toString()) "
      ],
      "execution_count": 3,
      "outputs": []
    },
    {
      "cell_type": "code",
      "metadata": {
        "id": "Lx6Uf6M2WxrD"
      },
      "source": [
        "#topics = vaswani_dataset.get_topics()\n",
        "#topics.head(5) "
      ],
      "execution_count": 4,
      "outputs": []
    },
    {
      "cell_type": "code",
      "metadata": {
        "id": "tSfGwAYVXFeT"
      },
      "source": [
        "#retr = pt.BatchRetrieve(index, controls = {\"wmodel\": \"TF_IDF\"}, num_results=10)\n",
        "#retr.setControl(\"wmodel\", \"TF_IDF\")\n",
        "#retr.setControls({\"wmodel\": \"TF_IDF\"})\n",
        "#res=retr.transform(topics)\n",
        "#res "
      ],
      "execution_count": 5,
      "outputs": []
    },
    {
      "cell_type": "markdown",
      "metadata": {
        "id": "oumbzZuwGM9-"
      },
      "source": [
        " ## Importing dataset from Google Drive\n",
        "\n",
        "Using built-in function of Google Colab, we can easily import the dataset which has been uploaded onto Google Drive beforehand\n",
        "\n",
        "need a Google account to download the data"
      ]
    },
    {
      "cell_type": "code",
      "metadata": {
        "id": "PFF_NGltOyZK"
      },
      "source": [
        "# Import PyDrive and associated libraries.\n",
        "# This only needs to be done once per notebook.\n",
        "from pydrive.auth import GoogleAuth\n",
        "from pydrive.drive import GoogleDrive\n",
        "from google.colab import auth\n",
        "from oauth2client.client import GoogleCredentials\n",
        "\n",
        "# Authenticate and create the PyDrive client.\n",
        "# This only needs to be done once per notebook.\n",
        "auth.authenticate_user()\n",
        "gauth = GoogleAuth()\n",
        "gauth.credentials = GoogleCredentials.get_application_default()\n",
        "drive = GoogleDrive(gauth)\n",
        "\n",
        "# Download a file based on its file ID which is residing on Google Drive\n",
        "#\n",
        "# A file ID looks like: laggVyWshwcyP6kEI-y_W3P8D26sz\n",
        "# file_id = '1YkltHAl3Ro9xv25EkGB56h271_STNlPA' #'AI6122_Dataset_B1.csv'\n",
        "file_id = '1aVXMJ_luTXISxMwP5_Bt2xE0ObXqEsQ2' #\"Dataset_B1to8\"\n",
        "\n",
        "downloaded = drive.CreateFile({'id': file_id})\n",
        "#print('Downloaded content \"{}\"'.format(downloaded.GetContentString()))\n",
        "#downloaded.GetContentFile('AI6122_Dataset_B1.csv')\n",
        "downloaded.GetContentFile('Dataset_B1to8.csv')"
      ],
      "execution_count": 6,
      "outputs": []
    },
    {
      "cell_type": "markdown",
      "metadata": {
        "id": "wGV18JV1P129"
      },
      "source": [
        "## Loading dataset (csv) into Pandas dataframe\n",
        "\n",
        "pyTerrier makes it easy to index standard Python data structures, particularly [Pandas dataframes](https://pandas.pydata.org/pandas-docs/stable/reference/api/pandas.DataFrame.html).\n",
        "\n",
        "importing dataset, which is scale down version of the original `review.json` file as the original file is too large to load into Google Colab memory\n"
      ]
    },
    {
      "cell_type": "code",
      "metadata": {
        "id": "r86UHesmt0Wc"
      },
      "source": [
        "## load data into df\n",
        "import pandas as pd\n",
        "#df = pd.read_csv(\"AI6122_Dataset_B1.csv\", dtype = str)\n",
        "df = pd.read_csv(\"Dataset_B1to8.csv\", dtype = str)\n",
        "\n",
        "try :\n",
        "  del docno \n",
        "except:\n",
        "  pass\n",
        "\n",
        "##docno = list(range(1,len(df)+1))\n",
        "##df['docno'] = docno\n",
        "##df = df.astype({\"docno\" : str})\n",
        "#print(type(df[\"docno\"][0]))\n",
        "\n",
        "docno =[]\n",
        "for idx in range(1,len(df)+1):\n",
        "  docno.append(\"d\" + str(idx))\n",
        "\n",
        "df[\"docno\"] = docno\n"
      ],
      "execution_count": 37,
      "outputs": []
    },
    {
      "cell_type": "code",
      "metadata": {
        "colab": {
          "base_uri": "https://localhost:8080/",
          "height": 597
        },
        "id": "1emps_EChsok",
        "outputId": "8b8dbec3-f0ca-4e04-daf9-e05fe29936c1"
      },
      "source": [
        "df"
      ],
      "execution_count": 8,
      "outputs": [
        {
          "output_type": "execute_result",
          "data": {
            "text/html": [
              "<div>\n",
              "<style scoped>\n",
              "    .dataframe tbody tr th:only-of-type {\n",
              "        vertical-align: middle;\n",
              "    }\n",
              "\n",
              "    .dataframe tbody tr th {\n",
              "        vertical-align: top;\n",
              "    }\n",
              "\n",
              "    .dataframe thead th {\n",
              "        text-align: right;\n",
              "    }\n",
              "</style>\n",
              "<table border=\"1\" class=\"dataframe\">\n",
              "  <thead>\n",
              "    <tr style=\"text-align: right;\">\n",
              "      <th></th>\n",
              "      <th>Unnamed: 0</th>\n",
              "      <th>review_id</th>\n",
              "      <th>user_id</th>\n",
              "      <th>business_id</th>\n",
              "      <th>stars</th>\n",
              "      <th>useful</th>\n",
              "      <th>funny</th>\n",
              "      <th>cool</th>\n",
              "      <th>text</th>\n",
              "      <th>date</th>\n",
              "      <th>docno</th>\n",
              "    </tr>\n",
              "  </thead>\n",
              "  <tbody>\n",
              "    <tr>\n",
              "      <th>0</th>\n",
              "      <td>5160031</td>\n",
              "      <td>1dZ2Vjex6D4FcGUvc633xw</td>\n",
              "      <td>S2IaUH7jqGg021oJ1jo27w</td>\n",
              "      <td>Slj9yz_RfDRqiMRH8VxUMQ</td>\n",
              "      <td>3</td>\n",
              "      <td>0</td>\n",
              "      <td>0</td>\n",
              "      <td>0</td>\n",
              "      <td>Really cute restaurant with lots of character....</td>\n",
              "      <td>3/23/2018 13:51</td>\n",
              "      <td>d1</td>\n",
              "    </tr>\n",
              "    <tr>\n",
              "      <th>1</th>\n",
              "      <td>5161915</td>\n",
              "      <td>XTOOwso4XocpgvfzUrLahQ</td>\n",
              "      <td>1-ikyrBXfTij5k6M4nTaZg</td>\n",
              "      <td>Slj9yz_RfDRqiMRH8VxUMQ</td>\n",
              "      <td>5</td>\n",
              "      <td>1</td>\n",
              "      <td>0</td>\n",
              "      <td>0</td>\n",
              "      <td>We visited when my wife and I came to Atlanta....</td>\n",
              "      <td>2/1/2018 20:08</td>\n",
              "      <td>d2</td>\n",
              "    </tr>\n",
              "    <tr>\n",
              "      <th>2</th>\n",
              "      <td>5162697</td>\n",
              "      <td>Dq--78gS7JHHHCoryoUSsA</td>\n",
              "      <td>1ohGAyANSWmHI1k5h5t3BA</td>\n",
              "      <td>Slj9yz_RfDRqiMRH8VxUMQ</td>\n",
              "      <td>4</td>\n",
              "      <td>0</td>\n",
              "      <td>0</td>\n",
              "      <td>0</td>\n",
              "      <td>I came here for lunch one day to pick up an or...</td>\n",
              "      <td>1/21/2018 15:25</td>\n",
              "      <td>d3</td>\n",
              "    </tr>\n",
              "    <tr>\n",
              "      <th>3</th>\n",
              "      <td>5162961</td>\n",
              "      <td>K1aPKM6fRpNXmpiRgjclbg</td>\n",
              "      <td>cFNmQ_EUjcNeF7aS4sz19Q</td>\n",
              "      <td>Slj9yz_RfDRqiMRH8VxUMQ</td>\n",
              "      <td>5</td>\n",
              "      <td>0</td>\n",
              "      <td>0</td>\n",
              "      <td>0</td>\n",
              "      <td>Our waitress was EXTREMELY courteous. She chec...</td>\n",
              "      <td>12/15/2017 23:56</td>\n",
              "      <td>d4</td>\n",
              "    </tr>\n",
              "    <tr>\n",
              "      <th>4</th>\n",
              "      <td>5164768</td>\n",
              "      <td>CM9C7n3QvBwA9nsaPRSExg</td>\n",
              "      <td>TZFhgwVEkGurFBEsqmi21A</td>\n",
              "      <td>Slj9yz_RfDRqiMRH8VxUMQ</td>\n",
              "      <td>3</td>\n",
              "      <td>1</td>\n",
              "      <td>0</td>\n",
              "      <td>0</td>\n",
              "      <td>I had the lasagna calzone.  The calzone was sm...</td>\n",
              "      <td>6/7/2017 0:03</td>\n",
              "      <td>d5</td>\n",
              "    </tr>\n",
              "    <tr>\n",
              "      <th>...</th>\n",
              "      <td>...</td>\n",
              "      <td>...</td>\n",
              "      <td>...</td>\n",
              "      <td>...</td>\n",
              "      <td>...</td>\n",
              "      <td>...</td>\n",
              "      <td>...</td>\n",
              "      <td>...</td>\n",
              "      <td>...</td>\n",
              "      <td>...</td>\n",
              "      <td>...</td>\n",
              "    </tr>\n",
              "    <tr>\n",
              "      <th>6923</th>\n",
              "      <td>6908034</td>\n",
              "      <td>CtRRUmxAq0HfODwST8gosg</td>\n",
              "      <td>aQjzoc8SNx_4AtsRpjKO_Q</td>\n",
              "      <td>sjgbSELDpzaabRe8bZwUbw</td>\n",
              "      <td>5</td>\n",
              "      <td>2</td>\n",
              "      <td>0</td>\n",
              "      <td>2</td>\n",
              "      <td>GET THE POBLANO JACK SAUSAGES! As soon as I to...</td>\n",
              "      <td>43780.83669</td>\n",
              "      <td>d6924</td>\n",
              "    </tr>\n",
              "    <tr>\n",
              "      <th>6924</th>\n",
              "      <td>6908143</td>\n",
              "      <td>s3flK9z_AodnefTzZSLI4w</td>\n",
              "      <td>7j-CRT0QYjTl_mHzLL_udQ</td>\n",
              "      <td>sjgbSELDpzaabRe8bZwUbw</td>\n",
              "      <td>5</td>\n",
              "      <td>2</td>\n",
              "      <td>0</td>\n",
              "      <td>1</td>\n",
              "      <td>Came to Micklethwait's and was surprised the l...</td>\n",
              "      <td>42756.95071</td>\n",
              "      <td>d6925</td>\n",
              "    </tr>\n",
              "    <tr>\n",
              "      <th>6925</th>\n",
              "      <td>6909152</td>\n",
              "      <td>hxl3_vk_jvWNG6UB8ALqCQ</td>\n",
              "      <td>M9hpSOJG67mGXuwlansGjg</td>\n",
              "      <td>sjgbSELDpzaabRe8bZwUbw</td>\n",
              "      <td>4</td>\n",
              "      <td>4</td>\n",
              "      <td>1</td>\n",
              "      <td>3</td>\n",
              "      <td>I had time for only one barbecue place during ...</td>\n",
              "      <td>43755.8102</td>\n",
              "      <td>d6926</td>\n",
              "    </tr>\n",
              "    <tr>\n",
              "      <th>6926</th>\n",
              "      <td>6909297</td>\n",
              "      <td>XjlTk4oYHT0e-muMKxwa9w</td>\n",
              "      <td>fvbJChNvoxBnIztSMNqLjA</td>\n",
              "      <td>sjgbSELDpzaabRe8bZwUbw</td>\n",
              "      <td>3</td>\n",
              "      <td>0</td>\n",
              "      <td>0</td>\n",
              "      <td>0</td>\n",
              "      <td>I ordered a pound of brisket and turkey. I als...</td>\n",
              "      <td>44156.92817</td>\n",
              "      <td>d6927</td>\n",
              "    </tr>\n",
              "    <tr>\n",
              "      <th>6927</th>\n",
              "      <td>6912251</td>\n",
              "      <td>EE9Izb_i5iHZ-8WKVjrNJg</td>\n",
              "      <td>ZsSfi9qqRfP7xMze4V6JNg</td>\n",
              "      <td>sjgbSELDpzaabRe8bZwUbw</td>\n",
              "      <td>5</td>\n",
              "      <td>1</td>\n",
              "      <td>0</td>\n",
              "      <td>0</td>\n",
              "      <td>YOU MUST TRY THE BEEF SHORTRIB. We initially c...</td>\n",
              "      <td>43621.63041</td>\n",
              "      <td>d6928</td>\n",
              "    </tr>\n",
              "  </tbody>\n",
              "</table>\n",
              "<p>6928 rows × 11 columns</p>\n",
              "</div>"
            ],
            "text/plain": [
              "     Unnamed: 0               review_id  ...              date  docno\n",
              "0       5160031  1dZ2Vjex6D4FcGUvc633xw  ...   3/23/2018 13:51     d1\n",
              "1       5161915  XTOOwso4XocpgvfzUrLahQ  ...    2/1/2018 20:08     d2\n",
              "2       5162697  Dq--78gS7JHHHCoryoUSsA  ...   1/21/2018 15:25     d3\n",
              "3       5162961  K1aPKM6fRpNXmpiRgjclbg  ...  12/15/2017 23:56     d4\n",
              "4       5164768  CM9C7n3QvBwA9nsaPRSExg  ...     6/7/2017 0:03     d5\n",
              "...         ...                     ...  ...               ...    ...\n",
              "6923    6908034  CtRRUmxAq0HfODwST8gosg  ...       43780.83669  d6924\n",
              "6924    6908143  s3flK9z_AodnefTzZSLI4w  ...       42756.95071  d6925\n",
              "6925    6909152  hxl3_vk_jvWNG6UB8ALqCQ  ...        43755.8102  d6926\n",
              "6926    6909297  XjlTk4oYHT0e-muMKxwa9w  ...       44156.92817  d6927\n",
              "6927    6912251  EE9Izb_i5iHZ-8WKVjrNJg  ...       43621.63041  d6928\n",
              "\n",
              "[6928 rows x 11 columns]"
            ]
          },
          "metadata": {},
          "execution_count": 8
        }
      ]
    },
    {
      "cell_type": "markdown",
      "metadata": {
        "id": "S9KZ2QDYEt-k"
      },
      "source": [
        "## Time taken for indexing\n",
        "\n",
        "Tracking the time to complete indexing for each 10% incremental of documents. The index folder is cleared before each indexing and time and is taken before and after indexing, the difference being the time taken to index\n"
      ]
    },
    {
      "cell_type": "code",
      "metadata": {
        "id": "xv44JX_cqa4G",
        "colab": {
          "base_uri": "https://localhost:8080/",
          "height": 503,
          "referenced_widgets": [
            "d2c1c174543b4088ab66d0dacd4b9655",
            "655368b981df474983861e9fcdd0c55a",
            "2dd1620442c34f7a8a3b1e6ec59333c6",
            "7d9da34759c149b798f041c116f122c9",
            "9f909dfe61c745389647a080fa6c670a",
            "efb2298c79a54f33b7d7073c6bf991a6",
            "a3eeb3db9d2b4ec4ac680bb03d864d7f",
            "511788bb938542cc8fbba567225e69b7",
            "24c9ad74e5b7458cb1e45d340faffce0",
            "c1760232c954476faa914fe9ca03b361",
            "ba999beb31f64199884811109f51e222"
          ]
        },
        "outputId": "7dec26f7-f705-4c94-f350-e6c1c6345c78"
      },
      "source": [
        "import time\n",
        "\n",
        "Tcollect = []\n",
        "for idx in range(1,11):\n",
        "  #print(idx)\n",
        "  df_resize = df.iloc[:int(len(df)/(10/idx)),:]\n",
        "  !rm -rf ./pd_index\n",
        "  pd_indexer = pt.DFIndexer(\"./pd_index\", overwrite=True, verbose=True)\n",
        "  Tstart = time.perf_counter()\n",
        "  indexref = pd_indexer.index(df_resize[\"text\"], df_resize)\n",
        "  Tend = time.perf_counter()\n",
        "  print(str(10*idx)+f\"% df search completed in {Tend - Tstart:0.4f} seconds\")\n",
        "  Tcollect.append(Tend - Tstart)\n",
        "\n"
      ],
      "execution_count": 9,
      "outputs": [
        {
          "output_type": "display_data",
          "data": {
            "application/vnd.jupyter.widget-view+json": {
              "model_id": "d2c1c174543b4088ab66d0dacd4b9655",
              "version_minor": 0,
              "version_major": 2
            },
            "text/plain": [
              "  0%|          | 0/692 [00:00<?, ?documents/s]"
            ]
          },
          "metadata": {}
        },
        {
          "output_type": "stream",
          "name": "stdout",
          "text": [
            "10% df search completed in 3.8968 seconds\n"
          ]
        },
        {
          "output_type": "display_data",
          "data": {
            "application/vnd.jupyter.widget-view+json": {
              "model_id": "8d116746a2d34ff0be7bce79c8d441ce",
              "version_minor": 0,
              "version_major": 2
            },
            "text/plain": [
              "  0%|          | 0/1385 [00:00<?, ?documents/s]"
            ]
          },
          "metadata": {}
        },
        {
          "output_type": "stream",
          "name": "stdout",
          "text": [
            "20% df search completed in 3.8937 seconds\n"
          ]
        },
        {
          "output_type": "display_data",
          "data": {
            "application/vnd.jupyter.widget-view+json": {
              "model_id": "b8a3b39cc3fe4e43bf470d609ff66db8",
              "version_minor": 0,
              "version_major": 2
            },
            "text/plain": [
              "  0%|          | 0/2078 [00:00<?, ?documents/s]"
            ]
          },
          "metadata": {}
        },
        {
          "output_type": "stream",
          "name": "stdout",
          "text": [
            "30% df search completed in 4.1213 seconds\n"
          ]
        },
        {
          "output_type": "display_data",
          "data": {
            "application/vnd.jupyter.widget-view+json": {
              "model_id": "569ba678ec714f418e5ea441e9ea6a8b",
              "version_minor": 0,
              "version_major": 2
            },
            "text/plain": [
              "  0%|          | 0/2771 [00:00<?, ?documents/s]"
            ]
          },
          "metadata": {}
        },
        {
          "output_type": "stream",
          "name": "stdout",
          "text": [
            "40% df search completed in 4.1428 seconds\n"
          ]
        },
        {
          "output_type": "display_data",
          "data": {
            "application/vnd.jupyter.widget-view+json": {
              "model_id": "113e17aecf4f4da3aa84e9fef15f8903",
              "version_minor": 0,
              "version_major": 2
            },
            "text/plain": [
              "  0%|          | 0/3464 [00:00<?, ?documents/s]"
            ]
          },
          "metadata": {}
        },
        {
          "output_type": "stream",
          "name": "stdout",
          "text": [
            "50% df search completed in 4.7647 seconds\n"
          ]
        },
        {
          "output_type": "display_data",
          "data": {
            "application/vnd.jupyter.widget-view+json": {
              "model_id": "32fb057874604cd4a73f3c2571406c77",
              "version_minor": 0,
              "version_major": 2
            },
            "text/plain": [
              "  0%|          | 0/4156 [00:00<?, ?documents/s]"
            ]
          },
          "metadata": {}
        },
        {
          "output_type": "stream",
          "name": "stdout",
          "text": [
            "60% df search completed in 6.0451 seconds\n"
          ]
        },
        {
          "output_type": "display_data",
          "data": {
            "application/vnd.jupyter.widget-view+json": {
              "model_id": "3405b4854496445f90f01161e2d86616",
              "version_minor": 0,
              "version_major": 2
            },
            "text/plain": [
              "  0%|          | 0/4849 [00:00<?, ?documents/s]"
            ]
          },
          "metadata": {}
        },
        {
          "output_type": "stream",
          "name": "stdout",
          "text": [
            "70% df search completed in 6.5489 seconds\n"
          ]
        },
        {
          "output_type": "display_data",
          "data": {
            "application/vnd.jupyter.widget-view+json": {
              "model_id": "348f81c9b8184096a5953db7027aa3df",
              "version_minor": 0,
              "version_major": 2
            },
            "text/plain": [
              "  0%|          | 0/5542 [00:00<?, ?documents/s]"
            ]
          },
          "metadata": {}
        },
        {
          "output_type": "stream",
          "name": "stdout",
          "text": [
            "80% df search completed in 7.1958 seconds\n"
          ]
        },
        {
          "output_type": "display_data",
          "data": {
            "application/vnd.jupyter.widget-view+json": {
              "model_id": "9ecb529fe34d48e48eb11382016cd95f",
              "version_minor": 0,
              "version_major": 2
            },
            "text/plain": [
              "  0%|          | 0/6235 [00:00<?, ?documents/s]"
            ]
          },
          "metadata": {}
        },
        {
          "output_type": "stream",
          "name": "stdout",
          "text": [
            "90% df search completed in 8.0671 seconds\n"
          ]
        },
        {
          "output_type": "display_data",
          "data": {
            "application/vnd.jupyter.widget-view+json": {
              "model_id": "2fb9c9c261964c03a4ccd12ec0268715",
              "version_minor": 0,
              "version_major": 2
            },
            "text/plain": [
              "  0%|          | 0/6928 [00:00<?, ?documents/s]"
            ]
          },
          "metadata": {}
        },
        {
          "output_type": "stream",
          "name": "stdout",
          "text": [
            "100% df search completed in 8.8863 seconds\n"
          ]
        }
      ]
    },
    {
      "cell_type": "code",
      "metadata": {
        "colab": {
          "base_uri": "https://localhost:8080/",
          "height": 278
        },
        "id": "AknJkV0KdNOn",
        "outputId": "1aab2fb1-a8f4-428c-d243-49a734416c3c"
      },
      "source": [
        "import matplotlib.pyplot as plt\n",
        "\n",
        "plotdf = pd.DataFrame({\n",
        "    'Percentage Completed':['10%', '20%', '30%', '40%', '50%', \n",
        "                            '60%', '70%', '80%', '90%', '100%'],\n",
        "    'Time(s)':Tcollect\n",
        "    })\n",
        "\n",
        "# a scatter plot comparing num_children and num_pets\n",
        "plotdf.plot(kind='line',x='Percentage Completed',y='Time(s)',color='blue')\n",
        "plt.show()\n"
      ],
      "execution_count": 10,
      "outputs": [
        {
          "output_type": "display_data",
          "data": {
            "image/png": "[encoded data removed]",
            "text/plain": [
              "<Figure size 432x288 with 1 Axes>"
            ]
          },
          "metadata": {
            "needs_background": "light"
          }
        }
      ]
    },
    {
      "cell_type": "markdown",
      "metadata": {
        "id": "by7Mt0TlHIDJ"
      },
      "source": [
        "## Indexing a Pandas dataframe\n",
        "\n",
        "We can use a `pt.DFIndexer()` object to do indexing for Pandas dataframe"
      ]
    },
    {
      "cell_type": "code",
      "metadata": {
        "id": "vw-4NIjlUY16"
      },
      "source": [
        "#import pandas as pd\n",
        "!rm -rf ./pd_index\n",
        "pd_indexer = pt.DFIndexer(\"./pd_index\", overwrite=True, verbose=True)\n",
        "# no stemming or stopwords\n",
        "pd_indexer.setProperty(\"termpipelines\", \"\")\n",
        "\n",
        "# optionally modify properties\n",
        "# index_properies = {\"block.indexing\":\"true\", \"invertedfile.lexiconscanner\":\"pointers\"}\n",
        "# indexer.setProperties(**index_properies)\n",
        "# no stemming or stopwords\n",
        "# indexer.setProperty(\"termpipelines\", \"\")"
      ],
      "execution_count": 54,
      "outputs": []
    },
    {
      "cell_type": "markdown",
      "metadata": {
        "id": "K-idBQ5OUV9c"
      },
      "source": [
        "Then there are a number of options to index the dataframe:    \n",
        "The first argument should always a pandas.Series object of Strings, which specifies the body of each document.    \n",
        "Any arguments after that are for specifying metadata.\n",
        "\n",
        "We can view more useful information from the indexed objects using a indexref.getCollectionsStatistics()"
      ]
    },
    {
      "cell_type": "code",
      "metadata": {
        "id": "rBXHWO4yUJT7",
        "colab": {
          "base_uri": "https://localhost:8080/",
          "height": 198,
          "referenced_widgets": [
            "17467a80ec7b47b4811afe554ea62b14",
            "a5bc4b555b164877a9bc94978c5b5ca7",
            "1c928834a4fe4ac78db18907adda01b3",
            "cd7bc2bb817c4aeca1dba6cd7362377d",
            "242f68e1f4f84164abe8033219e65112",
            "5d43c4a21cbe4f7ea18333339ce7d2e2",
            "46b237f4b3254701ab5ecc6962bf3db9",
            "f306f7b0cf3e48e796f5e31a0b7e3529",
            "037e5aed4df04f35a8558ced526d4228",
            "1c169d58f3d843f2a7910e1ff690fb4b",
            "859ec35acacd4cf78d3ab220f06d51fe"
          ]
        },
        "outputId": "a0c25b16-847a-4b23-bec3-c7c52b22bc05"
      },
      "source": [
        "import time\n",
        "# no metadata\n",
        "# pd_indexer.index(df[\"text\"])\n",
        "\n",
        "# Add metadata fields as Pandas.Series objects, with the name of the Series object becoming the name of the meta field.\n",
        "#indexref = pd_indexer.index(df[\"text\"], df[\"docno\"], df[\"review_id\"], df[\"user_id\"], df[\"business_id\"], df[\"stars\"], df[\"useful\"], df[\"funny\"], df[\"cool\"])\n",
        "Tstart = time.perf_counter()\n",
        "indexref = pd_indexer.index(df[\"text\"], df)\n",
        "Tend = time.perf_counter()\n",
        "print(f\"search completed in {Tend - Tstart:0.4f} seconds\")\n",
        "indexinfo = pt.IndexFactory.of(indexref)\n",
        "print(indexinfo.getCollectionStatistics().toString()) \n",
        "# pd_indexer.index(df[\"text\"], df[\"docno\"], df[\"url\"])\n",
        "\n",
        "# Add metadata fields as lists to a keyword arguement\n",
        "# pd_indexer.index(df[\"text\"], docno=[\"1\",\"2\",\"3\"], url=[\"url1\", \"url2\", \"url3\"])\n",
        "\n",
        "# Add the metadata fields with a dictionary\n",
        "# meta_fields={\"docno\":[\"1\",\"2\",\"3\"],\"url\":[\"url1\", \"url2\", \"url3\"]}\n",
        "# pd_indexer.index(df[\"text\"], **meta_fields)\n",
        "\n",
        "# Add the entire dataframe as metadata\n",
        "# pd_indexer.index(df[\"text\"], df)"
      ],
      "execution_count": 55,
      "outputs": [
        {
          "output_type": "display_data",
          "data": {
            "application/vnd.jupyter.widget-view+json": {
              "model_id": "17467a80ec7b47b4811afe554ea62b14",
              "version_minor": 0,
              "version_major": 2
            },
            "text/plain": [
              "  0%|          | 0/6928 [00:00<?, ?documents/s]"
            ]
          },
          "metadata": {}
        },
        {
          "output_type": "stream",
          "name": "stdout",
          "text": [
            "search completed in 8.9602 seconds\n",
            "Number of documents: 6928\n",
            "Number of terms: 17674\n",
            "Number of postings: 551216\n",
            "Number of fields: 0\n",
            "Number of tokens: 850337\n",
            "Field names: []\n",
            "Positions:   false\n",
            "\n"
          ]
        }
      ]
    },
    {
      "cell_type": "markdown",
      "metadata": {
        "id": "EThhcXmwIZu5"
      },
      "source": [
        "In the above example, the indexed collection had 6928 documents, which contained 388543-word occurrences. Out of which 12049 were identified as unique words. The total postings in the inverted index are 323743. \n",
        "\n",
        "The whole datafame is being index, with the `\"text\"` field being searchable while the remaining (e.g. `\"review_id\"`, `\"user_id\"`, `\"business_id\"`, `\"stars\"`, `\"date\"`, `\"useful\"`, `\"funny\"`, `\"cool\"`, `\"text\"`) as metadata which can be displayed when called upon.\n",
        "\n",
        "pyTerrier perform standard stopwords removal and applies Porter's stemmer by default, and it is applicable in this notebook as well.\n",
        "EnglishTokeniser is the default tokeniser and case-folding to lower case is applied during Tokenization"
      ]
    },
    {
      "cell_type": "markdown",
      "metadata": {
        "id": "IKrZNyaUXRMg"
      },
      "source": [
        "## Retrieval\n",
        "\n",
        "Retrieval takes place using the `BatchRetrieve` object, by invoking `transform()` method for one or more queries. For a quick test, you can give just pass your query to `transform()`. \n",
        "\n",
        "BatchRetrieve will return the results as a Pandas dataframe.\n"
      ]
    },
    {
      "cell_type": "code",
      "metadata": {
        "id": "zWj6YnN4Wnsz"
      },
      "source": [
        "#pt.BatchRetrieve(indexref).search(\"so many\")"
      ],
      "execution_count": 13,
      "outputs": []
    },
    {
      "cell_type": "code",
      "metadata": {
        "id": "xbVTWDYuUFud"
      },
      "source": [
        "\n",
        "#this ranker will make the candidate set of documents for each query\n",
        "#BM25 = pt.BatchRetrieve(indexref, controls = {\"wmodel\": \"BM25\"}, num_results=5)\n",
        "#these rankers we will use to re-rank the BM25 results\n",
        "#TF_IDF = pt.BatchRetrieve(indexref, controls = {\"wmodel\": \"TF_IDF\"}, num_results=5)\n",
        "#PL2 =  pt.BatchRetrieve(indexref, controls = {\"wmodel\": \"PL2\"}, num_results=5)\n",
        "\n",
        "#pipe = BM25 >> (TF_IDF ** PL2)\n",
        "#pipe.transform(\"really cute restaurant\") \n"
      ],
      "execution_count": null,
      "outputs": []
    },
    {
      "cell_type": "code",
      "metadata": {
        "id": "DGb6SCdsVB1y"
      },
      "source": [
        "#pt.BatchRetrieve(indexref, controls = {\"wmodel\": \"PL2\"}, num_results=5).search(\"Really cute restaurant\")\n"
      ],
      "execution_count": 15,
      "outputs": []
    },
    {
      "cell_type": "code",
      "metadata": {
        "colab": {
          "base_uri": "https://localhost:8080/",
          "height": 355
        },
        "id": "17WV98IMHj_U",
        "outputId": "54a2e3aa-94ff-4c35-ddf2-3a5c891ecb9a"
      },
      "source": [
        "#pt.BatchRetrieve(indexref, wmodel=\"BM25\", properties={\"termpipelines\" : \"Stopwords,PorterStemmer\"})\n",
        "#pt.BatchRetrieve(indexref, controls = {\"wmodel\": \"BM25\"}, properties={\"termpipelines\" : \"\"}, num_results=10).search(\"Really cute restaurant\")\n",
        "#pt.BatchRetrieve(indexref, metadata=[\"business_id\", \"stars\"], num_results=10).search(\"Really cute restaurant\")\n"
      ],
      "execution_count": 32,
      "outputs": [
        {
          "output_type": "execute_result",
          "data": {
            "text/html": [
              "<div>\n",
              "<style scoped>\n",
              "    .dataframe tbody tr th:only-of-type {\n",
              "        vertical-align: middle;\n",
              "    }\n",
              "\n",
              "    .dataframe tbody tr th {\n",
              "        vertical-align: top;\n",
              "    }\n",
              "\n",
              "    .dataframe thead th {\n",
              "        text-align: right;\n",
              "    }\n",
              "</style>\n",
              "<table border=\"1\" class=\"dataframe\">\n",
              "  <thead>\n",
              "    <tr style=\"text-align: right;\">\n",
              "      <th></th>\n",
              "      <th>qid</th>\n",
              "      <th>docid</th>\n",
              "      <th>docno</th>\n",
              "      <th>rank</th>\n",
              "      <th>score</th>\n",
              "      <th>query</th>\n",
              "    </tr>\n",
              "  </thead>\n",
              "  <tbody>\n",
              "    <tr>\n",
              "      <th>0</th>\n",
              "      <td>1</td>\n",
              "      <td>5183</td>\n",
              "      <td>d5184</td>\n",
              "      <td>0</td>\n",
              "      <td>12.877068</td>\n",
              "      <td>Really cute restaurant</td>\n",
              "    </tr>\n",
              "    <tr>\n",
              "      <th>1</th>\n",
              "      <td>1</td>\n",
              "      <td>0</td>\n",
              "      <td>d1</td>\n",
              "      <td>1</td>\n",
              "      <td>12.733366</td>\n",
              "      <td>Really cute restaurant</td>\n",
              "    </tr>\n",
              "    <tr>\n",
              "      <th>2</th>\n",
              "      <td>1</td>\n",
              "      <td>5656</td>\n",
              "      <td>d5657</td>\n",
              "      <td>2</td>\n",
              "      <td>12.292438</td>\n",
              "      <td>Really cute restaurant</td>\n",
              "    </tr>\n",
              "    <tr>\n",
              "      <th>3</th>\n",
              "      <td>1</td>\n",
              "      <td>5785</td>\n",
              "      <td>d5786</td>\n",
              "      <td>3</td>\n",
              "      <td>12.262675</td>\n",
              "      <td>Really cute restaurant</td>\n",
              "    </tr>\n",
              "    <tr>\n",
              "      <th>4</th>\n",
              "      <td>1</td>\n",
              "      <td>5237</td>\n",
              "      <td>d5238</td>\n",
              "      <td>4</td>\n",
              "      <td>11.980537</td>\n",
              "      <td>Really cute restaurant</td>\n",
              "    </tr>\n",
              "    <tr>\n",
              "      <th>5</th>\n",
              "      <td>1</td>\n",
              "      <td>6114</td>\n",
              "      <td>d6115</td>\n",
              "      <td>5</td>\n",
              "      <td>11.736152</td>\n",
              "      <td>Really cute restaurant</td>\n",
              "    </tr>\n",
              "    <tr>\n",
              "      <th>6</th>\n",
              "      <td>1</td>\n",
              "      <td>5229</td>\n",
              "      <td>d5230</td>\n",
              "      <td>6</td>\n",
              "      <td>11.426839</td>\n",
              "      <td>Really cute restaurant</td>\n",
              "    </tr>\n",
              "    <tr>\n",
              "      <th>7</th>\n",
              "      <td>1</td>\n",
              "      <td>5074</td>\n",
              "      <td>d5075</td>\n",
              "      <td>7</td>\n",
              "      <td>11.167639</td>\n",
              "      <td>Really cute restaurant</td>\n",
              "    </tr>\n",
              "    <tr>\n",
              "      <th>8</th>\n",
              "      <td>1</td>\n",
              "      <td>3274</td>\n",
              "      <td>d3275</td>\n",
              "      <td>8</td>\n",
              "      <td>11.116354</td>\n",
              "      <td>Really cute restaurant</td>\n",
              "    </tr>\n",
              "    <tr>\n",
              "      <th>9</th>\n",
              "      <td>1</td>\n",
              "      <td>5265</td>\n",
              "      <td>d5266</td>\n",
              "      <td>9</td>\n",
              "      <td>11.010630</td>\n",
              "      <td>Really cute restaurant</td>\n",
              "    </tr>\n",
              "  </tbody>\n",
              "</table>\n",
              "</div>"
            ],
            "text/plain": [
              "  qid  docid  docno  rank      score                   query\n",
              "0   1   5183  d5184     0  12.877068  Really cute restaurant\n",
              "1   1      0     d1     1  12.733366  Really cute restaurant\n",
              "2   1   5656  d5657     2  12.292438  Really cute restaurant\n",
              "3   1   5785  d5786     3  12.262675  Really cute restaurant\n",
              "4   1   5237  d5238     4  11.980537  Really cute restaurant\n",
              "5   1   6114  d6115     5  11.736152  Really cute restaurant\n",
              "6   1   5229  d5230     6  11.426839  Really cute restaurant\n",
              "7   1   5074  d5075     7  11.167639  Really cute restaurant\n",
              "8   1   3274  d3275     8  11.116354  Really cute restaurant\n",
              "9   1   5265  d5266     9  11.010630  Really cute restaurant"
            ]
          },
          "metadata": {},
          "execution_count": 32
        }
      ]
    },
    {
      "cell_type": "markdown",
      "metadata": {
        "id": "oK_wOzQrqi8t"
      },
      "source": [
        "However, most IR experiments, will use a set of queries. You can pass such a set using a data frame for input."
      ]
    },
    {
      "cell_type": "code",
      "metadata": {
        "id": "dgtauIOAXGFY"
      },
      "source": [
        "#import pandas as pd\n",
        "#topics = pd.DataFrame([[\"q1\", \"Really cute restaurant\"], [\"q2\", \"restaurant\"]],columns=['qid','query'])\n",
        "#pt.BatchRetrieve(indexref, metadata=[\"text\"], num_results=5).transform(topics)"
      ],
      "execution_count": 17,
      "outputs": []
    },
    {
      "cell_type": "markdown",
      "metadata": {
        "id": "mTgSUnddNOeW"
      },
      "source": [
        "## Simple Search Engine\n",
        "\n",
        "Prompting user input for search string\n",
        "Prompting user input for the Top N results to return\n",
        "Display the time taken to complete the search\n",
        "Display the search results"
      ]
    },
    {
      "cell_type": "code",
      "metadata": {
        "colab": {
          "base_uri": "https://localhost:8080/",
          "height": 115
        },
        "id": "PuwkALdueXRf",
        "outputId": "6b01423a-82f9-4807-ae10-432af6346966"
      },
      "source": [
        "import time\n",
        "import pandas as pd\n",
        "pd.reset_option('^display.', silent=True)\n",
        "#pd.set_option('display.max_rows', None)\n",
        "pd.set_option('display.max_columns', None)\n",
        "#pd.set_option('display.width', None)\n",
        "#pd.set_option('display.max_colwidth', -1)\n",
        "\n",
        "search_str = input(\"Please enter your search string: \")\n",
        "#print(\"Search string: \", search_str)\n",
        "TopN = input(\"Please enter number results to display: \")\n",
        "#print(\"Top N results: \", TopN)\n",
        "Tstart = time.perf_counter()\n",
        "topics = pd.DataFrame([[\"q1\", search_str]],columns=['qid','query'])\n",
        "results = pt.BatchRetrieve(indexref, metadata=[\"text\"], num_results=int(TopN)).transform(topics)\n",
        "Tend = time.perf_counter()\n",
        "print(f\"search completed in {Tend - Tstart:0.4f} seconds\")\n",
        "\n",
        "if len(results) == 0:\n",
        "  print(\"no result found!\")\n",
        "#else:\n",
        "  #print(\"len: \", len(results))\n",
        "  #print(results)\n",
        "\n",
        "results"
      ],
      "execution_count": 18,
      "outputs": [
        {
          "output_type": "stream",
          "name": "stdout",
          "text": [
            "Please enter your search string: xavier\n",
            "Please enter number results to display: 5\n",
            "search completed in 0.0650 seconds\n",
            "no result found!\n"
          ]
        },
        {
          "output_type": "execute_result",
          "data": {
            "text/html": [
              "<div>\n",
              "<style scoped>\n",
              "    .dataframe tbody tr th:only-of-type {\n",
              "        vertical-align: middle;\n",
              "    }\n",
              "\n",
              "    .dataframe tbody tr th {\n",
              "        vertical-align: top;\n",
              "    }\n",
              "\n",
              "    .dataframe thead th {\n",
              "        text-align: right;\n",
              "    }\n",
              "</style>\n",
              "<table border=\"1\" class=\"dataframe\">\n",
              "  <thead>\n",
              "    <tr style=\"text-align: right;\">\n",
              "      <th></th>\n",
              "      <th>docid</th>\n",
              "      <th>text</th>\n",
              "      <th>rank</th>\n",
              "      <th>score</th>\n",
              "      <th>qid</th>\n",
              "      <th>query</th>\n",
              "    </tr>\n",
              "  </thead>\n",
              "  <tbody>\n",
              "  </tbody>\n",
              "</table>\n",
              "</div>"
            ],
            "text/plain": [
              "Empty DataFrame\n",
              "Columns: [docid, text, rank, score, qid, query]\n",
              "Index: []"
            ]
          },
          "metadata": {},
          "execution_count": 18
        }
      ]
    },
    {
      "cell_type": "markdown",
      "metadata": {
        "id": "XLcNP0XHqwQs"
      },
      "source": [
        "Thats the end of the indexing tutorial - you can continue with other example tutorials."
      ]
    }
  ]
}