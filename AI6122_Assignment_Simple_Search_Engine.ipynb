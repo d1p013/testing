{
  "nbformat": 4,
  "nbformat_minor": 0,
  "metadata": {
    "colab": {
      "name": "AI6122_Assignment_Simple_Search_Engine.ipynb",
      "provenance": [],
      "collapsed_sections": [],
      "include_colab_link": true
    },
    "kernelspec": {
      "name": "python3",
      "display_name": "Python 3"
    },
    "widgets": {
      "application/vnd.jupyter.widget-state+json": {
        "9c016d105d614dd1873038f0ae896a48": {
          "model_module": "@jupyter-widgets/controls",
          "model_name": "HBoxModel",
          "model_module_version": "1.5.0",
          "state": {
            "_view_name": "HBoxView",
            "_dom_classes": [],
            "_model_name": "HBoxModel",
            "_view_module": "@jupyter-widgets/controls",
            "_model_module_version": "1.5.0",
            "_view_count": null,
            "_view_module_version": "1.5.0",
            "box_style": "",
            "layout": "IPY_MODEL_ca9bc21a567a4f9c998c5f0f0418aeaa",
            "_model_module": "@jupyter-widgets/controls",
            "children": [
              "IPY_MODEL_4a97eeb0a7f34167866e55c1cd2a5020",
              "IPY_MODEL_3a233a11b1344c3a92c0e93919cf2c86",
              "IPY_MODEL_60e803bc4f254e78a67d22cc96ee29f6"
            ]
          }
        },
        "ca9bc21a567a4f9c998c5f0f0418aeaa": {
          "model_module": "@jupyter-widgets/base",
          "model_name": "LayoutModel",
          "model_module_version": "1.2.0",
          "state": {
            "_view_name": "LayoutView",
            "grid_template_rows": null,
            "right": null,
            "justify_content": null,
            "_view_module": "@jupyter-widgets/base",
            "overflow": null,
            "_model_module_version": "1.2.0",
            "_view_count": null,
            "flex_flow": null,
            "width": null,
            "min_width": null,
            "border": null,
            "align_items": null,
            "bottom": null,
            "_model_module": "@jupyter-widgets/base",
            "top": null,
            "grid_column": null,
            "overflow_y": null,
            "overflow_x": null,
            "grid_auto_flow": null,
            "grid_area": null,
            "grid_template_columns": null,
            "flex": null,
            "_model_name": "LayoutModel",
            "justify_items": null,
            "grid_row": null,
            "max_height": null,
            "align_content": null,
            "visibility": null,
            "align_self": null,
            "height": null,
            "min_height": null,
            "padding": null,
            "grid_auto_rows": null,
            "grid_gap": null,
            "max_width": null,
            "order": null,
            "_view_module_version": "1.2.0",
            "grid_template_areas": null,
            "object_position": null,
            "object_fit": null,
            "grid_auto_columns": null,
            "margin": null,
            "display": null,
            "left": null
          }
        },
        "4a97eeb0a7f34167866e55c1cd2a5020": {
          "model_module": "@jupyter-widgets/controls",
          "model_name": "HTMLModel",
          "model_module_version": "1.5.0",
          "state": {
            "_view_name": "HTMLView",
            "style": "IPY_MODEL_e2471824ac96467ca311d274db974e14",
            "_dom_classes": [],
            "description": "",
            "_model_name": "HTMLModel",
            "placeholder": "​",
            "_view_module": "@jupyter-widgets/controls",
            "_model_module_version": "1.5.0",
            "value": "",
            "_view_count": null,
            "_view_module_version": "1.5.0",
            "description_tooltip": null,
            "_model_module": "@jupyter-widgets/controls",
            "layout": "IPY_MODEL_5d90a07cba0a47f78f7393bb4d15af67"
          }
        },
        "3a233a11b1344c3a92c0e93919cf2c86": {
          "model_module": "@jupyter-widgets/controls",
          "model_name": "FloatProgressModel",
          "model_module_version": "1.5.0",
          "state": {
            "_view_name": "ProgressView",
            "style": "IPY_MODEL_92deccef27384476bca40f7909dfb094",
            "_dom_classes": [],
            "description": "",
            "_model_name": "FloatProgressModel",
            "bar_style": "success",
            "max": 6928,
            "_view_module": "@jupyter-widgets/controls",
            "_model_module_version": "1.5.0",
            "value": 6928,
            "_view_count": null,
            "_view_module_version": "1.5.0",
            "orientation": "horizontal",
            "min": 0,
            "description_tooltip": null,
            "_model_module": "@jupyter-widgets/controls",
            "layout": "IPY_MODEL_2bb1d0ce41a942bd9d32b0d2b52c8c3c"
          }
        },
        "60e803bc4f254e78a67d22cc96ee29f6": {
          "model_module": "@jupyter-widgets/controls",
          "model_name": "HTMLModel",
          "model_module_version": "1.5.0",
          "state": {
            "_view_name": "HTMLView",
            "style": "IPY_MODEL_bb382eea5f904a9f8c1bca01dd74c992",
            "_dom_classes": [],
            "description": "",
            "_model_name": "HTMLModel",
            "placeholder": "​",
            "_view_module": "@jupyter-widgets/controls",
            "_model_module_version": "1.5.0",
            "value": " 6929/? [00:09&lt;00:00, 897.13documents/s]",
            "_view_count": null,
            "_view_module_version": "1.5.0",
            "description_tooltip": null,
            "_model_module": "@jupyter-widgets/controls",
            "layout": "IPY_MODEL_a60f2817b24b457590c0744a085ae126"
          }
        },
        "e2471824ac96467ca311d274db974e14": {
          "model_module": "@jupyter-widgets/controls",
          "model_name": "DescriptionStyleModel",
          "model_module_version": "1.5.0",
          "state": {
            "_view_name": "StyleView",
            "_model_name": "DescriptionStyleModel",
            "description_width": "",
            "_view_module": "@jupyter-widgets/base",
            "_model_module_version": "1.5.0",
            "_view_count": null,
            "_view_module_version": "1.2.0",
            "_model_module": "@jupyter-widgets/controls"
          }
        },
        "5d90a07cba0a47f78f7393bb4d15af67": {
          "model_module": "@jupyter-widgets/base",
          "model_name": "LayoutModel",
          "model_module_version": "1.2.0",
          "state": {
            "_view_name": "LayoutView",
            "grid_template_rows": null,
            "right": null,
            "justify_content": null,
            "_view_module": "@jupyter-widgets/base",
            "overflow": null,
            "_model_module_version": "1.2.0",
            "_view_count": null,
            "flex_flow": null,
            "width": null,
            "min_width": null,
            "border": null,
            "align_items": null,
            "bottom": null,
            "_model_module": "@jupyter-widgets/base",
            "top": null,
            "grid_column": null,
            "overflow_y": null,
            "overflow_x": null,
            "grid_auto_flow": null,
            "grid_area": null,
            "grid_template_columns": null,
            "flex": null,
            "_model_name": "LayoutModel",
            "justify_items": null,
            "grid_row": null,
            "max_height": null,
            "align_content": null,
            "visibility": null,
            "align_self": null,
            "height": null,
            "min_height": null,
            "padding": null,
            "grid_auto_rows": null,
            "grid_gap": null,
            "max_width": null,
            "order": null,
            "_view_module_version": "1.2.0",
            "grid_template_areas": null,
            "object_position": null,
            "object_fit": null,
            "grid_auto_columns": null,
            "margin": null,
            "display": null,
            "left": null
          }
        },
        "92deccef27384476bca40f7909dfb094": {
          "model_module": "@jupyter-widgets/controls",
          "model_name": "ProgressStyleModel",
          "model_module_version": "1.5.0",
          "state": {
            "_view_name": "StyleView",
            "_model_name": "ProgressStyleModel",
            "description_width": "",
            "_view_module": "@jupyter-widgets/base",
            "_model_module_version": "1.5.0",
            "_view_count": null,
            "_view_module_version": "1.2.0",
            "bar_color": null,
            "_model_module": "@jupyter-widgets/controls"
          }
        },
        "2bb1d0ce41a942bd9d32b0d2b52c8c3c": {
          "model_module": "@jupyter-widgets/base",
          "model_name": "LayoutModel",
          "model_module_version": "1.2.0",
          "state": {
            "_view_name": "LayoutView",
            "grid_template_rows": null,
            "right": null,
            "justify_content": null,
            "_view_module": "@jupyter-widgets/base",
            "overflow": null,
            "_model_module_version": "1.2.0",
            "_view_count": null,
            "flex_flow": null,
            "width": null,
            "min_width": null,
            "border": null,
            "align_items": null,
            "bottom": null,
            "_model_module": "@jupyter-widgets/base",
            "top": null,
            "grid_column": null,
            "overflow_y": null,
            "overflow_x": null,
            "grid_auto_flow": null,
            "grid_area": null,
            "grid_template_columns": null,
            "flex": null,
            "_model_name": "LayoutModel",
            "justify_items": null,
            "grid_row": null,
            "max_height": null,
            "align_content": null,
            "visibility": null,
            "align_self": null,
            "height": null,
            "min_height": null,
            "padding": null,
            "grid_auto_rows": null,
            "grid_gap": null,
            "max_width": null,
            "order": null,
            "_view_module_version": "1.2.0",
            "grid_template_areas": null,
            "object_position": null,
            "object_fit": null,
            "grid_auto_columns": null,
            "margin": null,
            "display": null,
            "left": null
          }
        },
        "bb382eea5f904a9f8c1bca01dd74c992": {
          "model_module": "@jupyter-widgets/controls",
          "model_name": "DescriptionStyleModel",
          "model_module_version": "1.5.0",
          "state": {
            "_view_name": "StyleView",
            "_model_name": "DescriptionStyleModel",
            "description_width": "",
            "_view_module": "@jupyter-widgets/base",
            "_model_module_version": "1.5.0",
            "_view_count": null,
            "_view_module_version": "1.2.0",
            "_model_module": "@jupyter-widgets/controls"
          }
        },
        "a60f2817b24b457590c0744a085ae126": {
          "model_module": "@jupyter-widgets/base",
          "model_name": "LayoutModel",
          "model_module_version": "1.2.0",
          "state": {
            "_view_name": "LayoutView",
            "grid_template_rows": null,
            "right": null,
            "justify_content": null,
            "_view_module": "@jupyter-widgets/base",
            "overflow": null,
            "_model_module_version": "1.2.0",
            "_view_count": null,
            "flex_flow": null,
            "width": null,
            "min_width": null,
            "border": null,
            "align_items": null,
            "bottom": null,
            "_model_module": "@jupyter-widgets/base",
            "top": null,
            "grid_column": null,
            "overflow_y": null,
            "overflow_x": null,
            "grid_auto_flow": null,
            "grid_area": null,
            "grid_template_columns": null,
            "flex": null,
            "_model_name": "LayoutModel",
            "justify_items": null,
            "grid_row": null,
            "max_height": null,
            "align_content": null,
            "visibility": null,
            "align_self": null,
            "height": null,
            "min_height": null,
            "padding": null,
            "grid_auto_rows": null,
            "grid_gap": null,
            "max_width": null,
            "order": null,
            "_view_module_version": "1.2.0",
            "grid_template_areas": null,
            "object_position": null,
            "object_fit": null,
            "grid_auto_columns": null,
            "margin": null,
            "display": null,
            "left": null
          }
        }
      }
    }
  },
  "cells": [
    {
      "cell_type": "markdown",
      "metadata": {
        "id": "view-in-github",
        "colab_type": "text"
      },
      "source": [
        "<a href=\"https://colab.research.google.com/github/d1p013/testing/blob/master/AI6122_Assignment_Simple_Search_Engine.ipynb\" target=\"_parent\"><img src=\"https://colab.research.google.com/assets/colab-badge.svg\" alt=\"Open In Colab\"/></a>"
      ]
    },
    {
      "cell_type": "markdown",
      "metadata": {
        "id": "TNdMHD8LS2Bm"
      },
      "source": [
        "# PyTerrier Indexing Demo\n",
        "\n",
        "This notebook takes you through indexing using [PyTerrier](https://github.com/terrier-org/pyterrier)."
      ]
    },
    {
      "cell_type": "markdown",
      "metadata": {
        "id": "pkMrNonZrpEg"
      },
      "source": [
        "## Prerequisites\n",
        "\n",
        "You will need PyTerrier installed. PyTerrier also needs Java to be installed, and will find most installations."
      ]
    },
    {
      "cell_type": "code",
      "metadata": {
        "id": "JWLqWXBHeBRc",
        "colab": {
          "base_uri": "https://localhost:8080/",
          "height": 1000
        },
        "outputId": "92a1a74d-10c3-44dd-bccd-9d69bf014de7"
      },
      "source": [
        "!pip install python-terrier\n",
        "#!pip install --upgrade git+https://github.com/terrier-org/pyterrier.git#egg=python-terrier"
      ],
      "execution_count": 2,
      "outputs": [
        {
          "output_type": "stream",
          "name": "stdout",
          "text": [
            "Collecting python-terrier\n",
            "  Downloading python-terrier-0.7.0.tar.gz (95 kB)\n",
            "\u001b[?25l\r\u001b[K     |███▍                            | 10 kB 25.0 MB/s eta 0:00:01\r\u001b[K     |██████▉                         | 20 kB 31.7 MB/s eta 0:00:01\r\u001b[K     |██████████▎                     | 30 kB 38.8 MB/s eta 0:00:01\r\u001b[K     |█████████████▊                  | 40 kB 32.7 MB/s eta 0:00:01\r\u001b[K     |█████████████████▏              | 51 kB 19.2 MB/s eta 0:00:01\r\u001b[K     |████████████████████▋           | 61 kB 20.0 MB/s eta 0:00:01\r\u001b[K     |████████████████████████        | 71 kB 14.4 MB/s eta 0:00:01\r\u001b[K     |███████████████████████████▌    | 81 kB 15.9 MB/s eta 0:00:01\r\u001b[K     |███████████████████████████████ | 92 kB 17.5 MB/s eta 0:00:01\r\u001b[K     |████████████████████████████████| 95 kB 3.7 MB/s \n",
            "\u001b[?25hRequirement already satisfied: numpy in /usr/local/lib/python3.7/dist-packages (from python-terrier) (1.19.5)\n",
            "Requirement already satisfied: pandas in /usr/local/lib/python3.7/dist-packages (from python-terrier) (1.1.5)\n",
            "Collecting wget\n",
            "  Downloading wget-3.2.zip (10 kB)\n",
            "Requirement already satisfied: tqdm in /usr/local/lib/python3.7/dist-packages (from python-terrier) (4.62.3)\n",
            "Collecting pyjnius~=1.3.0\n",
            "  Downloading pyjnius-1.3.0-cp37-cp37m-manylinux2010_x86_64.whl (1.1 MB)\n",
            "\u001b[K     |████████████████████████████████| 1.1 MB 52.7 MB/s \n",
            "\u001b[?25hCollecting matchpy\n",
            "  Downloading matchpy-0.5.4-py3-none-any.whl (69 kB)\n",
            "\u001b[K     |████████████████████████████████| 69 kB 8.4 MB/s \n",
            "\u001b[?25hRequirement already satisfied: sklearn in /usr/local/lib/python3.7/dist-packages (from python-terrier) (0.0)\n",
            "Collecting deprecation\n",
            "  Downloading deprecation-2.1.0-py2.py3-none-any.whl (11 kB)\n",
            "Collecting chest\n",
            "  Downloading chest-0.2.3.tar.gz (9.6 kB)\n",
            "Requirement already satisfied: scipy in /usr/local/lib/python3.7/dist-packages (from python-terrier) (1.4.1)\n",
            "Requirement already satisfied: requests in /usr/local/lib/python3.7/dist-packages (from python-terrier) (2.23.0)\n",
            "Requirement already satisfied: joblib in /usr/local/lib/python3.7/dist-packages (from python-terrier) (1.0.1)\n",
            "Collecting nptyping\n",
            "  Downloading nptyping-1.4.4-py3-none-any.whl (31 kB)\n",
            "Requirement already satisfied: more_itertools in /usr/local/lib/python3.7/dist-packages (from python-terrier) (8.10.0)\n",
            "Collecting ir_datasets>=0.3.2\n",
            "  Downloading ir_datasets-0.4.3-py3-none-any.whl (222 kB)\n",
            "\u001b[K     |████████████████████████████████| 222 kB 71.9 MB/s \n",
            "\u001b[?25hRequirement already satisfied: jinja2 in /usr/local/lib/python3.7/dist-packages (from python-terrier) (2.11.3)\n",
            "Requirement already satisfied: statsmodels in /usr/local/lib/python3.7/dist-packages (from python-terrier) (0.10.2)\n",
            "Collecting ir_measures>=0.2.0\n",
            "  Downloading ir_measures-0.2.1.tar.gz (36 kB)\n",
            "Requirement already satisfied: dill in /usr/local/lib/python3.7/dist-packages (from python-terrier) (0.3.4)\n",
            "Collecting trec-car-tools>=2.5.4\n",
            "  Downloading trec_car_tools-2.5.4-py3-none-any.whl (8.1 kB)\n",
            "Collecting pyyaml>=5.3.1\n",
            "  Downloading PyYAML-5.4.1-cp37-cp37m-manylinux1_x86_64.whl (636 kB)\n",
            "\u001b[K     |████████████████████████████████| 636 kB 75.7 MB/s \n",
            "\u001b[?25hCollecting zlib-state>=0.1.3\n",
            "  Downloading zlib_state-0.1.3-cp37-cp37m-manylinux2010_x86_64.whl (72 kB)\n",
            "\u001b[K     |████████████████████████████████| 72 kB 1.8 MB/s \n",
            "\u001b[?25hCollecting warc3-wet-clueweb09>=0.2.5\n",
            "  Downloading warc3-wet-clueweb09-0.2.5.tar.gz (17 kB)\n",
            "Collecting lz4>=3.1.1\n",
            "  Downloading lz4-3.1.3-cp37-cp37m-manylinux2010_x86_64.whl (1.8 MB)\n",
            "\u001b[K     |████████████████████████████████| 1.8 MB 53.7 MB/s \n",
            "\u001b[?25hCollecting pyautocorpus>=0.1.1\n",
            "  Downloading pyautocorpus-0.1.6-cp37-cp37m-manylinux_2_12_x86_64.manylinux2010_x86_64.whl (294 kB)\n",
            "\u001b[K     |████████████████████████████████| 294 kB 80.4 MB/s \n",
            "\u001b[?25hCollecting ijson>=3.1.3\n",
            "  Downloading ijson-3.1.4-cp37-cp37m-manylinux2010_x86_64.whl (126 kB)\n",
            "\u001b[K     |████████████████████████████████| 126 kB 68.2 MB/s \n",
            "\u001b[?25hCollecting warc3-wet>=0.2.3\n",
            "  Downloading warc3_wet-0.2.3-py3-none-any.whl (13 kB)\n",
            "Collecting lxml>=4.5.2\n",
            "  Downloading lxml-4.6.3-cp37-cp37m-manylinux2014_x86_64.whl (6.3 MB)\n",
            "\u001b[K     |████████████████████████████████| 6.3 MB 70.5 MB/s \n",
            "\u001b[?25hRequirement already satisfied: beautifulsoup4>=4.4.1 in /usr/local/lib/python3.7/dist-packages (from ir_datasets>=0.3.2->python-terrier) (4.6.3)\n",
            "Collecting pytrec-eval-terrier==0.5.1\n",
            "  Downloading pytrec_eval_terrier-0.5.1-cp37-cp37m-manylinux2010_x86_64.whl (291 kB)\n",
            "\u001b[K     |████████████████████████████████| 291 kB 81.5 MB/s \n",
            "\u001b[?25hCollecting cwl-eval>=1.0.10\n",
            "  Downloading cwl-eval-1.0.10.tar.gz (31 kB)\n",
            "Requirement already satisfied: cython in /usr/local/lib/python3.7/dist-packages (from pyjnius~=1.3.0->python-terrier) (0.29.24)\n",
            "Requirement already satisfied: six>=1.7.0 in /usr/local/lib/python3.7/dist-packages (from pyjnius~=1.3.0->python-terrier) (1.15.0)\n",
            "Requirement already satisfied: idna<3,>=2.5 in /usr/local/lib/python3.7/dist-packages (from requests->python-terrier) (2.10)\n",
            "Requirement already satisfied: chardet<4,>=3.0.2 in /usr/local/lib/python3.7/dist-packages (from requests->python-terrier) (3.0.4)\n",
            "Requirement already satisfied: certifi>=2017.4.17 in /usr/local/lib/python3.7/dist-packages (from requests->python-terrier) (2021.5.30)\n",
            "Requirement already satisfied: urllib3!=1.25.0,!=1.25.1,<1.26,>=1.21.1 in /usr/local/lib/python3.7/dist-packages (from requests->python-terrier) (1.24.3)\n",
            "Collecting cbor>=1.0.0\n",
            "  Downloading cbor-1.0.0.tar.gz (20 kB)\n",
            "Requirement already satisfied: heapdict in /usr/local/lib/python3.7/dist-packages (from chest->python-terrier) (1.0.1)\n",
            "Requirement already satisfied: packaging in /usr/local/lib/python3.7/dist-packages (from deprecation->python-terrier) (21.0)\n",
            "Requirement already satisfied: MarkupSafe>=0.23 in /usr/local/lib/python3.7/dist-packages (from jinja2->python-terrier) (2.0.1)\n",
            "Collecting multiset<3.0,>=2.0\n",
            "  Downloading multiset-2.1.1-py2.py3-none-any.whl (8.8 kB)\n",
            "Collecting typish>=1.7.0\n",
            "  Downloading typish-1.9.3-py3-none-any.whl (45 kB)\n",
            "\u001b[K     |████████████████████████████████| 45 kB 3.3 MB/s \n",
            "\u001b[?25hRequirement already satisfied: pyparsing>=2.0.2 in /usr/local/lib/python3.7/dist-packages (from packaging->deprecation->python-terrier) (2.4.7)\n",
            "Requirement already satisfied: pytz>=2017.2 in /usr/local/lib/python3.7/dist-packages (from pandas->python-terrier) (2018.9)\n",
            "Requirement already satisfied: python-dateutil>=2.7.3 in /usr/local/lib/python3.7/dist-packages (from pandas->python-terrier) (2.8.2)\n",
            "Requirement already satisfied: scikit-learn in /usr/local/lib/python3.7/dist-packages (from sklearn->python-terrier) (0.22.2.post1)\n",
            "Requirement already satisfied: patsy>=0.4.0 in /usr/local/lib/python3.7/dist-packages (from statsmodels->python-terrier) (0.5.2)\n",
            "Building wheels for collected packages: python-terrier, ir-measures, cwl-eval, cbor, warc3-wet-clueweb09, chest, wget\n",
            "  Building wheel for python-terrier (setup.py) ... \u001b[?25l\u001b[?25hdone\n",
            "  Created wheel for python-terrier: filename=python_terrier-0.7.0-py3-none-any.whl size=102213 sha256=9960c87685e9bf3f501417373a39cf6b8736e4840f3678fb4e870b9b47a4faee\n",
            "  Stored in directory: /root/.cache/pip/wheels/e3/84/1e/68c08f14e2481e2b3e7c1a2c24bb1220712bc3f5d3896c28df\n",
            "  Building wheel for ir-measures (setup.py) ... \u001b[?25l\u001b[?25hdone\n",
            "  Created wheel for ir-measures: filename=ir_measures-0.2.1-py3-none-any.whl size=46421 sha256=e9130d968e535c8ff842d7b89dd8ef8a68ad969f6a723b4bd2d2bf2dbac7d330\n",
            "  Stored in directory: /root/.cache/pip/wheels/38/a4/34/d0b2e6c329f3d0fab3d3c3ed296b963cee47872811acdc3628\n",
            "  Building wheel for cwl-eval (setup.py) ... \u001b[?25l\u001b[?25hdone\n",
            "  Created wheel for cwl-eval: filename=cwl_eval-1.0.10-py3-none-any.whl size=37795 sha256=77d8ce9191863ecc22798675b155ed895f8890a0e705a093c632db02306dd27d\n",
            "  Stored in directory: /root/.cache/pip/wheels/ff/e9/ff/d2b6d72d9feb0d0b1b11aacfaf5cd866717034615c2d194093\n",
            "  Building wheel for cbor (setup.py) ... \u001b[?25l\u001b[?25hdone\n",
            "  Created wheel for cbor: filename=cbor-1.0.0-cp37-cp37m-linux_x86_64.whl size=51313 sha256=a640dc8355320fd7b32969af2daaedd0dee6f06941d1cc6a665257fc33939539\n",
            "  Stored in directory: /root/.cache/pip/wheels/19/77/49/c9c2c8dc5848502e606e8579d0bbda18b850fb056a6c62239d\n",
            "  Building wheel for warc3-wet-clueweb09 (setup.py) ... \u001b[?25l\u001b[?25hdone\n",
            "  Created wheel for warc3-wet-clueweb09: filename=warc3_wet_clueweb09-0.2.5-py3-none-any.whl size=18921 sha256=3cf90d7cdc4832f5669a0cf7d4dce0d6f053d0a9bc4909792c2548a8eb948a0a\n",
            "  Stored in directory: /root/.cache/pip/wheels/42/d4/3c/7c2b0c3d400ad744e4db69f2fde166655da2ed2198bfc02db6\n",
            "  Building wheel for chest (setup.py) ... \u001b[?25l\u001b[?25hdone\n",
            "  Created wheel for chest: filename=chest-0.2.3-py3-none-any.whl size=7632 sha256=301990b1be63a4741dae508b12de037223e3184e845a69e00eab76c1202367e1\n",
            "  Stored in directory: /root/.cache/pip/wheels/fc/f5/b9/c436e11300809e6b40d46a5d2592fb0bff89e0712f2e878dc7\n",
            "  Building wheel for wget (setup.py) ... \u001b[?25l\u001b[?25hdone\n",
            "  Created wheel for wget: filename=wget-3.2-py3-none-any.whl size=9672 sha256=3698ae7d2e8f7e5be3c7f8732405c71bd7def10c172f0dd33bafb4124194efdc\n",
            "  Stored in directory: /root/.cache/pip/wheels/a1/b6/7c/0e63e34eb06634181c63adacca38b79ff8f35c37e3c13e3c02\n",
            "Successfully built python-terrier ir-measures cwl-eval cbor warc3-wet-clueweb09 chest wget\n",
            "Installing collected packages: cbor, zlib-state, warc3-wet-clueweb09, warc3-wet, typish, trec-car-tools, pyyaml, pytrec-eval-terrier, pyautocorpus, multiset, lz4, lxml, ijson, deprecation, cwl-eval, wget, pyjnius, nptyping, matchpy, ir-measures, ir-datasets, chest, python-terrier\n",
            "  Attempting uninstall: pyyaml\n",
            "    Found existing installation: PyYAML 3.13\n",
            "    Uninstalling PyYAML-3.13:\n",
            "      Successfully uninstalled PyYAML-3.13\n",
            "  Attempting uninstall: lxml\n",
            "    Found existing installation: lxml 4.2.6\n",
            "    Uninstalling lxml-4.2.6:\n",
            "      Successfully uninstalled lxml-4.2.6\n",
            "Successfully installed cbor-1.0.0 chest-0.2.3 cwl-eval-1.0.10 deprecation-2.1.0 ijson-3.1.4 ir-datasets-0.4.3 ir-measures-0.2.1 lxml-4.6.3 lz4-3.1.3 matchpy-0.5.4 multiset-2.1.1 nptyping-1.4.4 pyautocorpus-0.1.6 pyjnius-1.3.0 python-terrier-0.7.0 pytrec-eval-terrier-0.5.1 pyyaml-5.4.1 trec-car-tools-2.5.4 typish-1.9.3 warc3-wet-0.2.3 warc3-wet-clueweb09-0.2.5 wget-3.2 zlib-state-0.1.3\n"
          ]
        },
        {
          "output_type": "display_data",
          "data": {
            "application/vnd.colab-display-data+json": {
              "pip_warning": {
                "packages": [
                  "yaml"
                ]
              }
            }
          },
          "metadata": {}
        }
      ]
    },
    {
      "cell_type": "markdown",
      "metadata": {
        "id": "ixzDjvtTOQbB"
      },
      "source": [
        "## Init \n",
        "\n",
        "You must run `pt.init()` before other pyterrier functions and classes\n",
        "\n",
        "Optional Arguments:    \n",
        " - `version` - terrier IR version e.g. \"5.2\"    \n",
        " - `mem` - megabytes allocated to java e.g. \"4096\"      \n",
        " - `packages` - external java packages for Terrier to load e.g. [\"org.terrier:terrier.prf\"]\n",
        " - `logging` - logging level for Terrier. Defaults to \"WARN\", use \"INFO\" or \"DEBUG\" for more output.\n",
        "\n",
        "NB: PyTerrier needs Java 11 installed. If it cannot find your Java installation, you can set the `JAVA_HOME` environment variable."
      ]
    },
    {
      "cell_type": "code",
      "metadata": {
        "id": "k3ltUZ8PgWmz",
        "colab": {
          "base_uri": "https://localhost:8080/"
        },
        "outputId": "e7e22dc5-aa26-4833-b2bc-0afb95d34363"
      },
      "source": [
        "import pyterrier as pt\n",
        "if not pt.started():\n",
        "  pt.init()"
      ],
      "execution_count": 3,
      "outputs": [
        {
          "output_type": "stream",
          "name": "stdout",
          "text": [
            "terrier-assemblies 5.6  jar-with-dependencies not found, downloading to /root/.pyterrier...\n",
            "Done\n",
            "terrier-python-helper 0.0.6  jar not found, downloading to /root/.pyterrier...\n",
            "Done\n",
            "PyTerrier 0.7.0 has loaded Terrier 5.6 (built by craigmacdonald on 2021-09-17 13:27)\n"
          ]
        }
      ]
    },
    {
      "cell_type": "code",
      "metadata": {
        "id": "9-DSyic7WvPJ"
      },
      "source": [
        " #vaswani_dataset = pt.datasets.get_dataset(\"vaswani\")\n",
        " #indexref = vaswani_dataset.get_index()\n",
        " #index = pt.IndexFactory.of(indexref)\n",
        " #print(index.getCollectionStatistics().toString()) "
      ],
      "execution_count": 4,
      "outputs": []
    },
    {
      "cell_type": "code",
      "metadata": {
        "id": "Lx6Uf6M2WxrD"
      },
      "source": [
        "#topics = vaswani_dataset.get_topics()\n",
        "#topics.head(5) "
      ],
      "execution_count": 5,
      "outputs": []
    },
    {
      "cell_type": "code",
      "metadata": {
        "id": "tSfGwAYVXFeT"
      },
      "source": [
        "#retr = pt.BatchRetrieve(index, controls = {\"wmodel\": \"TF_IDF\"}, num_results=10)\n",
        "#retr.setControl(\"wmodel\", \"TF_IDF\")\n",
        "#retr.setControls({\"wmodel\": \"TF_IDF\"})\n",
        "#res=retr.transform(topics)\n",
        "#res "
      ],
      "execution_count": 6,
      "outputs": []
    },
    {
      "cell_type": "code",
      "metadata": {
        "id": "PFF_NGltOyZK"
      },
      "source": [
        "# Import PyDrive and associated libraries.\n",
        "# This only needs to be done once per notebook.\n",
        "from pydrive.auth import GoogleAuth\n",
        "from pydrive.drive import GoogleDrive\n",
        "from google.colab import auth\n",
        "from oauth2client.client import GoogleCredentials\n",
        "\n",
        "# Authenticate and create the PyDrive client.\n",
        "# This only needs to be done once per notebook.\n",
        "auth.authenticate_user()\n",
        "gauth = GoogleAuth()\n",
        "gauth.credentials = GoogleCredentials.get_application_default()\n",
        "drive = GoogleDrive(gauth)\n",
        "\n",
        "# Download a file based on its file ID.\n",
        "#\n",
        "# A file ID looks like: laggVyWshwcyP6kEI-y_W3P8D26sz\n",
        "# file_id = '1YkltHAl3Ro9xv25EkGB56h271_STNlPA' #'AI6122_Dataset_B1.csv'\n",
        "file_id = '1aVXMJ_luTXISxMwP5_Bt2xE0ObXqEsQ2' #\"Dataset_B1to8\"\n",
        "#file_id = '14N45V84iAf6q59vzL6OslMXpyQgWskuh' #\"dataset_review.csv\"\n",
        "#https://drive.google.com/file/d/14N45V84iAf6q59vzL6OslMXpyQgWskuh/view?usp=sharing\n",
        "downloaded = drive.CreateFile({'id': file_id})\n",
        "#print('Downloaded content \"{}\"'.format(downloaded.GetContentString()))\n",
        "#downloaded.GetContentFile('AI6122_Dataset_B1.csv')\n",
        "downloaded.GetContentFile('Dataset_B1to8.csv')\n",
        "#downloaded.GetContentFile('dataset_review.csv')"
      ],
      "execution_count": 7,
      "outputs": []
    },
    {
      "cell_type": "markdown",
      "metadata": {
        "id": "wGV18JV1P129"
      },
      "source": [
        "## Indexing a Pandas dataframe\n",
        "\n",
        "Sometimes we have the documents that we want to index in memory. Terrier makes it easy to index standard Python data structures, particularly [Pandas dataframes](https://pandas.pydata.org/pandas-docs/stable/reference/api/pandas.DataFrame.html).\n",
        "\n",
        "To do thise, we can use a `pt.DFIndexer()` object"
      ]
    },
    {
      "cell_type": "code",
      "metadata": {
        "id": "r86UHesmt0Wc"
      },
      "source": [
        "## load data into df\n",
        "import pandas as pd\n",
        "#df = pd.read_csv(\"AI6122_Dataset_B1.csv\", dtype = str)\n",
        "df = pd.read_csv(\"Dataset_B1to8.csv\", dtype = str)\n",
        "\n",
        "try :\n",
        "  del docno \n",
        "except:\n",
        "  pass\n",
        "\n",
        "##docno = list(range(1,len(df)+1))\n",
        "##df['docno'] = docno\n",
        "##df = df.astype({\"docno\" : str})\n",
        "#print(type(df[\"docno\"][0]))\n",
        "\n",
        "docno =[]\n",
        "for idx in range(1,len(df)+1):\n",
        "  docno.append(\"d\" + str(idx))\n",
        "\n",
        "df[\"docno\"] = docno\n"
      ],
      "execution_count": 9,
      "outputs": []
    },
    {
      "cell_type": "code",
      "metadata": {
        "id": "vw-4NIjlUY16"
      },
      "source": [
        "#import pandas as pd\n",
        "!rm -rf ./pd_index\n",
        "pd_indexer = pt.DFIndexer(\"./pd_index\", overwrite=True, verbose=True)\n",
        "\n",
        "# optionally modify properties\n",
        "# index_properies = {\"block.indexing\":\"true\", \"invertedfile.lexiconscanner\":\"pointers\"}\n",
        "# indexer.setProperties(**index_properies)"
      ],
      "execution_count": 10,
      "outputs": []
    },
    {
      "cell_type": "markdown",
      "metadata": {
        "id": "K-idBQ5OUV9c"
      },
      "source": [
        "Then there are a number of options to index the dataframe:    \n",
        "The first argument should always a pandas.Series object of Strings, which specifies the body of each document.    \n",
        "Any arguments after that are for specifying metadata.\n"
      ]
    },
    {
      "cell_type": "code",
      "metadata": {
        "id": "rBXHWO4yUJT7",
        "colab": {
          "base_uri": "https://localhost:8080/",
          "height": 190,
          "referenced_widgets": [
            "9c016d105d614dd1873038f0ae896a48",
            "ca9bc21a567a4f9c998c5f0f0418aeaa",
            "4a97eeb0a7f34167866e55c1cd2a5020",
            "3a233a11b1344c3a92c0e93919cf2c86",
            "60e803bc4f254e78a67d22cc96ee29f6",
            "e2471824ac96467ca311d274db974e14",
            "5d90a07cba0a47f78f7393bb4d15af67",
            "92deccef27384476bca40f7909dfb094",
            "2bb1d0ce41a942bd9d32b0d2b52c8c3c",
            "bb382eea5f904a9f8c1bca01dd74c992",
            "a60f2817b24b457590c0744a085ae126"
          ]
        },
        "outputId": "79ce4e64-b779-4eee-a958-27ed13192578"
      },
      "source": [
        "# no metadata\n",
        "# pd_indexer.index(df[\"text\"])\n",
        "\n",
        "# Add metadata fields as Pandas.Series objects, with the name of the Series object becoming the name of the meta field.\n",
        "#indexref = pd_indexer.index(df[\"text\"], df[\"docno\"], df[\"review_id\"], df[\"user_id\"], df[\"business_id\"], df[\"stars\"], df[\"useful\"], df[\"funny\"], df[\"cool\"])\n",
        "indexref = pd_indexer.index(df[\"text\"], df)\n",
        "indexinfo = pt.IndexFactory.of(indexref)\n",
        "print(indexinfo.getCollectionStatistics().toString()) \n",
        "# pd_indexer.index(df[\"text\"], df[\"docno\"], df[\"url\"])\n",
        "\n",
        "# Add metadata fields as lists to a keyword arguement\n",
        "# pd_indexer.index(df[\"text\"], docno=[\"1\",\"2\",\"3\"], url=[\"url1\", \"url2\", \"url3\"])\n",
        "\n",
        "# Add the metadata fields with a dictionary\n",
        "# meta_fields={\"docno\":[\"1\",\"2\",\"3\"],\"url\":[\"url1\", \"url2\", \"url3\"]}\n",
        "# pd_indexer.index(df[\"text\"], **meta_fields)\n",
        "\n",
        "# Add the entire dataframe as metadata\n",
        "# pd_indexer.index(df[\"text\"], df)"
      ],
      "execution_count": 11,
      "outputs": [
        {
          "output_type": "display_data",
          "data": {
            "application/vnd.jupyter.widget-view+json": {
              "model_id": "9c016d105d614dd1873038f0ae896a48",
              "version_minor": 0,
              "version_major": 2
            },
            "text/plain": [
              "  0%|          | 0/6928 [00:00<?, ?documents/s]"
            ]
          },
          "metadata": {}
        },
        {
          "output_type": "stream",
          "name": "stdout",
          "text": [
            "Number of documents: 6928\n",
            "Number of terms: 12049\n",
            "Number of postings: 323743\n",
            "Number of fields: 0\n",
            "Number of tokens: 388543\n",
            "Field names: []\n",
            "Positions:   false\n",
            "\n"
          ]
        }
      ]
    },
    {
      "cell_type": "code",
      "metadata": {
        "colab": {
          "base_uri": "https://localhost:8080/"
        },
        "id": "9CvoD7MfulCr",
        "outputId": "2799f544-3f5c-459e-917e-88d43833a9a3"
      },
      "source": [
        "index = pt.IndexFactory.of(indexref)\n",
        "\n",
        "#lets see what type index is.\n",
        "type(index)\n",
        "IIndex = index.getInvertedIndex()\n",
        "IIndex\n",
        "\n",
        "#for kv in index.getLexicon():\n",
        "#  print(\"%s (%s) -> %s (%s)\" % (kv.getKey(), type(kv.getKey()), kv.getValue().toString(), type(kv.getValue()) ) )\n",
        "  "
      ],
      "execution_count": 28,
      "outputs": [
        {
          "output_type": "execute_result",
          "data": {
            "text/plain": [
              "<org.terrier.structures.PostingIndex at 0x7f8adc465ef0 jclass=org/terrier/structures/PostingIndex jself=<LocalRef obj=0x5575c4386298 at 0x7f8adeb6f7d0>>"
            ]
          },
          "metadata": {},
          "execution_count": 28
        }
      ]
    },
    {
      "cell_type": "code",
      "metadata": {
        "colab": {
          "base_uri": "https://localhost:8080/"
        },
        "id": "qOBAconNU6M-",
        "outputId": "d620e2eb-fb06-4144-a2a3-9737d93d8ee2"
      },
      "source": [
        "print(type(kv))"
      ],
      "execution_count": 21,
      "outputs": [
        {
          "output_type": "stream",
          "name": "stdout",
          "text": [
            "<class 'jnius.reflect.org.terrier.structures.Lexicon$LexiconFileEntry'>\n"
          ]
        }
      ]
    },
    {
      "cell_type": "markdown",
      "metadata": {
        "id": "IKrZNyaUXRMg"
      },
      "source": [
        "## Retrieval\n",
        "\n",
        "Lets see how we can use one of these for retrieval. Retrieval takes place using the `BatchRetrieve` object, by invoking `transform()` method for one or more queries. For a quick test, you can give just pass your query to `transform()`. \n",
        "\n",
        "BatchRetrieve will return the results as a Pandas dataframe.\n"
      ]
    },
    {
      "cell_type": "code",
      "metadata": {
        "id": "zWj6YnN4Wnsz",
        "colab": {
          "base_uri": "https://localhost:8080/",
          "height": 49
        },
        "outputId": "53653247-d7d9-4cc0-99a6-6422645868e4"
      },
      "source": [
        "pt.BatchRetrieve(indexref).search(\"so many\")"
      ],
      "execution_count": 13,
      "outputs": [
        {
          "output_type": "execute_result",
          "data": {
            "text/html": [
              "<div>\n",
              "<style scoped>\n",
              "    .dataframe tbody tr th:only-of-type {\n",
              "        vertical-align: middle;\n",
              "    }\n",
              "\n",
              "    .dataframe tbody tr th {\n",
              "        vertical-align: top;\n",
              "    }\n",
              "\n",
              "    .dataframe thead th {\n",
              "        text-align: right;\n",
              "    }\n",
              "</style>\n",
              "<table border=\"1\" class=\"dataframe\">\n",
              "  <thead>\n",
              "    <tr style=\"text-align: right;\">\n",
              "      <th></th>\n",
              "      <th>docid</th>\n",
              "      <th>docno</th>\n",
              "      <th>rank</th>\n",
              "      <th>score</th>\n",
              "      <th>qid</th>\n",
              "      <th>query</th>\n",
              "    </tr>\n",
              "  </thead>\n",
              "  <tbody>\n",
              "  </tbody>\n",
              "</table>\n",
              "</div>"
            ],
            "text/plain": [
              "Empty DataFrame\n",
              "Columns: [docid, docno, rank, score, qid, query]\n",
              "Index: []"
            ]
          },
          "metadata": {},
          "execution_count": 13
        }
      ]
    },
    {
      "cell_type": "code",
      "metadata": {
        "colab": {
          "base_uri": "https://localhost:8080/",
          "height": 258
        },
        "id": "xbVTWDYuUFud",
        "outputId": "e6bde380-a6e3-4ac1-93bb-5a0ca65708aa"
      },
      "source": [
        "\n",
        "#this ranker will make the candidate set of documents for each query\n",
        "BM25 = pt.BatchRetrieve(indexref, controls = {\"wmodel\": \"BM25\"}, num_results=5)\n",
        "#these rankers we will use to re-rank the BM25 results\n",
        "TF_IDF = pt.BatchRetrieve(indexref, controls = {\"wmodel\": \"TF_IDF\"}, num_results=5)\n",
        "PL2 =  pt.BatchRetrieve(indexref, controls = {\"wmodel\": \"PL2\"}, num_results=5)\n",
        "\n",
        "pipe = BM25 >> (TF_IDF ** PL2)\n",
        "pipe.transform(\"Really cute restaurant\") \n"
      ],
      "execution_count": 14,
      "outputs": [
        {
          "output_type": "stream",
          "name": "stderr",
          "text": [
            "/usr/local/lib/python3.7/dist-packages/pyterrier/transformer.py:845: FutureWarning: .transform() should be passed a dataframe. Use .search() to execute a single query.\n",
            "  topics = m.transform(topics)\n"
          ]
        },
        {
          "output_type": "execute_result",
          "data": {
            "text/html": [
              "<div>\n",
              "<style scoped>\n",
              "    .dataframe tbody tr th:only-of-type {\n",
              "        vertical-align: middle;\n",
              "    }\n",
              "\n",
              "    .dataframe tbody tr th {\n",
              "        vertical-align: top;\n",
              "    }\n",
              "\n",
              "    .dataframe thead th {\n",
              "        text-align: right;\n",
              "    }\n",
              "</style>\n",
              "<table border=\"1\" class=\"dataframe\">\n",
              "  <thead>\n",
              "    <tr style=\"text-align: right;\">\n",
              "      <th></th>\n",
              "      <th>qid</th>\n",
              "      <th>docid</th>\n",
              "      <th>docno</th>\n",
              "      <th>rank</th>\n",
              "      <th>score</th>\n",
              "      <th>query</th>\n",
              "      <th>features</th>\n",
              "    </tr>\n",
              "  </thead>\n",
              "  <tbody>\n",
              "    <tr>\n",
              "      <th>0</th>\n",
              "      <td>1</td>\n",
              "      <td>5656</td>\n",
              "      <td>d5657</td>\n",
              "      <td>0</td>\n",
              "      <td>11.656181</td>\n",
              "      <td>Really cute restaurant</td>\n",
              "      <td>[6.957669848484342, 6.861145712753511]</td>\n",
              "    </tr>\n",
              "    <tr>\n",
              "      <th>1</th>\n",
              "      <td>1</td>\n",
              "      <td>247</td>\n",
              "      <td>d248</td>\n",
              "      <td>1</td>\n",
              "      <td>10.478894</td>\n",
              "      <td>Really cute restaurant</td>\n",
              "      <td>[6.254937186160457, 5.707333751062654]</td>\n",
              "    </tr>\n",
              "    <tr>\n",
              "      <th>2</th>\n",
              "      <td>1</td>\n",
              "      <td>3374</td>\n",
              "      <td>d3375</td>\n",
              "      <td>2</td>\n",
              "      <td>10.271409</td>\n",
              "      <td>Really cute restaurant</td>\n",
              "      <td>[6.131087801312275, 5.541288977958049]</td>\n",
              "    </tr>\n",
              "    <tr>\n",
              "      <th>3</th>\n",
              "      <td>1</td>\n",
              "      <td>5785</td>\n",
              "      <td>d5786</td>\n",
              "      <td>3</td>\n",
              "      <td>10.009293</td>\n",
              "      <td>Really cute restaurant</td>\n",
              "      <td>[5.875657207663913, 5.262894075279536]</td>\n",
              "    </tr>\n",
              "    <tr>\n",
              "      <th>4</th>\n",
              "      <td>1</td>\n",
              "      <td>5183</td>\n",
              "      <td>d5184</td>\n",
              "      <td>4</td>\n",
              "      <td>9.889212</td>\n",
              "      <td>Really cute restaurant</td>\n",
              "      <td>[5.995664430264314, 5.490947108412864]</td>\n",
              "    </tr>\n",
              "  </tbody>\n",
              "</table>\n",
              "</div>"
            ],
            "text/plain": [
              "  qid  docid  ...                   query                                features\n",
              "0   1   5656  ...  Really cute restaurant  [6.957669848484342, 6.861145712753511]\n",
              "1   1    247  ...  Really cute restaurant  [6.254937186160457, 5.707333751062654]\n",
              "2   1   3374  ...  Really cute restaurant  [6.131087801312275, 5.541288977958049]\n",
              "3   1   5785  ...  Really cute restaurant  [5.875657207663913, 5.262894075279536]\n",
              "4   1   5183  ...  Really cute restaurant  [5.995664430264314, 5.490947108412864]\n",
              "\n",
              "[5 rows x 7 columns]"
            ]
          },
          "metadata": {},
          "execution_count": 14
        }
      ]
    },
    {
      "cell_type": "code",
      "metadata": {
        "colab": {
          "base_uri": "https://localhost:8080/",
          "height": 203
        },
        "id": "DGb6SCdsVB1y",
        "outputId": "7f66aa6b-aec1-4972-e883-a8d6de5c455a"
      },
      "source": [
        "pt.BatchRetrieve(indexref, controls = {\"wmodel\": \"PL2\"}, num_results=5).search(\"Really cute restaurant\")\n"
      ],
      "execution_count": 15,
      "outputs": [
        {
          "output_type": "execute_result",
          "data": {
            "text/html": [
              "<div>\n",
              "<style scoped>\n",
              "    .dataframe tbody tr th:only-of-type {\n",
              "        vertical-align: middle;\n",
              "    }\n",
              "\n",
              "    .dataframe tbody tr th {\n",
              "        vertical-align: top;\n",
              "    }\n",
              "\n",
              "    .dataframe thead th {\n",
              "        text-align: right;\n",
              "    }\n",
              "</style>\n",
              "<table border=\"1\" class=\"dataframe\">\n",
              "  <thead>\n",
              "    <tr style=\"text-align: right;\">\n",
              "      <th></th>\n",
              "      <th>qid</th>\n",
              "      <th>docid</th>\n",
              "      <th>docno</th>\n",
              "      <th>rank</th>\n",
              "      <th>score</th>\n",
              "      <th>query</th>\n",
              "    </tr>\n",
              "  </thead>\n",
              "  <tbody>\n",
              "    <tr>\n",
              "      <th>0</th>\n",
              "      <td>1</td>\n",
              "      <td>5656</td>\n",
              "      <td>d5657</td>\n",
              "      <td>0</td>\n",
              "      <td>6.861146</td>\n",
              "      <td>Really cute restaurant</td>\n",
              "    </tr>\n",
              "    <tr>\n",
              "      <th>1</th>\n",
              "      <td>1</td>\n",
              "      <td>247</td>\n",
              "      <td>d248</td>\n",
              "      <td>1</td>\n",
              "      <td>5.707334</td>\n",
              "      <td>Really cute restaurant</td>\n",
              "    </tr>\n",
              "    <tr>\n",
              "      <th>2</th>\n",
              "      <td>1</td>\n",
              "      <td>3374</td>\n",
              "      <td>d3375</td>\n",
              "      <td>2</td>\n",
              "      <td>5.541289</td>\n",
              "      <td>Really cute restaurant</td>\n",
              "    </tr>\n",
              "    <tr>\n",
              "      <th>3</th>\n",
              "      <td>1</td>\n",
              "      <td>5183</td>\n",
              "      <td>d5184</td>\n",
              "      <td>3</td>\n",
              "      <td>5.490947</td>\n",
              "      <td>Really cute restaurant</td>\n",
              "    </tr>\n",
              "    <tr>\n",
              "      <th>4</th>\n",
              "      <td>1</td>\n",
              "      <td>5237</td>\n",
              "      <td>d5238</td>\n",
              "      <td>4</td>\n",
              "      <td>5.427991</td>\n",
              "      <td>Really cute restaurant</td>\n",
              "    </tr>\n",
              "  </tbody>\n",
              "</table>\n",
              "</div>"
            ],
            "text/plain": [
              "  qid  docid  docno  rank     score                   query\n",
              "0   1   5656  d5657     0  6.861146  Really cute restaurant\n",
              "1   1    247   d248     1  5.707334  Really cute restaurant\n",
              "2   1   3374  d3375     2  5.541289  Really cute restaurant\n",
              "3   1   5183  d5184     3  5.490947  Really cute restaurant\n",
              "4   1   5237  d5238     4  5.427991  Really cute restaurant"
            ]
          },
          "metadata": {},
          "execution_count": 15
        }
      ]
    },
    {
      "cell_type": "code",
      "metadata": {
        "colab": {
          "base_uri": "https://localhost:8080/",
          "height": 357
        },
        "id": "17WV98IMHj_U",
        "outputId": "bb29bf81-5798-45b6-c82c-827acb2d9ce6"
      },
      "source": [
        "pt.BatchRetrieve(indexref, wmodel=\"BM25\", properties={\"termpipelines\" : \"Stopwords,PorterStemmer\"})\n",
        "pt.BatchRetrieve(indexref, metadata=[\"business_id\", \"stars\"], num_results=10).search(\"Really cute restaurant\")\n"
      ],
      "execution_count": 16,
      "outputs": [
        {
          "output_type": "execute_result",
          "data": {
            "text/html": [
              "<div>\n",
              "<style scoped>\n",
              "    .dataframe tbody tr th:only-of-type {\n",
              "        vertical-align: middle;\n",
              "    }\n",
              "\n",
              "    .dataframe tbody tr th {\n",
              "        vertical-align: top;\n",
              "    }\n",
              "\n",
              "    .dataframe thead th {\n",
              "        text-align: right;\n",
              "    }\n",
              "</style>\n",
              "<table border=\"1\" class=\"dataframe\">\n",
              "  <thead>\n",
              "    <tr style=\"text-align: right;\">\n",
              "      <th></th>\n",
              "      <th>qid</th>\n",
              "      <th>docid</th>\n",
              "      <th>business_id</th>\n",
              "      <th>stars</th>\n",
              "      <th>rank</th>\n",
              "      <th>score</th>\n",
              "      <th>query</th>\n",
              "    </tr>\n",
              "  </thead>\n",
              "  <tbody>\n",
              "    <tr>\n",
              "      <th>0</th>\n",
              "      <td>1</td>\n",
              "      <td>5785</td>\n",
              "      <td>UacakYbLnef2TYU2YDrtuw</td>\n",
              "      <td>2</td>\n",
              "      <td>0</td>\n",
              "      <td>6.212172</td>\n",
              "      <td>Really cute restaurant</td>\n",
              "    </tr>\n",
              "    <tr>\n",
              "      <th>1</th>\n",
              "      <td>1</td>\n",
              "      <td>5183</td>\n",
              "      <td>UacakYbLnef2TYU2YDrtuw</td>\n",
              "      <td>5</td>\n",
              "      <td>1</td>\n",
              "      <td>6.208631</td>\n",
              "      <td>Really cute restaurant</td>\n",
              "    </tr>\n",
              "    <tr>\n",
              "      <th>2</th>\n",
              "      <td>1</td>\n",
              "      <td>0</td>\n",
              "      <td>Slj9yz_RfDRqiMRH8VxUMQ</td>\n",
              "      <td>3</td>\n",
              "      <td>2</td>\n",
              "      <td>6.122120</td>\n",
              "      <td>Really cute restaurant</td>\n",
              "    </tr>\n",
              "    <tr>\n",
              "      <th>3</th>\n",
              "      <td>1</td>\n",
              "      <td>5656</td>\n",
              "      <td>UacakYbLnef2TYU2YDrtuw</td>\n",
              "      <td>4</td>\n",
              "      <td>3</td>\n",
              "      <td>5.880452</td>\n",
              "      <td>Really cute restaurant</td>\n",
              "    </tr>\n",
              "    <tr>\n",
              "      <th>4</th>\n",
              "      <td>1</td>\n",
              "      <td>247</td>\n",
              "      <td>Slj9yz_RfDRqiMRH8VxUMQ</td>\n",
              "      <td>5</td>\n",
              "      <td>4</td>\n",
              "      <td>5.856493</td>\n",
              "      <td>Really cute restaurant</td>\n",
              "    </tr>\n",
              "    <tr>\n",
              "      <th>5</th>\n",
              "      <td>1</td>\n",
              "      <td>3374</td>\n",
              "      <td>gUHpQYwW_fd0l0hcE2i6Dg</td>\n",
              "      <td>5</td>\n",
              "      <td>5</td>\n",
              "      <td>5.792231</td>\n",
              "      <td>Really cute restaurant</td>\n",
              "    </tr>\n",
              "    <tr>\n",
              "      <th>6</th>\n",
              "      <td>1</td>\n",
              "      <td>5229</td>\n",
              "      <td>UacakYbLnef2TYU2YDrtuw</td>\n",
              "      <td>5</td>\n",
              "      <td>6</td>\n",
              "      <td>5.774188</td>\n",
              "      <td>Really cute restaurant</td>\n",
              "    </tr>\n",
              "    <tr>\n",
              "      <th>7</th>\n",
              "      <td>1</td>\n",
              "      <td>414</td>\n",
              "      <td>Slj9yz_RfDRqiMRH8VxUMQ</td>\n",
              "      <td>3</td>\n",
              "      <td>7</td>\n",
              "      <td>5.692445</td>\n",
              "      <td>Really cute restaurant</td>\n",
              "    </tr>\n",
              "    <tr>\n",
              "      <th>8</th>\n",
              "      <td>1</td>\n",
              "      <td>3357</td>\n",
              "      <td>gUHpQYwW_fd0l0hcE2i6Dg</td>\n",
              "      <td>5</td>\n",
              "      <td>8</td>\n",
              "      <td>5.670671</td>\n",
              "      <td>Really cute restaurant</td>\n",
              "    </tr>\n",
              "    <tr>\n",
              "      <th>9</th>\n",
              "      <td>1</td>\n",
              "      <td>742</td>\n",
              "      <td>Slj9yz_RfDRqiMRH8VxUMQ</td>\n",
              "      <td>5</td>\n",
              "      <td>9</td>\n",
              "      <td>5.625087</td>\n",
              "      <td>Really cute restaurant</td>\n",
              "    </tr>\n",
              "  </tbody>\n",
              "</table>\n",
              "</div>"
            ],
            "text/plain": [
              "  qid  docid             business_id  ... rank     score                   query\n",
              "0   1   5785  UacakYbLnef2TYU2YDrtuw  ...    0  6.212172  Really cute restaurant\n",
              "1   1   5183  UacakYbLnef2TYU2YDrtuw  ...    1  6.208631  Really cute restaurant\n",
              "2   1      0  Slj9yz_RfDRqiMRH8VxUMQ  ...    2  6.122120  Really cute restaurant\n",
              "3   1   5656  UacakYbLnef2TYU2YDrtuw  ...    3  5.880452  Really cute restaurant\n",
              "4   1    247  Slj9yz_RfDRqiMRH8VxUMQ  ...    4  5.856493  Really cute restaurant\n",
              "5   1   3374  gUHpQYwW_fd0l0hcE2i6Dg  ...    5  5.792231  Really cute restaurant\n",
              "6   1   5229  UacakYbLnef2TYU2YDrtuw  ...    6  5.774188  Really cute restaurant\n",
              "7   1    414  Slj9yz_RfDRqiMRH8VxUMQ  ...    7  5.692445  Really cute restaurant\n",
              "8   1   3357  gUHpQYwW_fd0l0hcE2i6Dg  ...    8  5.670671  Really cute restaurant\n",
              "9   1    742  Slj9yz_RfDRqiMRH8VxUMQ  ...    9  5.625087  Really cute restaurant\n",
              "\n",
              "[10 rows x 7 columns]"
            ]
          },
          "metadata": {},
          "execution_count": 16
        }
      ]
    },
    {
      "cell_type": "markdown",
      "metadata": {
        "id": "oK_wOzQrqi8t"
      },
      "source": [
        "However, most IR experiments, will use a set of queries. You can pass such a set using a data frame for input."
      ]
    },
    {
      "cell_type": "code",
      "metadata": {
        "id": "dgtauIOAXGFY",
        "colab": {
          "base_uri": "https://localhost:8080/",
          "height": 357
        },
        "outputId": "127fb395-f2fc-47f1-d60c-cdc8e2787ac5"
      },
      "source": [
        "import pandas as pd\n",
        "topics = pd.DataFrame([[\"q1\", \"Really cute restaurant\"]],columns=['qid','query'])\n",
        "pt.BatchRetrieve(indexref, metadata=[\"docno\", \"text\"], num_results=10).transform(topics)"
      ],
      "execution_count": 33,
      "outputs": [
        {
          "output_type": "execute_result",
          "data": {
            "text/html": [
              "<div>\n",
              "<style scoped>\n",
              "    .dataframe tbody tr th:only-of-type {\n",
              "        vertical-align: middle;\n",
              "    }\n",
              "\n",
              "    .dataframe tbody tr th {\n",
              "        vertical-align: top;\n",
              "    }\n",
              "\n",
              "    .dataframe thead th {\n",
              "        text-align: right;\n",
              "    }\n",
              "</style>\n",
              "<table border=\"1\" class=\"dataframe\">\n",
              "  <thead>\n",
              "    <tr style=\"text-align: right;\">\n",
              "      <th></th>\n",
              "      <th>qid</th>\n",
              "      <th>docid</th>\n",
              "      <th>docno</th>\n",
              "      <th>text</th>\n",
              "      <th>rank</th>\n",
              "      <th>score</th>\n",
              "      <th>query</th>\n",
              "    </tr>\n",
              "  </thead>\n",
              "  <tbody>\n",
              "    <tr>\n",
              "      <th>0</th>\n",
              "      <td>q1</td>\n",
              "      <td>5785</td>\n",
              "      <td>d5786</td>\n",
              "      <td>Perlas the restaurant is very beachy and cute....</td>\n",
              "      <td>0</td>\n",
              "      <td>6.212172</td>\n",
              "      <td>Really cute restaurant</td>\n",
              "    </tr>\n",
              "    <tr>\n",
              "      <th>1</th>\n",
              "      <td>q1</td>\n",
              "      <td>5183</td>\n",
              "      <td>d5184</td>\n",
              "      <td>Really cute restaurant on So Co. Great music a...</td>\n",
              "      <td>1</td>\n",
              "      <td>6.208631</td>\n",
              "      <td>Really cute restaurant</td>\n",
              "    </tr>\n",
              "    <tr>\n",
              "      <th>2</th>\n",
              "      <td>q1</td>\n",
              "      <td>0</td>\n",
              "      <td>d1</td>\n",
              "      <td>Really cute restaurant with lots of character....</td>\n",
              "      <td>2</td>\n",
              "      <td>6.122120</td>\n",
              "      <td>Really cute restaurant</td>\n",
              "    </tr>\n",
              "    <tr>\n",
              "      <th>3</th>\n",
              "      <td>q1</td>\n",
              "      <td>5656</td>\n",
              "      <td>d5657</td>\n",
              "      <td>Very cute restaurant. Great atmosphere and ind...</td>\n",
              "      <td>3</td>\n",
              "      <td>5.880452</td>\n",
              "      <td>Really cute restaurant</td>\n",
              "    </tr>\n",
              "    <tr>\n",
              "      <th>4</th>\n",
              "      <td>q1</td>\n",
              "      <td>247</td>\n",
              "      <td>d248</td>\n",
              "      <td>Such a cute pizza place! The ambiance was very...</td>\n",
              "      <td>4</td>\n",
              "      <td>5.856493</td>\n",
              "      <td>Really cute restaurant</td>\n",
              "    </tr>\n",
              "    <tr>\n",
              "      <th>5</th>\n",
              "      <td>q1</td>\n",
              "      <td>3374</td>\n",
              "      <td>d3375</td>\n",
              "      <td>This restaurant was super cute and the food wa...</td>\n",
              "      <td>5</td>\n",
              "      <td>5.792231</td>\n",
              "      <td>Really cute restaurant</td>\n",
              "    </tr>\n",
              "    <tr>\n",
              "      <th>6</th>\n",
              "      <td>q1</td>\n",
              "      <td>5229</td>\n",
              "      <td>d5230</td>\n",
              "      <td>OUTSTANDING FOOD!!! A little pricey but worth ...</td>\n",
              "      <td>6</td>\n",
              "      <td>5.774188</td>\n",
              "      <td>Really cute restaurant</td>\n",
              "    </tr>\n",
              "    <tr>\n",
              "      <th>7</th>\n",
              "      <td>q1</td>\n",
              "      <td>414</td>\n",
              "      <td>d415</td>\n",
              "      <td>I was staying in downtown and wanted to grab a...</td>\n",
              "      <td>7</td>\n",
              "      <td>5.692445</td>\n",
              "      <td>Really cute restaurant</td>\n",
              "    </tr>\n",
              "    <tr>\n",
              "      <th>8</th>\n",
              "      <td>q1</td>\n",
              "      <td>3357</td>\n",
              "      <td>d3358</td>\n",
              "      <td>So, I went out with a friend to catch up and t...</td>\n",
              "      <td>8</td>\n",
              "      <td>5.670671</td>\n",
              "      <td>Really cute restaurant</td>\n",
              "    </tr>\n",
              "    <tr>\n",
              "      <th>9</th>\n",
              "      <td>q1</td>\n",
              "      <td>742</td>\n",
              "      <td>d743</td>\n",
              "      <td>Went to this pizza spot in Downtown Atlanta ye...</td>\n",
              "      <td>9</td>\n",
              "      <td>5.625087</td>\n",
              "      <td>Really cute restaurant</td>\n",
              "    </tr>\n",
              "  </tbody>\n",
              "</table>\n",
              "</div>"
            ],
            "text/plain": [
              "  qid  docid  docno  ... rank     score                   query\n",
              "0  q1   5785  d5786  ...    0  6.212172  Really cute restaurant\n",
              "1  q1   5183  d5184  ...    1  6.208631  Really cute restaurant\n",
              "2  q1      0     d1  ...    2  6.122120  Really cute restaurant\n",
              "3  q1   5656  d5657  ...    3  5.880452  Really cute restaurant\n",
              "4  q1    247   d248  ...    4  5.856493  Really cute restaurant\n",
              "5  q1   3374  d3375  ...    5  5.792231  Really cute restaurant\n",
              "6  q1   5229  d5230  ...    6  5.774188  Really cute restaurant\n",
              "7  q1    414   d415  ...    7  5.692445  Really cute restaurant\n",
              "8  q1   3357  d3358  ...    8  5.670671  Really cute restaurant\n",
              "9  q1    742   d743  ...    9  5.625087  Really cute restaurant\n",
              "\n",
              "[10 rows x 7 columns]"
            ]
          },
          "metadata": {},
          "execution_count": 33
        }
      ]
    },
    {
      "cell_type": "code",
      "metadata": {
        "colab": {
          "base_uri": "https://localhost:8080/",
          "height": 80
        },
        "id": "isNkwxv9FgzC",
        "outputId": "02ee3260-2f69-4162-8df9-ebec5588df9d"
      },
      "source": [
        "pt.new.queries([\"Really cute restaurant\"], qid=[\"q1\"])"
      ],
      "execution_count": 18,
      "outputs": [
        {
          "output_type": "execute_result",
          "data": {
            "text/html": [
              "<div>\n",
              "<style scoped>\n",
              "    .dataframe tbody tr th:only-of-type {\n",
              "        vertical-align: middle;\n",
              "    }\n",
              "\n",
              "    .dataframe tbody tr th {\n",
              "        vertical-align: top;\n",
              "    }\n",
              "\n",
              "    .dataframe thead th {\n",
              "        text-align: right;\n",
              "    }\n",
              "</style>\n",
              "<table border=\"1\" class=\"dataframe\">\n",
              "  <thead>\n",
              "    <tr style=\"text-align: right;\">\n",
              "      <th></th>\n",
              "      <th>qid</th>\n",
              "      <th>query</th>\n",
              "    </tr>\n",
              "  </thead>\n",
              "  <tbody>\n",
              "    <tr>\n",
              "      <th>0</th>\n",
              "      <td>q1</td>\n",
              "      <td>Really cute restaurant</td>\n",
              "    </tr>\n",
              "  </tbody>\n",
              "</table>\n",
              "</div>"
            ],
            "text/plain": [
              "  qid                   query\n",
              "0  q1  Really cute restaurant"
            ]
          },
          "metadata": {},
          "execution_count": 18
        }
      ]
    },
    {
      "cell_type": "code",
      "metadata": {
        "colab": {
          "base_uri": "https://localhost:8080/"
        },
        "id": "PuwkALdueXRf",
        "outputId": "d5b621f8-fc16-4694-86f9-5e6160dd1d10"
      },
      "source": [
        "import time\n",
        "search_str = input(\"Please enter your search string: \")\n",
        "#print(\"Search string: \", search_str)\n",
        "TopN = input(\"Please enter number results to display: \")\n",
        "#print(\"Top N results: \", TopN)\n",
        "start_time = time.perf_counter()\n",
        "topics = pd.DataFrame([[\"q1\", search_str]],columns=['qid','query'])\n",
        "pt.BatchRetrieve(indexref, metadata=[\"text\"], num_results=int(TopN)).transform(topics)\n",
        "end_time = time.perf_counter()\n",
        "print(f\"search completed in {end_time - start_time:0.4f} seconds\")"
      ],
      "execution_count": 41,
      "outputs": [
        {
          "output_type": "stream",
          "name": "stdout",
          "text": [
            "Please enter your search string: Great atmosphere\n",
            "Please enter number results to display: 20\n",
            "search completed in 0.0894 seconds\n"
          ]
        }
      ]
    },
    {
      "cell_type": "code",
      "metadata": {
        "colab": {
          "base_uri": "https://localhost:8080/"
        },
        "id": "dK1LYV_Tjias",
        "outputId": "017c3a00-d3c7-4dc4-b6c3-f236bf3c0462"
      },
      "source": [
        "print(f\"search completed in {end_time - start_time:0.4f} seconds\")"
      ],
      "execution_count": 40,
      "outputs": [
        {
          "output_type": "stream",
          "name": "stdout",
          "text": [
            "search completed in 0.0430 seconds\n"
          ]
        }
      ]
    },
    {
      "cell_type": "markdown",
      "metadata": {
        "id": "XLcNP0XHqwQs"
      },
      "source": [
        "Thats the end of the indexing tutorial - you can continue with other example tutorials."
      ]
    }
  ]
}