{
 "cells": [
  {
   "cell_type": "markdown",
   "metadata": {
    "colab_type": "text",
    "id": "S-n-iHhwIRvv"
   },
   "source": [
    "# Python Programming\n",
    "\n",
    "**Chapter 9 : Python Programming in Google Colab** \n",
    "\n",
    "Python is a fun language to learn, and really easy to pick up even if you are new to programming. In fact, quite often, Python is easier to pick up if you do not have any programming experience whatsoever. Python is high level programming language, targeted at students and professionals from diverse backgrounds.\n",
    "\n",
    "In this chapter, we will cover\n",
    "- Importing a GitHub repository in Google Colab\n",
    "- Traversing the mounted Google Drive using `os`\n",
    "- Working with Python Notebooks in Google Colab\n",
    "\n",
    "**License Declaration** : Following the lead from the inspirations for this material, and the *spirit* of Python education and development, all modules of this work are licensed under the Creative Commons Attribution 3.0 Unported License. To view a copy of this license, visit http://creativecommons.org/licenses/by/3.0/.\n",
    "\n",
    "---"
   ]
  },
  {
   "cell_type": "markdown",
   "metadata": {
    "colab_type": "text",
    "id": "enlvOsRzKd7v"
   },
   "source": [
    "## Clone a GitHub Repository \n",
    "\n",
    "Use `git clone [url of repository].git` to clone a GitHub repository to Google Colab.      \n",
    "You may clone this repository to try this out : https://github.com/sgsourav/python-programming"
   ]
  },
  {
   "cell_type": "code",
   "execution_count": null,
   "metadata": {
    "colab": {
     "base_uri": "https://localhost:8080/",
     "height": 136
    },
    "colab_type": "code",
    "id": "XJkat-qKIQEP",
    "outputId": "6384fe91-da2d-4f7b-f2f8-42ebdd976b50"
   },
   "outputs": [],
   "source": [
    "!git clone https://github.com/sgsourav/python-programming.git"
   ]
  },
  {
   "cell_type": "markdown",
   "metadata": {
    "colab_type": "text",
    "id": "-e0BJg1HL9rr"
   },
   "source": [
    "The repository will be cloned in the default directory `/content/[name of repository]`      \n",
    "Store it in your Google Drive using underlying shell commands of the Google Colab machine."
   ]
  },
  {
   "cell_type": "code",
   "execution_count": null,
   "metadata": {
    "colab": {
     "base_uri": "https://localhost:8080/",
     "height": 34
    },
    "colab_type": "code",
    "id": "9qLbqh9YIQdg",
    "outputId": "59e32dfc-f7a2-4f14-a9a8-e342a1e36399"
   },
   "outputs": [],
   "source": [
    "from google.colab import drive\n",
    "drive.mount('/content/gdrive')\n",
    "\n",
    "# Copy github folder from colab machine to your google drive\n",
    "!cp -R /content/python-programming /content/gdrive/My\\ Drive/python-programming\n",
    "!rm -R /content/python-programming"
   ]
  },
  {
   "cell_type": "code",
   "execution_count": null,
   "metadata": {
    "colab": {},
    "colab_type": "code",
    "id": "kgVaSMdZNSdW"
   },
   "outputs": [],
   "source": []
  },
  {
   "cell_type": "markdown",
   "metadata": {
    "colab_type": "text",
    "id": "TUpEeqZmNRaE"
   },
   "source": [
    "## Traversing Google Drive\n",
    "\n",
    "Find your way in the mounted Google Drive using the inbuilt `os` library of Python.     \n",
    "You can also use the underlying shell commands of the Google Colab machine."
   ]
  },
  {
   "cell_type": "code",
   "execution_count": null,
   "metadata": {
    "colab": {
     "base_uri": "https://localhost:8080/",
     "height": 34
    },
    "colab_type": "code",
    "id": "FkI693l3I0qG",
    "outputId": "e8dd490b-fda6-44ae-a62f-9fc353db50c9"
   },
   "outputs": [],
   "source": [
    "from google.colab import drive\n",
    "drive.mount('/content/gdrive', force_remount=True)"
   ]
  },
  {
   "cell_type": "code",
   "execution_count": null,
   "metadata": {
    "colab": {
     "base_uri": "https://localhost:8080/",
     "height": 34
    },
    "colab_type": "code",
    "id": "d0xrx7-KMP1u",
    "outputId": "aa3dfb03-4cce-4cb3-af00-c568ab5f249f"
   },
   "outputs": [],
   "source": [
    "import os\n",
    "print(os.getcwd())"
   ]
  },
  {
   "cell_type": "code",
   "execution_count": null,
   "metadata": {
    "colab": {
     "base_uri": "https://localhost:8080/",
     "height": 34
    },
    "colab_type": "code",
    "id": "VLTyBjkKMcHU",
    "outputId": "16ad25cf-2925-41d3-8626-1ad9a953fb5b"
   },
   "outputs": [],
   "source": [
    "os.listdir()"
   ]
  },
  {
   "cell_type": "code",
   "execution_count": null,
   "metadata": {
    "colab": {},
    "colab_type": "code",
    "id": "2RTXgJsOMfJc"
   },
   "outputs": [],
   "source": [
    "os.chdir(\"gdrive/My Drive/python-programming\")"
   ]
  },
  {
   "cell_type": "code",
   "execution_count": null,
   "metadata": {
    "colab": {
     "base_uri": "https://localhost:8080/",
     "height": 102
    },
    "colab_type": "code",
    "id": "1IpSAooaMrHq",
    "outputId": "e0b66772-6160-4002-896c-69937607b67e"
   },
   "outputs": [],
   "source": [
    "os.listdir()"
   ]
  },
  {
   "cell_type": "code",
   "execution_count": null,
   "metadata": {
    "colab": {},
    "colab_type": "code",
    "id": "nUz8HhMVMzwC"
   },
   "outputs": [],
   "source": []
  },
  {
   "cell_type": "markdown",
   "metadata": {
    "colab_type": "text",
    "id": "5ImwoXqoN3xW"
   },
   "source": [
    "## Executing from Shell\n",
    "\n",
    "Once you find the python scripts to run, you may execute a python script from the shell."
   ]
  },
  {
   "cell_type": "code",
   "execution_count": null,
   "metadata": {
    "colab": {},
    "colab_type": "code",
    "id": "268l9s6CNbAV"
   },
   "outputs": [],
   "source": [
    "os.chdir(\"GeneralPythonCodes/Xtra_CommandLineArguments\")"
   ]
  },
  {
   "cell_type": "code",
   "execution_count": null,
   "metadata": {
    "colab": {
     "base_uri": "https://localhost:8080/",
     "height": 102
    },
    "colab_type": "code",
    "id": "7tNIhPxbNrl1",
    "outputId": "faf7705f-c4b7-4cea-cea3-246228fe83fd"
   },
   "outputs": [],
   "source": [
    "os.listdir()"
   ]
  },
  {
   "cell_type": "code",
   "execution_count": null,
   "metadata": {
    "colab": {
     "base_uri": "https://localhost:8080/",
     "height": 51
    },
    "colab_type": "code",
    "id": "atYfArAYNs9L",
    "outputId": "ce4dcd3f-bccc-4bbe-8969-2d844acdfc8e"
   },
   "outputs": [],
   "source": [
    "!python checkPassword_v1.py"
   ]
  },
  {
   "cell_type": "code",
   "execution_count": null,
   "metadata": {
    "colab": {},
    "colab_type": "code",
    "id": "zYfdctmJNytV"
   },
   "outputs": [],
   "source": []
  },
  {
   "cell_type": "code",
   "execution_count": null,
   "metadata": {},
   "outputs": [],
   "source": []
  }
 ],
 "metadata": {
  "colab": {
   "name": "Chapter9_GoogleColab.ipynb",
   "provenance": []
  },
  "kernelspec": {
   "display_name": "Python 3",
   "language": "python",
   "name": "python3"
  },
  "language_info": {
   "codemirror_mode": {
    "name": "ipython",
    "version": 3
   },
   "file_extension": ".py",
   "mimetype": "text/x-python",
   "name": "python",
   "nbconvert_exporter": "python",
   "pygments_lexer": "ipython3",
   "version": "3.8.3"
  }
 },
 "nbformat": 4,
 "nbformat_minor": 1
}
