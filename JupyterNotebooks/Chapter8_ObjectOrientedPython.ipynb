{
 "cells": [
  {
   "cell_type": "markdown",
   "metadata": {},
   "source": [
    "# Python Programming\n",
    "\n",
    "**Chapter 8 : Classes and Objects in Python** \n",
    "\n",
    "Python is a fun language to learn, and really easy to pick up even if you are new to programming. In fact, quite often, Python is easier to pick up if you do not have any programming experience whatsoever. Python is high level programming language, targeted at students and professionals from diverse backgrounds.\n",
    "\n",
    "In this chapter, we will cover\n",
    "- Object Oriented Programming\n",
    "- Class Definition\n",
    "- Class using other Classes\n",
    "- Class Inheritance\n",
    "\n",
    "**License Declaration** : Following the lead from the inspirations for this material, and the *spirit* of Python education and development, all modules of this work are licensed under the Creative Commons Attribution 3.0 Unported License. To view a copy of this license, visit http://creativecommons.org/licenses/by/3.0/.\n",
    "\n",
    "---"
   ]
  },
  {
   "cell_type": "markdown",
   "metadata": {},
   "source": [
    "## Object Oriented Programming\n",
    "\n",
    "Object-oriented programming (OOP) is a programming paradigm based on the concept of `objects`, which can contain data, in the form of `attributes`, and functions, in the form of `methods`. The `methods` in an object can access and often modify the internal `attributes`. A `class` provides a template to create an `object`, and an `object` is a concrete instantiation of a `class`. Python is inherently an object-oriented language; everything is an `object`!"
   ]
  },
  {
   "cell_type": "code",
   "execution_count": null,
   "metadata": {},
   "outputs": [],
   "source": [
    "# Recall : Basic Data Types\n",
    "print(3, \"is of type\", type(3))\n",
    "print(2 + 3j, \"is of type\", type(2 + 3j))\n",
    "print(\"Sourav\", \"is of type\", type(\"Sourav\"))\n",
    "print(True, \"is of type\", type(True))"
   ]
  },
  {
   "cell_type": "code",
   "execution_count": null,
   "metadata": {},
   "outputs": [],
   "source": [
    "# Recall : Data Containers\n",
    "print([2,3], \"is of type\", type([2,3]))\n",
    "print((2,3), \"is of type\", type((2,3)))\n",
    "print({\"two\" : 2, \"three\" : 3}, \"is of type\", type({\"two\" : 2, \"three\" : 3}))"
   ]
  },
  {
   "cell_type": "code",
   "execution_count": null,
   "metadata": {},
   "outputs": [],
   "source": [
    "# Recall : Functions\n",
    "def square(x):\n",
    "    '''returns the square of a number'''\n",
    "    return x**2\n",
    "\n",
    "print(square, \"is of type\", type(square))"
   ]
  },
  {
   "cell_type": "code",
   "execution_count": null,
   "metadata": {},
   "outputs": [],
   "source": [
    "# Recall : Modules\n",
    "import math\n",
    "print(math, \"is of type\", type(math))"
   ]
  },
  {
   "cell_type": "code",
   "execution_count": null,
   "metadata": {},
   "outputs": [],
   "source": []
  },
  {
   "cell_type": "markdown",
   "metadata": {},
   "source": [
    "---\n",
    "\n",
    "## Class Definition\n",
    "\n",
    "Classes may be user defined in Python, to provide a template for repeatedly used `objects`, and to modularize the code. The following syntax for defining a `class` is read as \"Class named CLASS_NAME *inherits* from the generic class `object` with user-defined internal ATTRIBUTES and METHODS( )\".     \n",
    "\n",
    "> ```python\n",
    "> class CLASS_NAME( object ):\n",
    ">     '''documentation of the class'''\n",
    ">     ATTRIBUTES\n",
    ">     METHODS()\n",
    "> ```\n",
    "\n",
    "The *documentation of the class* or the `docstring` shows up when someone calls `help()` on the class. Write it as neat and complete as possible."
   ]
  },
  {
   "cell_type": "code",
   "execution_count": null,
   "metadata": {},
   "outputs": [],
   "source": [
    "help(list)"
   ]
  },
  {
   "cell_type": "code",
   "execution_count": null,
   "metadata": {},
   "outputs": [],
   "source": []
  },
  {
   "cell_type": "code",
   "execution_count": null,
   "metadata": {},
   "outputs": [],
   "source": [
    "# Define a Class : Card\n",
    "class Card(object):\n",
    "    '''Standard playing cards'''\n",
    "    pass"
   ]
  },
  {
   "cell_type": "code",
   "execution_count": null,
   "metadata": {},
   "outputs": [],
   "source": [
    "# Create an Object\n",
    "card = Card()\n",
    "\n",
    "# Set the Attributes\n",
    "card.suit = \"Spades\"\n",
    "card.value = \"A\"\n",
    "\n",
    "# Check the Attributes\n",
    "print(card.value, \"of\", card.suit)"
   ]
  },
  {
   "cell_type": "code",
   "execution_count": null,
   "metadata": {},
   "outputs": [],
   "source": []
  },
  {
   "cell_type": "markdown",
   "metadata": {},
   "source": [
    "Let us enrich the `class` by initializing the attributes when instantiated. This can be done by the `__init__` method for a `class`."
   ]
  },
  {
   "cell_type": "code",
   "execution_count": null,
   "metadata": {},
   "outputs": [],
   "source": [
    "# Define a Class with Initialization\n",
    "class Card(object):\n",
    "    '''Standard playing cards.\n",
    "       If no argument is given, initializes \"A of Spades\".\n",
    "    '''\n",
    "    def __init__(self, suit = \"Spades\", value = \"A\"):\n",
    "        self.suit = suit\n",
    "        self.value = value"
   ]
  },
  {
   "cell_type": "code",
   "execution_count": null,
   "metadata": {},
   "outputs": [],
   "source": [
    "# Create a default Card\n",
    "card = Card()\n",
    "print(card.value, \"of\", card.suit)"
   ]
  },
  {
   "cell_type": "code",
   "execution_count": null,
   "metadata": {},
   "outputs": [],
   "source": [
    "# Create a specific Card\n",
    "card = Card(\"Clubs\", \"7\")\n",
    "print(card.value, \"of\", card.suit)"
   ]
  },
  {
   "cell_type": "code",
   "execution_count": null,
   "metadata": {},
   "outputs": [],
   "source": []
  },
  {
   "cell_type": "markdown",
   "metadata": {},
   "source": [
    "Let us enrich the `class` by incorporating a few more `methods` in the definition."
   ]
  },
  {
   "cell_type": "code",
   "execution_count": null,
   "metadata": {},
   "outputs": [],
   "source": [
    "# Define a Class : Card\n",
    "class Card(object):\n",
    "    '''Standard playing cards.\n",
    "       If no argument is given, initializes \"A of Spades\".\n",
    "    '''\n",
    "    def __init__(self, suit = \"Spades\", value = \"A\"):\n",
    "        self.suit = suit\n",
    "        self.value = value\n",
    "        \n",
    "    def __str__(self):\n",
    "        return 'Card(suit = ' + self.suit + ', value = ' + self.value + ')'\n",
    "        \n",
    "    def show(self):\n",
    "        print(self.value, \"of\", self.suit)"
   ]
  },
  {
   "cell_type": "code",
   "execution_count": null,
   "metadata": {},
   "outputs": [],
   "source": [
    "help(Card)"
   ]
  },
  {
   "cell_type": "code",
   "execution_count": null,
   "metadata": {},
   "outputs": [],
   "source": [
    "# Using __str__ description\n",
    "card = Card(\"Clubs\", \"7\")\n",
    "str(card)"
   ]
  },
  {
   "cell_type": "code",
   "execution_count": null,
   "metadata": {},
   "outputs": [],
   "source": [
    "# Using the 'show' method\n",
    "card = Card(\"Clubs\", \"7\")\n",
    "card.show()"
   ]
  },
  {
   "cell_type": "code",
   "execution_count": null,
   "metadata": {},
   "outputs": [],
   "source": []
  },
  {
   "cell_type": "markdown",
   "metadata": {},
   "source": [
    "#### Quick Tasks\n",
    "\n",
    "- Create a `class` to represent the Students of an Academic Program at NTU Singapore. You may choose appropriate `attributes` and `methods`.    "
   ]
  },
  {
   "cell_type": "code",
   "execution_count": null,
   "metadata": {},
   "outputs": [],
   "source": []
  },
  {
   "cell_type": "code",
   "execution_count": null,
   "metadata": {},
   "outputs": [],
   "source": []
  },
  {
   "cell_type": "markdown",
   "metadata": {},
   "source": [
    "---\n",
    "## Class using other Classes\n",
    "\n",
    "One may always define a `class` that incorporates a set of `objects` from another `class`."
   ]
  },
  {
   "cell_type": "code",
   "execution_count": null,
   "metadata": {},
   "outputs": [],
   "source": [
    "# Define a Class : Deck\n",
    "class Deck(object):\n",
    "    '''Standard deck of playing cards.\n",
    "    '''\n",
    "    def __init__(self):\n",
    "        self.cards = []\n",
    "        self.setCards()\n",
    "        \n",
    "    def __str__(self):\n",
    "        return 'Standard Deck with 52 Cards'\n",
    "        \n",
    "    def setCards(self):\n",
    "        suits = [\"Spades\", \"Clubs\", \"Diamonds\", \"Hearts\"]\n",
    "        values = [\"A\", \"2\", \"3\", \"4\", \"5\", \"6\", \"7\", \"8\", \"9\", \"10\", \"J\", \"Q\", \"K\"]\n",
    "        for suit in suits:\n",
    "            for value in values:\n",
    "                self.cards.append(Card(suit, value))\n",
    "                \n",
    "    def show(self):\n",
    "        for card in self.cards:\n",
    "            print(card.value, \"of\", card.suit)\n",
    "            \n",
    "    def listCards(self):\n",
    "        return self.cards"
   ]
  },
  {
   "cell_type": "code",
   "execution_count": null,
   "metadata": {},
   "outputs": [],
   "source": [
    "# Create a Deck of Cards\n",
    "deck = Deck()\n",
    "deck.show()"
   ]
  },
  {
   "cell_type": "code",
   "execution_count": null,
   "metadata": {},
   "outputs": [],
   "source": [
    "# Get the list of Cards\n",
    "deck.listCards()"
   ]
  },
  {
   "cell_type": "code",
   "execution_count": null,
   "metadata": {},
   "outputs": [],
   "source": []
  },
  {
   "cell_type": "markdown",
   "metadata": {},
   "source": [
    "Create a dedicated `method` to randomly shuffle a Deck of Cards in-place."
   ]
  },
  {
   "cell_type": "code",
   "execution_count": null,
   "metadata": {},
   "outputs": [],
   "source": [
    "# Import random\n",
    "import random\n",
    "\n",
    "# Define a Class : Deck\n",
    "class Deck(object):\n",
    "    '''Standard deck of playing cards.\n",
    "    '''\n",
    "    def __init__(self):\n",
    "        self.cards = []\n",
    "        self.setCards()\n",
    "        \n",
    "    def __str__(self):\n",
    "        return 'Standard Deck with 52 Cards'\n",
    "        \n",
    "    def setCards(self):\n",
    "        suits = [\"Spades\", \"Clubs\", \"Diamonds\", \"Hearts\"]\n",
    "        values = [\"A\", \"2\", \"3\", \"4\", \"5\", \"6\", \"7\", \"8\", \"9\", \"10\", \"J\", \"Q\", \"K\"]\n",
    "        for suit in suits:\n",
    "            for value in values:\n",
    "                self.cards.append(Card(suit, value))\n",
    "                \n",
    "    def show(self):\n",
    "        for card in self.cards:\n",
    "            print(card.value, \"of\", card.suit)\n",
    "            \n",
    "    def listCards(self):\n",
    "        return self.cards\n",
    "    \n",
    "    def shuffleCards(self):\n",
    "        random.shuffle(self.cards)"
   ]
  },
  {
   "cell_type": "code",
   "execution_count": null,
   "metadata": {},
   "outputs": [],
   "source": [
    "# Create a Deck of Cards\n",
    "deck = Deck()\n",
    "deck.show()"
   ]
  },
  {
   "cell_type": "code",
   "execution_count": null,
   "metadata": {},
   "outputs": [],
   "source": [
    "# Shuffle the Deck of Cards\n",
    "deck.shuffleCards()\n",
    "deck.show()"
   ]
  },
  {
   "cell_type": "code",
   "execution_count": null,
   "metadata": {},
   "outputs": [],
   "source": []
  },
  {
   "cell_type": "markdown",
   "metadata": {},
   "source": [
    "Create a dedicated `method` to draw a Card from top of the Deck."
   ]
  },
  {
   "cell_type": "code",
   "execution_count": null,
   "metadata": {},
   "outputs": [],
   "source": [
    "# Import random\n",
    "import random\n",
    "\n",
    "# Define a Class : Deck\n",
    "class Deck(object):\n",
    "    '''Standard deck of playing cards.\n",
    "    '''\n",
    "    def __init__(self):\n",
    "        self.cards = []\n",
    "        self.setCards()\n",
    "        \n",
    "    def __str__(self):\n",
    "        return 'Standard Deck with 52 Cards'\n",
    "        \n",
    "    def setCards(self):\n",
    "        suits = [\"Spades\", \"Clubs\", \"Diamonds\", \"Hearts\"]\n",
    "        values = [\"A\", \"2\", \"3\", \"4\", \"5\", \"6\", \"7\", \"8\", \"9\", \"10\", \"J\", \"Q\", \"K\"]\n",
    "        for suit in suits:\n",
    "            for value in values:\n",
    "                self.cards.append(Card(suit, value))\n",
    "                \n",
    "    def show(self):\n",
    "        for card in self.cards:\n",
    "            print(card.value, \"of\", card.suit)\n",
    "                    \n",
    "    def listCards(self):\n",
    "        return self.cards\n",
    "\n",
    "    def shuffleCards(self):\n",
    "        random.shuffle(self.cards)\n",
    "        \n",
    "    def drawCard(self):\n",
    "        return self.cards.pop()"
   ]
  },
  {
   "cell_type": "code",
   "execution_count": null,
   "metadata": {},
   "outputs": [],
   "source": [
    "# Create a Deck of Cards\n",
    "deck = Deck()"
   ]
  },
  {
   "cell_type": "code",
   "execution_count": null,
   "metadata": {},
   "outputs": [],
   "source": [
    "# Shuffle the Deck of Cards\n",
    "deck.shuffleCards()"
   ]
  },
  {
   "cell_type": "code",
   "execution_count": null,
   "metadata": {},
   "outputs": [],
   "source": [
    "# Draw a Card from the Deck\n",
    "card = deck.drawCard()\n",
    "card.show()"
   ]
  },
  {
   "cell_type": "code",
   "execution_count": null,
   "metadata": {},
   "outputs": [],
   "source": [
    "# Remaining Cards in the Deck\n",
    "len(deck.listCards())"
   ]
  },
  {
   "cell_type": "code",
   "execution_count": null,
   "metadata": {},
   "outputs": [],
   "source": []
  },
  {
   "cell_type": "markdown",
   "metadata": {},
   "source": [
    "Let us complete the `class` with docstrings specified for all `methods` (good programming practice)."
   ]
  },
  {
   "cell_type": "code",
   "execution_count": null,
   "metadata": {},
   "outputs": [],
   "source": [
    "# Import random\n",
    "import random\n",
    "\n",
    "\n",
    "# Define a Class : Card\n",
    "class Card(object):\n",
    "    '''Standard playing cards.\n",
    "       If no argument is given, initializes \"A of Spades\".\n",
    "    '''\n",
    "    def __init__(self, suit = \"Spades\", value = \"A\"):\n",
    "        '''initializer for card'''\n",
    "        self.suit = suit\n",
    "        self.value = value\n",
    "        \n",
    "    def __str__(self):\n",
    "        '''string representation for card'''\n",
    "        return 'Card(suit = ' + self.suit + ', value = ' + self.value + ')'\n",
    "        \n",
    "    def show(self):\n",
    "        '''print the suit and value of a card'''\n",
    "        print(self.value, \"of\", self.suit)\n",
    "\n",
    "        \n",
    "# Define a Class : Deck\n",
    "class Deck(object):\n",
    "    '''Standard deck of playing cards.\n",
    "    '''\n",
    "    def __init__(self):\n",
    "        '''initializer for deck'''\n",
    "        self.cards = []\n",
    "        self.setCards()\n",
    "        \n",
    "    def __str__(self):\n",
    "        '''string representation for deck'''\n",
    "        return 'Standard Deck with 52 Cards'\n",
    "        \n",
    "    def setCards(self):\n",
    "        '''set standard 52 cards in a deck'''\n",
    "        suits = [\"Spades\", \"Clubs\", \"Diamonds\", \"Hearts\"]\n",
    "        values = [\"A\", \"2\", \"3\", \"4\", \"5\", \"6\", \"7\", \"8\", \"9\", \"10\", \"J\", \"Q\", \"K\"]\n",
    "        for suit in suits:\n",
    "            for value in values:\n",
    "                self.cards.append(Card(suit, value))\n",
    "                \n",
    "    def show(self):\n",
    "        '''print the cards in a deck'''\n",
    "        for card in self.cards:\n",
    "            print(card.value, \"of\", card.suit)\n",
    "                    \n",
    "    def listCards(self):\n",
    "        '''list of all cards in a deck'''\n",
    "        return self.cards\n",
    "\n",
    "    def shuffleCards(self):\n",
    "        '''randomly shuffle the cards in a deck'''\n",
    "        random.shuffle(self.cards)\n",
    "        \n",
    "    def drawCard(self):\n",
    "        '''draw the top card from a deck'''\n",
    "        return self.cards.pop()"
   ]
  },
  {
   "cell_type": "code",
   "execution_count": null,
   "metadata": {},
   "outputs": [],
   "source": [
    "help(Card)"
   ]
  },
  {
   "cell_type": "code",
   "execution_count": null,
   "metadata": {},
   "outputs": [],
   "source": [
    "help(Deck)"
   ]
  },
  {
   "cell_type": "code",
   "execution_count": null,
   "metadata": {},
   "outputs": [],
   "source": []
  },
  {
   "cell_type": "markdown",
   "metadata": {},
   "source": [
    "#### Quick Tasks\n",
    "\n",
    "- Create a `class` to represent an Academic Program at NTU Singapore, with Students. You may choose appropriate `attributes` and `methods`.    "
   ]
  },
  {
   "cell_type": "code",
   "execution_count": null,
   "metadata": {},
   "outputs": [],
   "source": []
  },
  {
   "cell_type": "code",
   "execution_count": null,
   "metadata": {},
   "outputs": [],
   "source": []
  },
  {
   "cell_type": "markdown",
   "metadata": {},
   "source": [
    "---\n",
    "## Class Inheritance\n",
    "\n",
    "Often in Object-Oriented-Programming, we will find Classes defined using other Classes as the base. In such cases, the new Class *inherits* its attributes and methods from the base Class, unless otherwise defined (that is, overwritten). Python of course, allows you to define *Class Inheritance* in a natural way."
   ]
  },
  {
   "cell_type": "code",
   "execution_count": null,
   "metadata": {},
   "outputs": [],
   "source": [
    "# Define a Class : Hand\n",
    "# Based on Class : Deck\n",
    "\n",
    "class Hand(Deck):\n",
    "    '''One hand of playing cards.\n",
    "    '''\n",
    "    def __init__(self, owner = None):\n",
    "        '''initializer for hand'''\n",
    "        self.cards = []\n",
    "        self.owner = owner\n",
    "        \n",
    "    def __str__(self):\n",
    "        '''string representation for hand'''\n",
    "        return 'A hand of playing Cards belonging to ' + self.owner"
   ]
  },
  {
   "cell_type": "code",
   "execution_count": null,
   "metadata": {},
   "outputs": [],
   "source": [
    "# Create a Hand of Cards\n",
    "hand = Hand(\"Bob\")\n",
    "str(hand)"
   ]
  },
  {
   "cell_type": "markdown",
   "metadata": {},
   "source": [
    "All methods originally defined withing the base class `Deck` are still applicable to `Hand`."
   ]
  },
  {
   "cell_type": "code",
   "execution_count": null,
   "metadata": {},
   "outputs": [],
   "source": [
    "# Show the Hand\n",
    "hand.show()"
   ]
  },
  {
   "cell_type": "code",
   "execution_count": null,
   "metadata": {},
   "outputs": [],
   "source": [
    "# List the Cards\n",
    "hand.listCards()"
   ]
  },
  {
   "cell_type": "markdown",
   "metadata": {},
   "source": [
    "Let us add a specific method to `Hand` that was not in the base class `Deck`."
   ]
  },
  {
   "cell_type": "code",
   "execution_count": null,
   "metadata": {},
   "outputs": [],
   "source": [
    "# Define a Class : Hand\n",
    "# Based on Class : Deck\n",
    "\n",
    "class Hand(Deck):\n",
    "    '''One hand of playing cards.\n",
    "    '''\n",
    "    def __init__(self, owner = None):\n",
    "        '''initializer for hand'''\n",
    "        self.cards = []\n",
    "        self.owner = owner\n",
    "        \n",
    "    def __str__(self):\n",
    "        '''string representation for hand'''\n",
    "        return 'A hand of playing Cards belonging to ' + self.owner\n",
    "    \n",
    "    def addCard(self, card=None):\n",
    "        '''add a card to the hand'''\n",
    "        if card:\n",
    "            self.cards.append(card)"
   ]
  },
  {
   "cell_type": "code",
   "execution_count": null,
   "metadata": {},
   "outputs": [],
   "source": [
    "# Create a Deck\n",
    "deck = Deck()\n",
    "print(\"Deck created : \", str(deck))\n",
    "\n",
    "# Create a Hand\n",
    "hand = Hand(\"Bob\")\n",
    "print(\"Hand created : \", str(hand))\n",
    "\n",
    "# Shuffle the Deck of Cards\n",
    "deck.shuffleCards()\n",
    "\n",
    "# Draw a Card from the Deck\n",
    "card = deck.drawCard()\n",
    "print(\"Card drawn : \", str(card))\n",
    "\n",
    "# Add the drawn card to the hand\n",
    "hand.addCard(card)\n",
    "\n",
    "# Show the Hand\n",
    "print()\n",
    "print(\"Cards in hand\")\n",
    "hand.show()"
   ]
  },
  {
   "cell_type": "markdown",
   "metadata": {},
   "source": [
    "You can also deal a Poker Hand of 2 Cards each to 5 Players sitting on your Table."
   ]
  },
  {
   "cell_type": "code",
   "execution_count": null,
   "metadata": {},
   "outputs": [],
   "source": [
    "# Create a Deck\n",
    "deck = Deck()\n",
    "print(\"Deck created : \", str(deck))\n",
    "\n",
    "# Create a Hand for each of the 5 Players\n",
    "players = [\"Alice\", \"Bob\", \"Charles\", \"Dalton\", \"Emory\"]\n",
    "hands = dict((player,None) for player in players)\n",
    "\n",
    "for player in players:\n",
    "    hand = Hand(player)\n",
    "    hands[player] = hand\n",
    "    print(\"Hand created : \", str(hand))\n",
    "\n",
    "# Shuffle the Deck of Cards\n",
    "deck.shuffleCards()\n",
    "\n",
    "# Draw cards from Deck and add to Hands\n",
    "for _ in range(2):\n",
    "    for player in players:\n",
    "        # Draw a Card from the Deck\n",
    "        card = deck.drawCard()\n",
    "        # Add the drawn card to the hand\n",
    "        hands[player].addCard(card)\n",
    "\n",
    "# Show the Hands\n",
    "print()\n",
    "print()\n",
    "for player in players:\n",
    "    print(\"Hand of \", player)\n",
    "    hands[player].show()\n",
    "    print()"
   ]
  },
  {
   "cell_type": "code",
   "execution_count": null,
   "metadata": {},
   "outputs": [],
   "source": []
  },
  {
   "cell_type": "markdown",
   "metadata": {},
   "source": [
    "#### Quick Tasks\n",
    "\n",
    "- Create a `class` to represent the MSAI Program at NTU Singapore, with Students. You may choose to inherit from a base Academic Program.    "
   ]
  },
  {
   "cell_type": "code",
   "execution_count": null,
   "metadata": {},
   "outputs": [],
   "source": []
  },
  {
   "cell_type": "code",
   "execution_count": null,
   "metadata": {},
   "outputs": [],
   "source": []
  }
 ],
 "metadata": {
  "kernelspec": {
   "display_name": "Python 3",
   "language": "python",
   "name": "python3"
  },
  "language_info": {
   "codemirror_mode": {
    "name": "ipython",
    "version": 3
   },
   "file_extension": ".py",
   "mimetype": "text/x-python",
   "name": "python",
   "nbconvert_exporter": "python",
   "pygments_lexer": "ipython3",
   "version": "3.8.3"
  }
 },
 "nbformat": 4,
 "nbformat_minor": 2
}