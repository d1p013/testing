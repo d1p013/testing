{
  "nbformat": 4,
  "nbformat_minor": 0,
  "metadata": {
    "colab": {
      "name": "Copy of Assignment_Simple_Search_Engine.ipynb",
      "provenance": [],
      "collapsed_sections": [],
      "include_colab_link": true
    },
    "kernelspec": {
      "name": "python3",
      "display_name": "Python 3"
    },
    "widgets": {
      "application/vnd.jupyter.widget-state+json": {
        "673c2239d80a4dce8b1746539ca1e150": {
          "model_module": "@jupyter-widgets/controls",
          "model_name": "HBoxModel",
          "model_module_version": "1.5.0",
          "state": {
            "_view_name": "HBoxView",
            "_dom_classes": [],
            "_model_name": "HBoxModel",
            "_view_module": "@jupyter-widgets/controls",
            "_model_module_version": "1.5.0",
            "_view_count": null,
            "_view_module_version": "1.5.0",
            "box_style": "",
            "layout": "IPY_MODEL_1a5cb0c6896f4760a07e096ff8196981",
            "_model_module": "@jupyter-widgets/controls",
            "children": [
              "IPY_MODEL_0bd17302a4f34027989e0a3121de7333",
              "IPY_MODEL_eaa8b6fbf0c74120bd3987929db9a623",
              "IPY_MODEL_107c8d65e41c48d6b76cc813c951ca6f"
            ]
          }
        },
        "1a5cb0c6896f4760a07e096ff8196981": {
          "model_module": "@jupyter-widgets/base",
          "model_name": "LayoutModel",
          "model_module_version": "1.2.0",
          "state": {
            "_view_name": "LayoutView",
            "grid_template_rows": null,
            "right": null,
            "justify_content": null,
            "_view_module": "@jupyter-widgets/base",
            "overflow": null,
            "_model_module_version": "1.2.0",
            "_view_count": null,
            "flex_flow": null,
            "width": null,
            "min_width": null,
            "border": null,
            "align_items": null,
            "bottom": null,
            "_model_module": "@jupyter-widgets/base",
            "top": null,
            "grid_column": null,
            "overflow_y": null,
            "overflow_x": null,
            "grid_auto_flow": null,
            "grid_area": null,
            "grid_template_columns": null,
            "flex": null,
            "_model_name": "LayoutModel",
            "justify_items": null,
            "grid_row": null,
            "max_height": null,
            "align_content": null,
            "visibility": null,
            "align_self": null,
            "height": null,
            "min_height": null,
            "padding": null,
            "grid_auto_rows": null,
            "grid_gap": null,
            "max_width": null,
            "order": null,
            "_view_module_version": "1.2.0",
            "grid_template_areas": null,
            "object_position": null,
            "object_fit": null,
            "grid_auto_columns": null,
            "margin": null,
            "display": null,
            "left": null
          }
        },
        "0bd17302a4f34027989e0a3121de7333": {
          "model_module": "@jupyter-widgets/controls",
          "model_name": "HTMLModel",
          "model_module_version": "1.5.0",
          "state": {
            "_view_name": "HTMLView",
            "style": "IPY_MODEL_de3b48ea2e4b4d158b318de9fbe825e7",
            "_dom_classes": [],
            "description": "",
            "_model_name": "HTMLModel",
            "placeholder": "​",
            "_view_module": "@jupyter-widgets/controls",
            "_model_module_version": "1.5.0",
            "value": "",
            "_view_count": null,
            "_view_module_version": "1.5.0",
            "description_tooltip": null,
            "_model_module": "@jupyter-widgets/controls",
            "layout": "IPY_MODEL_561e9e57879e44488d1f4c118dc46000"
          }
        },
        "eaa8b6fbf0c74120bd3987929db9a623": {
          "model_module": "@jupyter-widgets/controls",
          "model_name": "FloatProgressModel",
          "model_module_version": "1.5.0",
          "state": {
            "_view_name": "ProgressView",
            "style": "IPY_MODEL_5e1168381fdb41ada3722c56a0535af9",
            "_dom_classes": [],
            "description": "",
            "_model_name": "FloatProgressModel",
            "bar_style": "success",
            "max": 6928,
            "_view_module": "@jupyter-widgets/controls",
            "_model_module_version": "1.5.0",
            "value": 6928,
            "_view_count": null,
            "_view_module_version": "1.5.0",
            "orientation": "horizontal",
            "min": 0,
            "description_tooltip": null,
            "_model_module": "@jupyter-widgets/controls",
            "layout": "IPY_MODEL_57c7546339c14e88b1ea4772fdac5a11"
          }
        },
        "107c8d65e41c48d6b76cc813c951ca6f": {
          "model_module": "@jupyter-widgets/controls",
          "model_name": "HTMLModel",
          "model_module_version": "1.5.0",
          "state": {
            "_view_name": "HTMLView",
            "style": "IPY_MODEL_8c51b1e9d83e4189a31ecd42db0d751c",
            "_dom_classes": [],
            "description": "",
            "_model_name": "HTMLModel",
            "placeholder": "​",
            "_view_module": "@jupyter-widgets/controls",
            "_model_module_version": "1.5.0",
            "value": " 6929/? [00:09&lt;00:00, 893.22documents/s]",
            "_view_count": null,
            "_view_module_version": "1.5.0",
            "description_tooltip": null,
            "_model_module": "@jupyter-widgets/controls",
            "layout": "IPY_MODEL_b50cce42048b4d0d86ac6a8ad5b67ea5"
          }
        },
        "de3b48ea2e4b4d158b318de9fbe825e7": {
          "model_module": "@jupyter-widgets/controls",
          "model_name": "DescriptionStyleModel",
          "model_module_version": "1.5.0",
          "state": {
            "_view_name": "StyleView",
            "_model_name": "DescriptionStyleModel",
            "description_width": "",
            "_view_module": "@jupyter-widgets/base",
            "_model_module_version": "1.5.0",
            "_view_count": null,
            "_view_module_version": "1.2.0",
            "_model_module": "@jupyter-widgets/controls"
          }
        },
        "561e9e57879e44488d1f4c118dc46000": {
          "model_module": "@jupyter-widgets/base",
          "model_name": "LayoutModel",
          "model_module_version": "1.2.0",
          "state": {
            "_view_name": "LayoutView",
            "grid_template_rows": null,
            "right": null,
            "justify_content": null,
            "_view_module": "@jupyter-widgets/base",
            "overflow": null,
            "_model_module_version": "1.2.0",
            "_view_count": null,
            "flex_flow": null,
            "width": null,
            "min_width": null,
            "border": null,
            "align_items": null,
            "bottom": null,
            "_model_module": "@jupyter-widgets/base",
            "top": null,
            "grid_column": null,
            "overflow_y": null,
            "overflow_x": null,
            "grid_auto_flow": null,
            "grid_area": null,
            "grid_template_columns": null,
            "flex": null,
            "_model_name": "LayoutModel",
            "justify_items": null,
            "grid_row": null,
            "max_height": null,
            "align_content": null,
            "visibility": null,
            "align_self": null,
            "height": null,
            "min_height": null,
            "padding": null,
            "grid_auto_rows": null,
            "grid_gap": null,
            "max_width": null,
            "order": null,
            "_view_module_version": "1.2.0",
            "grid_template_areas": null,
            "object_position": null,
            "object_fit": null,
            "grid_auto_columns": null,
            "margin": null,
            "display": null,
            "left": null
          }
        },
        "5e1168381fdb41ada3722c56a0535af9": {
          "model_module": "@jupyter-widgets/controls",
          "model_name": "ProgressStyleModel",
          "model_module_version": "1.5.0",
          "state": {
            "_view_name": "StyleView",
            "_model_name": "ProgressStyleModel",
            "description_width": "",
            "_view_module": "@jupyter-widgets/base",
            "_model_module_version": "1.5.0",
            "_view_count": null,
            "_view_module_version": "1.2.0",
            "bar_color": null,
            "_model_module": "@jupyter-widgets/controls"
          }
        },
        "57c7546339c14e88b1ea4772fdac5a11": {
          "model_module": "@jupyter-widgets/base",
          "model_name": "LayoutModel",
          "model_module_version": "1.2.0",
          "state": {
            "_view_name": "LayoutView",
            "grid_template_rows": null,
            "right": null,
            "justify_content": null,
            "_view_module": "@jupyter-widgets/base",
            "overflow": null,
            "_model_module_version": "1.2.0",
            "_view_count": null,
            "flex_flow": null,
            "width": null,
            "min_width": null,
            "border": null,
            "align_items": null,
            "bottom": null,
            "_model_module": "@jupyter-widgets/base",
            "top": null,
            "grid_column": null,
            "overflow_y": null,
            "overflow_x": null,
            "grid_auto_flow": null,
            "grid_area": null,
            "grid_template_columns": null,
            "flex": null,
            "_model_name": "LayoutModel",
            "justify_items": null,
            "grid_row": null,
            "max_height": null,
            "align_content": null,
            "visibility": null,
            "align_self": null,
            "height": null,
            "min_height": null,
            "padding": null,
            "grid_auto_rows": null,
            "grid_gap": null,
            "max_width": null,
            "order": null,
            "_view_module_version": "1.2.0",
            "grid_template_areas": null,
            "object_position": null,
            "object_fit": null,
            "grid_auto_columns": null,
            "margin": null,
            "display": null,
            "left": null
          }
        },
        "8c51b1e9d83e4189a31ecd42db0d751c": {
          "model_module": "@jupyter-widgets/controls",
          "model_name": "DescriptionStyleModel",
          "model_module_version": "1.5.0",
          "state": {
            "_view_name": "StyleView",
            "_model_name": "DescriptionStyleModel",
            "description_width": "",
            "_view_module": "@jupyter-widgets/base",
            "_model_module_version": "1.5.0",
            "_view_count": null,
            "_view_module_version": "1.2.0",
            "_model_module": "@jupyter-widgets/controls"
          }
        },
        "b50cce42048b4d0d86ac6a8ad5b67ea5": {
          "model_module": "@jupyter-widgets/base",
          "model_name": "LayoutModel",
          "model_module_version": "1.2.0",
          "state": {
            "_view_name": "LayoutView",
            "grid_template_rows": null,
            "right": null,
            "justify_content": null,
            "_view_module": "@jupyter-widgets/base",
            "overflow": null,
            "_model_module_version": "1.2.0",
            "_view_count": null,
            "flex_flow": null,
            "width": null,
            "min_width": null,
            "border": null,
            "align_items": null,
            "bottom": null,
            "_model_module": "@jupyter-widgets/base",
            "top": null,
            "grid_column": null,
            "overflow_y": null,
            "overflow_x": null,
            "grid_auto_flow": null,
            "grid_area": null,
            "grid_template_columns": null,
            "flex": null,
            "_model_name": "LayoutModel",
            "justify_items": null,
            "grid_row": null,
            "max_height": null,
            "align_content": null,
            "visibility": null,
            "align_self": null,
            "height": null,
            "min_height": null,
            "padding": null,
            "grid_auto_rows": null,
            "grid_gap": null,
            "max_width": null,
            "order": null,
            "_view_module_version": "1.2.0",
            "grid_template_areas": null,
            "object_position": null,
            "object_fit": null,
            "grid_auto_columns": null,
            "margin": null,
            "display": null,
            "left": null
          }
        }
      }
    }
  },
  "cells": [
    {
      "cell_type": "markdown",
      "metadata": {
        "id": "view-in-github",
        "colab_type": "text"
      },
      "source": [
        "<a href=\"https://colab.research.google.com/github/d1p013/testing/blob/master/Simple_Search_Engine_2.ipynb\" target=\"_parent\"><img src=\"https://colab.research.google.com/assets/colab-badge.svg\" alt=\"Open In Colab\"/></a>"
      ]
    },
    {
      "cell_type": "markdown",
      "metadata": {
        "id": "TNdMHD8LS2Bm"
      },
      "source": [
        "# AI6122 Assignment 1 - Section 3.3\n"
      ]
    },
    {
      "cell_type": "markdown",
      "metadata": {
        "id": "pkMrNonZrpEg"
      },
      "source": [
        "## Prerequisites\n",
        "\n",
        "You will need PyTerrier installed. PyTerrier also needs Java to be installed, and will find most installations."
      ]
    },
    {
      "cell_type": "code",
      "metadata": {
        "id": "JWLqWXBHeBRc",
        "colab": {
          "base_uri": "https://localhost:8080/"
        },
        "outputId": "38dadb72-e1b1-44fa-f368-8e3a1bdbebb3"
      },
      "source": [
        "!pip install python-terrier\n",
        "#!pip install --upgrade git+https://github.com/terrier-org/pyterrier.git#egg=python-terrier"
      ],
      "execution_count": 9,
      "outputs": [
        {
          "output_type": "stream",
          "name": "stdout",
          "text": [
            "Requirement already satisfied: python-terrier in /usr/local/lib/python3.7/dist-packages (0.7.0)\n",
            "Requirement already satisfied: scipy in /usr/local/lib/python3.7/dist-packages (from python-terrier) (1.4.1)\n",
            "Requirement already satisfied: ir-datasets>=0.3.2 in /usr/local/lib/python3.7/dist-packages (from python-terrier) (0.4.3)\n",
            "Requirement already satisfied: jinja2 in /usr/local/lib/python3.7/dist-packages (from python-terrier) (2.11.3)\n",
            "Requirement already satisfied: deprecation in /usr/local/lib/python3.7/dist-packages (from python-terrier) (2.1.0)\n",
            "Requirement already satisfied: more-itertools in /usr/local/lib/python3.7/dist-packages (from python-terrier) (8.10.0)\n",
            "Requirement already satisfied: tqdm in /usr/local/lib/python3.7/dist-packages (from python-terrier) (4.62.3)\n",
            "Requirement already satisfied: wget in /usr/local/lib/python3.7/dist-packages (from python-terrier) (3.2)\n",
            "Requirement already satisfied: statsmodels in /usr/local/lib/python3.7/dist-packages (from python-terrier) (0.10.2)\n",
            "Requirement already satisfied: sklearn in /usr/local/lib/python3.7/dist-packages (from python-terrier) (0.0)\n",
            "Requirement already satisfied: ir-measures>=0.2.0 in /usr/local/lib/python3.7/dist-packages (from python-terrier) (0.2.1)\n",
            "Requirement already satisfied: chest in /usr/local/lib/python3.7/dist-packages (from python-terrier) (0.2.3)\n",
            "Requirement already satisfied: numpy in /usr/local/lib/python3.7/dist-packages (from python-terrier) (1.19.5)\n",
            "Requirement already satisfied: requests in /usr/local/lib/python3.7/dist-packages (from python-terrier) (2.23.0)\n",
            "Requirement already satisfied: pyjnius~=1.3.0 in /usr/local/lib/python3.7/dist-packages (from python-terrier) (1.3.0)\n",
            "Requirement already satisfied: nptyping in /usr/local/lib/python3.7/dist-packages (from python-terrier) (1.4.4)\n",
            "Requirement already satisfied: matchpy in /usr/local/lib/python3.7/dist-packages (from python-terrier) (0.5.4)\n",
            "Requirement already satisfied: pandas in /usr/local/lib/python3.7/dist-packages (from python-terrier) (1.1.5)\n",
            "Requirement already satisfied: joblib in /usr/local/lib/python3.7/dist-packages (from python-terrier) (1.0.1)\n",
            "Requirement already satisfied: dill in /usr/local/lib/python3.7/dist-packages (from python-terrier) (0.3.4)\n",
            "Requirement already satisfied: trec-car-tools>=2.5.4 in /usr/local/lib/python3.7/dist-packages (from ir-datasets>=0.3.2->python-terrier) (2.5.4)\n",
            "Requirement already satisfied: pyyaml>=5.3.1 in /usr/local/lib/python3.7/dist-packages (from ir-datasets>=0.3.2->python-terrier) (6.0)\n",
            "Requirement already satisfied: lz4>=3.1.1 in /usr/local/lib/python3.7/dist-packages (from ir-datasets>=0.3.2->python-terrier) (3.1.3)\n",
            "Requirement already satisfied: warc3-wet-clueweb09>=0.2.5 in /usr/local/lib/python3.7/dist-packages (from ir-datasets>=0.3.2->python-terrier) (0.2.5)\n",
            "Requirement already satisfied: warc3-wet>=0.2.3 in /usr/local/lib/python3.7/dist-packages (from ir-datasets>=0.3.2->python-terrier) (0.2.3)\n",
            "Requirement already satisfied: ijson>=3.1.3 in /usr/local/lib/python3.7/dist-packages (from ir-datasets>=0.3.2->python-terrier) (3.1.4)\n",
            "Requirement already satisfied: zlib-state>=0.1.3 in /usr/local/lib/python3.7/dist-packages (from ir-datasets>=0.3.2->python-terrier) (0.1.3)\n",
            "Requirement already satisfied: beautifulsoup4>=4.4.1 in /usr/local/lib/python3.7/dist-packages (from ir-datasets>=0.3.2->python-terrier) (4.6.3)\n",
            "Requirement already satisfied: lxml>=4.5.2 in /usr/local/lib/python3.7/dist-packages (from ir-datasets>=0.3.2->python-terrier) (4.6.3)\n",
            "Requirement already satisfied: pyautocorpus>=0.1.1 in /usr/local/lib/python3.7/dist-packages (from ir-datasets>=0.3.2->python-terrier) (0.1.6)\n",
            "Requirement already satisfied: cwl-eval>=1.0.10 in /usr/local/lib/python3.7/dist-packages (from ir-measures>=0.2.0->python-terrier) (1.0.10)\n",
            "Requirement already satisfied: pytrec-eval-terrier==0.5.1 in /usr/local/lib/python3.7/dist-packages (from ir-measures>=0.2.0->python-terrier) (0.5.1)\n",
            "Requirement already satisfied: cython in /usr/local/lib/python3.7/dist-packages (from pyjnius~=1.3.0->python-terrier) (0.29.24)\n",
            "Requirement already satisfied: six>=1.7.0 in /usr/local/lib/python3.7/dist-packages (from pyjnius~=1.3.0->python-terrier) (1.15.0)\n",
            "Requirement already satisfied: urllib3!=1.25.0,!=1.25.1,<1.26,>=1.21.1 in /usr/local/lib/python3.7/dist-packages (from requests->python-terrier) (1.24.3)\n",
            "Requirement already satisfied: certifi>=2017.4.17 in /usr/local/lib/python3.7/dist-packages (from requests->python-terrier) (2021.5.30)\n",
            "Requirement already satisfied: chardet<4,>=3.0.2 in /usr/local/lib/python3.7/dist-packages (from requests->python-terrier) (3.0.4)\n",
            "Requirement already satisfied: idna<3,>=2.5 in /usr/local/lib/python3.7/dist-packages (from requests->python-terrier) (2.10)\n",
            "Requirement already satisfied: cbor>=1.0.0 in /usr/local/lib/python3.7/dist-packages (from trec-car-tools>=2.5.4->ir-datasets>=0.3.2->python-terrier) (1.0.0)\n",
            "Requirement already satisfied: heapdict in /usr/local/lib/python3.7/dist-packages (from chest->python-terrier) (1.0.1)\n",
            "Requirement already satisfied: packaging in /usr/local/lib/python3.7/dist-packages (from deprecation->python-terrier) (21.0)\n",
            "Requirement already satisfied: MarkupSafe>=0.23 in /usr/local/lib/python3.7/dist-packages (from jinja2->python-terrier) (2.0.1)\n",
            "Requirement already satisfied: multiset<3.0,>=2.0 in /usr/local/lib/python3.7/dist-packages (from matchpy->python-terrier) (2.1.1)\n",
            "Requirement already satisfied: typish>=1.7.0 in /usr/local/lib/python3.7/dist-packages (from nptyping->python-terrier) (1.9.3)\n",
            "Requirement already satisfied: pyparsing>=2.0.2 in /usr/local/lib/python3.7/dist-packages (from packaging->deprecation->python-terrier) (2.4.7)\n",
            "Requirement already satisfied: python-dateutil>=2.7.3 in /usr/local/lib/python3.7/dist-packages (from pandas->python-terrier) (2.8.2)\n",
            "Requirement already satisfied: pytz>=2017.2 in /usr/local/lib/python3.7/dist-packages (from pandas->python-terrier) (2018.9)\n",
            "Requirement already satisfied: scikit-learn in /usr/local/lib/python3.7/dist-packages (from sklearn->python-terrier) (0.22.2.post1)\n",
            "Requirement already satisfied: patsy>=0.4.0 in /usr/local/lib/python3.7/dist-packages (from statsmodels->python-terrier) (0.5.2)\n"
          ]
        }
      ]
    },
    {
      "cell_type": "markdown",
      "metadata": {
        "id": "ixzDjvtTOQbB"
      },
      "source": [
        "## Init \n",
        "\n",
        "You must run `pt.init()` before other pyterrier functions and classes\n",
        "\n",
        "Optional Arguments:    \n",
        " - `version` - terrier IR version e.g. \"5.2\"    \n",
        " - `mem` - megabytes allocated to java e.g. \"4096\"      \n",
        " - `packages` - external java packages for Terrier to load e.g. [\"org.terrier:terrier.prf\"]\n",
        " - `logging` - logging level for Terrier. Defaults to \"WARN\", use \"INFO\" or \"DEBUG\" for more output.\n",
        "\n",
        "NB: PyTerrier needs Java 11 installed. If it cannot find your Java installation, you can set the `JAVA_HOME` environment variable."
      ]
    },
    {
      "cell_type": "code",
      "metadata": {
        "id": "k3ltUZ8PgWmz"
      },
      "source": [
        "import pyterrier as pt\n",
        "if not pt.started():\n",
        "  pt.init()"
      ],
      "execution_count": 10,
      "outputs": []
    },
    {
      "cell_type": "markdown",
      "metadata": {
        "id": "oumbzZuwGM9-"
      },
      "source": [
        " ## Importing dataset from Google Drive\n",
        "\n",
        "Using built-in function of Google Colab, we can easily import the dataset which has been uploaded onto Google Drive beforehand\n",
        "\n",
        "need a Google account to download the data"
      ]
    },
    {
      "cell_type": "code",
      "metadata": {
        "id": "PFF_NGltOyZK"
      },
      "source": [
        "# Import PyDrive and associated libraries.\n",
        "# This only needs to be done once per notebook.\n",
        "from pydrive.auth import GoogleAuth\n",
        "from pydrive.drive import GoogleDrive\n",
        "from google.colab import auth\n",
        "from oauth2client.client import GoogleCredentials\n",
        "\n",
        "# Authenticate and create the PyDrive client.\n",
        "# This only needs to be done once per notebook.\n",
        "auth.authenticate_user()\n",
        "gauth = GoogleAuth()\n",
        "gauth.credentials = GoogleCredentials.get_application_default()\n",
        "drive = GoogleDrive(gauth)\n",
        "\n",
        "# Download a file based on its file ID which is residing on Google Drive\n",
        "#\n",
        "file_id = '1aVXMJ_luTXISxMwP5_Bt2xE0ObXqEsQ2' #\"Dataset_B1to8\"\n",
        "\n",
        "downloaded = drive.CreateFile({'id': file_id})\n",
        "#print('Downloaded content \"{}\"'.format(downloaded.GetContentString()))\n",
        "downloaded.GetContentFile('Dataset_B1to8.csv')"
      ],
      "execution_count": null,
      "outputs": []
    },
    {
      "cell_type": "markdown",
      "metadata": {
        "id": "wGV18JV1P129"
      },
      "source": [
        "## Loading dataset (csv) into Pandas dataframe\n",
        "\n",
        "PyTerrier makes it easy to index standard Python data structures, particularly [Pandas dataframes](https://pandas.pydata.org/pandas-docs/stable/reference/api/pandas.DataFrame.html).\n",
        "\n",
        "importing dataset, which is scale down version of the original `review.json` file as the original file is too large to load into Google Colab memory\n"
      ]
    },
    {
      "cell_type": "code",
      "metadata": {
        "id": "r86UHesmt0Wc"
      },
      "source": [
        "## load data into df\n",
        "import pandas as pd\n",
        "#df = pd.read_csv(\"AI6122_Dataset_B1.csv\", dtype = str)\n",
        "df = pd.read_csv(\"Dataset_B1to8.csv\", dtype = str)\n",
        "\n",
        "try :\n",
        "  del docno \n",
        "except:\n",
        "  pass\n",
        "\n",
        "docno =[]\n",
        "for idx in range(1,len(df)+1):\n",
        "  docno.append(\"d\" + str(idx))\n",
        "\n",
        "df[\"docno\"] = docno\n"
      ],
      "execution_count": null,
      "outputs": []
    },
    {
      "cell_type": "markdown",
      "metadata": {
        "id": "S9KZ2QDYEt-k"
      },
      "source": [
        "## Time taken for indexing\n",
        "\n",
        "Tracking the time to complete indexing for each 10% incremental of documents. The index folder is cleared before each indexing and time and is taken before and after indexing, the difference being the time taken to index\n"
      ]
    },
    {
      "cell_type": "code",
      "metadata": {
        "id": "xv44JX_cqa4G"
      },
      "source": [
        "import time\n",
        "\n",
        "Tcollect = []\n",
        "for idx in range(1,11):\n",
        "  #print(idx)\n",
        "  df_resize = df.iloc[:int(len(df)/(10/idx)),:]\n",
        "  !rm -rf ./pd_index\n",
        "  pd_indexer = pt.DFIndexer(\"./pd_index\", overwrite=True, verbose=True)\n",
        "  Tstart = time.perf_counter()\n",
        "  indexref = pd_indexer.index(df_resize[\"text\"], df_resize)\n",
        "  Tend = time.perf_counter()\n",
        "  print(str(10*idx)+f\"% df search completed in {Tend - Tstart:0.4f} seconds\")\n",
        "  Tcollect.append(Tend - Tstart)\n",
        "\n"
      ],
      "execution_count": null,
      "outputs": []
    },
    {
      "cell_type": "code",
      "metadata": {
        "id": "AknJkV0KdNOn"
      },
      "source": [
        "import matplotlib.pyplot as plt\n",
        "\n",
        "plotdf = pd.DataFrame({\n",
        "    'Percentage Completed':['10%', '20%', '30%', '40%', '50%', \n",
        "                            '60%', '70%', '80%', '90%', '100%'],\n",
        "    'Time(s)':Tcollect\n",
        "    })\n",
        "\n",
        "# a scatter plot comparing num_children and num_pets\n",
        "plotdf.plot(kind='line',x='Percentage Completed',y='Time(s)',color='blue')\n",
        "plt.show()\n"
      ],
      "execution_count": null,
      "outputs": []
    },
    {
      "cell_type": "markdown",
      "metadata": {
        "id": "by7Mt0TlHIDJ"
      },
      "source": [
        "## Indexing a Pandas dataframe\n",
        "\n",
        "We can use a `pt.DFIndexer()` object to do indexing for Pandas dataframe"
      ]
    },
    {
      "cell_type": "code",
      "metadata": {
        "id": "vw-4NIjlUY16"
      },
      "source": [
        "#import pandas as pd\n",
        "!rm -rf ./pd_index\n",
        "pd_indexer = pt.DFIndexer(\"./pd_index\", overwrite=True, verbose=True, blocks=True)\n",
        "\n",
        "# optionally modify properties\n",
        "# index_properies = {\"block.indexing\":\"true\", \"invertedfile.lexiconscanner\":\"pointers\"}\n",
        "# indexer.setProperties(**index_properies)\n",
        "pd_indexer.setProperty(\"tokeniser\" , \"EnglishTokeniser\")\n",
        "pd_indexer.setProperty(\"termpipelines\", \"Stopwords,PorterStemmer\")\n",
        "#pd_indexer.setProperty(\"block.indexing\",\"true\")\n",
        "#pd_indexer.setProperty(\"termpipelines\", \"Stopwords\")\n",
        "# no stemming or stopwords\n",
        "#pd_indexer.setProperty(\"termpipelines\", \"\")"
      ],
      "execution_count": null,
      "outputs": []
    },
    {
      "cell_type": "markdown",
      "metadata": {
        "id": "K-idBQ5OUV9c"
      },
      "source": [
        "Then there are a number of options to index the dataframe:    \n",
        "The first argument should always a pandas.Series object of Strings, which specifies the body of each document.    \n",
        "Any arguments after that are for specifying metadata.\n",
        "\n",
        "We can view more useful information from the indexed objects using a indexref.getCollectionsStatistics()"
      ]
    },
    {
      "cell_type": "code",
      "metadata": {
        "id": "rBXHWO4yUJT7",
        "colab": {
          "base_uri": "https://localhost:8080/",
          "height": 209,
          "referenced_widgets": [
            "673c2239d80a4dce8b1746539ca1e150",
            "1a5cb0c6896f4760a07e096ff8196981",
            "0bd17302a4f34027989e0a3121de7333",
            "eaa8b6fbf0c74120bd3987929db9a623",
            "107c8d65e41c48d6b76cc813c951ca6f",
            "de3b48ea2e4b4d158b318de9fbe825e7",
            "561e9e57879e44488d1f4c118dc46000",
            "5e1168381fdb41ada3722c56a0535af9",
            "57c7546339c14e88b1ea4772fdac5a11",
            "8c51b1e9d83e4189a31ecd42db0d751c",
            "b50cce42048b4d0d86ac6a8ad5b67ea5"
          ]
        },
        "outputId": "e8de68bb-c438-4c5e-9881-56ee0782d274"
      },
      "source": [
        "import time\n",
        "\n",
        "# Add metadata fields as Pandas.Series objects, with the name of the Series object becoming the name of the meta field.\n",
        "#indexref = pd_indexer.index(df[\"text\"], df[\"docno\"], df[\"review_id\"], df[\"user_id\"], df[\"business_id\"], df[\"stars\"], df[\"useful\"], df[\"funny\"], df[\"cool\"])\n",
        "Tstart = time.perf_counter()\n",
        "# Add the entire dataframe as metadata\n",
        "indexref = pd_indexer.index(df[\"text\"], df)\n",
        "Tend = time.perf_counter()\n",
        "print(f\"search completed in {Tend - Tstart:0.4f} seconds\")\n",
        "indexinfo = pt.IndexFactory.of(indexref)\n",
        "print(indexinfo.getCollectionStatistics().toString()) "
      ],
      "execution_count": null,
      "outputs": [
        {
          "output_type": "display_data",
          "data": {
            "application/vnd.jupyter.widget-view+json": {
              "model_id": "673c2239d80a4dce8b1746539ca1e150",
              "version_minor": 0,
              "version_major": 2
            },
            "text/plain": [
              "  0%|          | 0/6928 [00:00<?, ?documents/s]"
            ]
          },
          "metadata": {}
        },
        {
          "output_type": "stream",
          "name": "stdout",
          "text": [
            "search completed in 10.6397 seconds\n",
            "Number of documents: 6928\n",
            "Number of terms: 12049\n",
            "Number of postings: 323743\n",
            "Number of fields: 0\n",
            "Number of tokens: 388543\n",
            "Field names: []\n",
            "Positions:   true\n",
            "\n"
          ]
        }
      ]
    },
    {
      "cell_type": "markdown",
      "metadata": {
        "id": "EThhcXmwIZu5"
      },
      "source": [
        "In the above example, the indexed collection had 6928 documents, which contained 388543-word occurrences. Out of which 12049 were identified as unique words. The total postings in the inverted index are 323743. \n",
        "\n",
        "The whole datafame is being index, with the `\"text\"` field being searchable while the remaining (e.g. `\"review_id\"`, `\"user_id\"`, `\"business_id\"`, `\"stars\"`, `\"date\"`, `\"useful\"`, `\"funny\"`, `\"cool\"`, `\"text\"`) as metadata which can be displayed when called upon.\n",
        "\n",
        "pyTerrier perform standard stopwords removal and applies Porter's stemmer by default, and it is applicable in this notebook as well.\n",
        "EnglishTokeniser is the default tokeniser and case-folding to lower case is applied during Tokenization"
      ]
    },
    {
      "cell_type": "markdown",
      "metadata": {
        "id": "IKrZNyaUXRMg"
      },
      "source": [
        "## Retrieval\n",
        "\n",
        "Retrieval takes place using the `BatchRetrieve` object, by invoking `transform()` method for one or more queries. For a quick test, you can give just pass your query to `transform()`. \n",
        "\n",
        "BatchRetrieve will return the results as a Pandas dataframe.\n"
      ]
    },
    {
      "cell_type": "code",
      "metadata": {
        "id": "zWj6YnN4Wnsz"
      },
      "source": [
        "#pt.BatchRetrieve(indexref).search(\"he\")"
      ],
      "execution_count": null,
      "outputs": []
    },
    {
      "cell_type": "code",
      "metadata": {
        "id": "xbVTWDYuUFud"
      },
      "source": [
        "\n",
        "#this ranker will make the candidate set of documents for each query\n",
        "#BM25 = pt.BatchRetrieve(indexref, controls = {\"wmodel\": \"BM25\"}, num_results=5)\n",
        "#these rankers we will use to re-rank the BM25 results\n",
        "#TF_IDF = pt.BatchRetrieve(indexref, controls = {\"wmodel\": \"TF_IDF\"}, num_results=5)\n",
        "#PL2 =  pt.BatchRetrieve(indexref, controls = {\"wmodel\": \"PL2\"}, num_results=5)\n",
        "\n",
        "#pipe = BM25 >> (TF_IDF ** PL2)\n",
        "#pipe.transform(\"really cute restaurant\") \n"
      ],
      "execution_count": null,
      "outputs": []
    },
    {
      "cell_type": "code",
      "metadata": {
        "id": "DGb6SCdsVB1y"
      },
      "source": [
        "#pt.BatchRetrieve(indexref, controls = {\"wmodel\": \"PL2\"}, num_results=5).search(\"Really cute restaurant\")\n"
      ],
      "execution_count": null,
      "outputs": []
    },
    {
      "cell_type": "code",
      "metadata": {
        "id": "17WV98IMHj_U"
      },
      "source": [
        "#pt.BatchRetrieve(indexref, wmodel=\"BM25\", properties={\"termpipelines\" : \"Stopwords,PorterStemmer\"})\n",
        "#pt.BatchRetrieve(indexref, controls = {\"wmodel\": \"BM25\"}, properties={\"termpipelines\" : \"\"}, num_results=10).search(\"Really cute restaurant\")\n",
        "#pt.BatchRetrieve(indexref, metadata=[\"business_id\", \"stars\"], num_results=10).search(\"Really cute restaurant\")\n"
      ],
      "execution_count": null,
      "outputs": []
    },
    {
      "cell_type": "markdown",
      "metadata": {
        "id": "oK_wOzQrqi8t"
      },
      "source": [
        "However, most IR experiments, will use a set of queries. You can pass such a set using a data frame for input."
      ]
    },
    {
      "cell_type": "code",
      "metadata": {
        "id": "dgtauIOAXGFY"
      },
      "source": [
        "#import pandas as pd\n",
        "#topics = pd.DataFrame([[\"q1\", \"Really cute restaurant\"], [\"q2\", \"restaurant\"]],columns=['qid','query'])\n",
        "#pt.BatchRetrieve(indexref, metadata=[\"text\"], num_results=5).transform(topics)"
      ],
      "execution_count": null,
      "outputs": []
    },
    {
      "cell_type": "markdown",
      "metadata": {
        "id": "mTgSUnddNOeW"
      },
      "source": [
        "## Simple Search Engine\n",
        "\n",
        "Prompting user input for search string\n",
        "Prompting user input for the Top N results to return\n",
        "Display the time taken to complete the search\n",
        "Display the search results"
      ]
    },
    {
      "cell_type": "markdown",
      "metadata": {
        "id": "9MirgBAjy2Bx"
      },
      "source": [
        "# Definition for Simple Search Engine"
      ]
    },
    {
      "cell_type": "code",
      "metadata": {
        "id": "PuwkALdueXRf"
      },
      "source": [
        "def SimpleSearch():\n",
        "  import time\n",
        "  import pandas as pd\n",
        "  pd.reset_option('^display.', silent=True)\n",
        "  #pd.set_option('display.max_rows', None)\n",
        "  pd.set_option('display.max_columns', None)\n",
        "  #pd.set_option('display.width', None)\n",
        "  #pd.set_option('display.max_colwidth', -1)\n",
        "\n",
        "  search_str = input(\"Please enter your search string: \")\n",
        "  #print(\"Search string: \", search_str)\n",
        "  TopN = input(\"Please enter number results to display: \")\n",
        "  #print(\"Top N results: \", TopN)\n",
        "  Tstart = time.perf_counter()\n",
        "  topics = pd.DataFrame([[\"q1\", search_str]],columns=['qid','query'])\n",
        "  results = pt.BatchRetrieve(indexref, wmodel=\"TF_IDF\", properties={\"termpipelines\" : \"Stopwords,PorterStemmer\"}, metadata=[\"text\"], num_results=int(TopN)).transform(topics)\n",
        "  Tend = time.perf_counter()\n",
        "  print(f\"search completed in {Tend - Tstart:0.4f} seconds\")\n",
        "\n",
        "  if len(results) == 0:\n",
        "    print(\"no result found!\")\n",
        "  #else:\n",
        "    #print(\"len: \", len(results))\n",
        "    #print(results)\n",
        "\n",
        "  return results"
      ],
      "execution_count": null,
      "outputs": []
    },
    {
      "cell_type": "markdown",
      "metadata": {
        "id": "I8IHFmFuU3f6"
      },
      "source": [
        "# Search #1\n",
        "Keywords \"restaurant\""
      ]
    },
    {
      "cell_type": "code",
      "metadata": {
        "id": "I95rsMryUQzg",
        "colab": {
          "base_uri": "https://localhost:8080/",
          "height": 252
        },
        "outputId": "b01cf8da-1213-417b-bb16-3ee4a812b151"
      },
      "source": [
        "SimpleSearch()"
      ],
      "execution_count": null,
      "outputs": [
        {
          "output_type": "stream",
          "name": "stdout",
          "text": [
            "Please enter your search string: quality restaurant\n",
            "Please enter number results to display: 5\n",
            "search completed in 0.0977 seconds\n"
          ]
        },
        {
          "output_type": "execute_result",
          "data": {
            "text/html": [
              "<div>\n",
              "<style scoped>\n",
              "    .dataframe tbody tr th:only-of-type {\n",
              "        vertical-align: middle;\n",
              "    }\n",
              "\n",
              "    .dataframe tbody tr th {\n",
              "        vertical-align: top;\n",
              "    }\n",
              "\n",
              "    .dataframe thead th {\n",
              "        text-align: right;\n",
              "    }\n",
              "</style>\n",
              "<table border=\"1\" class=\"dataframe\">\n",
              "  <thead>\n",
              "    <tr style=\"text-align: right;\">\n",
              "      <th></th>\n",
              "      <th>qid</th>\n",
              "      <th>docid</th>\n",
              "      <th>text</th>\n",
              "      <th>rank</th>\n",
              "      <th>score</th>\n",
              "      <th>query</th>\n",
              "    </tr>\n",
              "  </thead>\n",
              "  <tbody>\n",
              "    <tr>\n",
              "      <th>0</th>\n",
              "      <td>q1</td>\n",
              "      <td>4389</td>\n",
              "      <td>Amazing!!!  Stumbled upon it on an adventure t...</td>\n",
              "      <td>0</td>\n",
              "      <td>5.353792</td>\n",
              "      <td>quality restaurant</td>\n",
              "    </tr>\n",
              "    <tr>\n",
              "      <th>1</th>\n",
              "      <td>q1</td>\n",
              "      <td>1845</td>\n",
              "      <td>I used to like this restaurant but the quality...</td>\n",
              "      <td>1</td>\n",
              "      <td>5.267997</td>\n",
              "      <td>quality restaurant</td>\n",
              "    </tr>\n",
              "    <tr>\n",
              "      <th>2</th>\n",
              "      <td>q1</td>\n",
              "      <td>5405</td>\n",
              "      <td>A quality restaurant with excellent food. The ...</td>\n",
              "      <td>2</td>\n",
              "      <td>5.214978</td>\n",
              "      <td>quality restaurant</td>\n",
              "    </tr>\n",
              "    <tr>\n",
              "      <th>3</th>\n",
              "      <td>q1</td>\n",
              "      <td>1650</td>\n",
              "      <td>Lovely servers with good quality Greek food.In...</td>\n",
              "      <td>3</td>\n",
              "      <td>5.210742</td>\n",
              "      <td>quality restaurant</td>\n",
              "    </tr>\n",
              "    <tr>\n",
              "      <th>4</th>\n",
              "      <td>q1</td>\n",
              "      <td>1817</td>\n",
              "      <td>Awful and rude customer service. Food quality ...</td>\n",
              "      <td>4</td>\n",
              "      <td>5.210742</td>\n",
              "      <td>quality restaurant</td>\n",
              "    </tr>\n",
              "  </tbody>\n",
              "</table>\n",
              "</div>"
            ],
            "text/plain": [
              "  qid  docid                                               text  rank  \\\n",
              "0  q1   4389  Amazing!!!  Stumbled upon it on an adventure t...     0   \n",
              "1  q1   1845  I used to like this restaurant but the quality...     1   \n",
              "2  q1   5405  A quality restaurant with excellent food. The ...     2   \n",
              "3  q1   1650  Lovely servers with good quality Greek food.In...     3   \n",
              "4  q1   1817  Awful and rude customer service. Food quality ...     4   \n",
              "\n",
              "      score               query  \n",
              "0  5.353792  quality restaurant  \n",
              "1  5.267997  quality restaurant  \n",
              "2  5.214978  quality restaurant  \n",
              "3  5.210742  quality restaurant  \n",
              "4  5.210742  quality restaurant  "
            ]
          },
          "metadata": {},
          "execution_count": 9
        }
      ]
    },
    {
      "cell_type": "markdown",
      "metadata": {
        "id": "CaERWVRMVF21"
      },
      "source": [
        "# Search #2\n",
        "Keywords \"honda\""
      ]
    },
    {
      "cell_type": "code",
      "metadata": {
        "id": "xdrrf9jGVLyj",
        "colab": {
          "base_uri": "https://localhost:8080/",
          "height": 115
        },
        "outputId": "08c84f6b-e508-4a1a-ce1c-2b795f7f22d1"
      },
      "source": [
        "SimpleSearch()"
      ],
      "execution_count": null,
      "outputs": [
        {
          "output_type": "stream",
          "name": "stdout",
          "text": [
            "Please enter your search string: honda\n",
            "Please enter number results to display: 5\n",
            "search completed in 0.0464 seconds\n",
            "no result found!\n"
          ]
        },
        {
          "output_type": "execute_result",
          "data": {
            "text/html": [
              "<div>\n",
              "<style scoped>\n",
              "    .dataframe tbody tr th:only-of-type {\n",
              "        vertical-align: middle;\n",
              "    }\n",
              "\n",
              "    .dataframe tbody tr th {\n",
              "        vertical-align: top;\n",
              "    }\n",
              "\n",
              "    .dataframe thead th {\n",
              "        text-align: right;\n",
              "    }\n",
              "</style>\n",
              "<table border=\"1\" class=\"dataframe\">\n",
              "  <thead>\n",
              "    <tr style=\"text-align: right;\">\n",
              "      <th></th>\n",
              "      <th>docid</th>\n",
              "      <th>text</th>\n",
              "      <th>rank</th>\n",
              "      <th>score</th>\n",
              "      <th>qid</th>\n",
              "      <th>query</th>\n",
              "    </tr>\n",
              "  </thead>\n",
              "  <tbody>\n",
              "  </tbody>\n",
              "</table>\n",
              "</div>"
            ],
            "text/plain": [
              "Empty DataFrame\n",
              "Columns: [docid, text, rank, score, qid, query]\n",
              "Index: []"
            ]
          },
          "metadata": {},
          "execution_count": 10
        }
      ]
    },
    {
      "cell_type": "markdown",
      "metadata": {
        "id": "V4wERYGnVQYb"
      },
      "source": [
        "#Search #3\n",
        "Key phrase \"homemade pasta\"\n",
        "rank 5 dont have the search phrase but got the terms"
      ]
    },
    {
      "cell_type": "code",
      "metadata": {
        "id": "vFfnbf2tVWjz",
        "colab": {
          "base_uri": "https://localhost:8080/",
          "height": 252
        },
        "outputId": "0206f49c-8259-4118-93a7-177f89e0a340"
      },
      "source": [
        "SimpleSearch()"
      ],
      "execution_count": null,
      "outputs": [
        {
          "output_type": "stream",
          "name": "stdout",
          "text": [
            "Please enter your search string: ribeye pasta\n",
            "Please enter number results to display: 5\n",
            "search completed in 0.0592 seconds\n"
          ]
        },
        {
          "output_type": "execute_result",
          "data": {
            "text/html": [
              "<div>\n",
              "<style scoped>\n",
              "    .dataframe tbody tr th:only-of-type {\n",
              "        vertical-align: middle;\n",
              "    }\n",
              "\n",
              "    .dataframe tbody tr th {\n",
              "        vertical-align: top;\n",
              "    }\n",
              "\n",
              "    .dataframe thead th {\n",
              "        text-align: right;\n",
              "    }\n",
              "</style>\n",
              "<table border=\"1\" class=\"dataframe\">\n",
              "  <thead>\n",
              "    <tr style=\"text-align: right;\">\n",
              "      <th></th>\n",
              "      <th>qid</th>\n",
              "      <th>docid</th>\n",
              "      <th>text</th>\n",
              "      <th>rank</th>\n",
              "      <th>score</th>\n",
              "      <th>query</th>\n",
              "    </tr>\n",
              "  </thead>\n",
              "  <tbody>\n",
              "    <tr>\n",
              "      <th>0</th>\n",
              "      <td>q1</td>\n",
              "      <td>4291</td>\n",
              "      <td>Great meal!  Started with the tuna tartar whic...</td>\n",
              "      <td>0</td>\n",
              "      <td>8.410616</td>\n",
              "      <td>ribeye pasta</td>\n",
              "    </tr>\n",
              "    <tr>\n",
              "      <th>1</th>\n",
              "      <td>q1</td>\n",
              "      <td>4142</td>\n",
              "      <td>Another wannabe steakhouse that cannot get the...</td>\n",
              "      <td>1</td>\n",
              "      <td>8.168902</td>\n",
              "      <td>ribeye pasta</td>\n",
              "    </tr>\n",
              "    <tr>\n",
              "      <th>2</th>\n",
              "      <td>q1</td>\n",
              "      <td>4089</td>\n",
              "      <td>Never disappoints. Attentive service and every...</td>\n",
              "      <td>2</td>\n",
              "      <td>7.406424</td>\n",
              "      <td>ribeye pasta</td>\n",
              "    </tr>\n",
              "    <tr>\n",
              "      <th>3</th>\n",
              "      <td>q1</td>\n",
              "      <td>4093</td>\n",
              "      <td>We have visited L'Andana in several occasions ...</td>\n",
              "      <td>3</td>\n",
              "      <td>6.811879</td>\n",
              "      <td>ribeye pasta</td>\n",
              "    </tr>\n",
              "    <tr>\n",
              "      <th>4</th>\n",
              "      <td>q1</td>\n",
              "      <td>4332</td>\n",
              "      <td>Pam, the bartender, makes a perfect cosmo.  Bl...</td>\n",
              "      <td>4</td>\n",
              "      <td>5.911969</td>\n",
              "      <td>ribeye pasta</td>\n",
              "    </tr>\n",
              "  </tbody>\n",
              "</table>\n",
              "</div>"
            ],
            "text/plain": [
              "  qid  docid                                               text  rank  \\\n",
              "0  q1   4291  Great meal!  Started with the tuna tartar whic...     0   \n",
              "1  q1   4142  Another wannabe steakhouse that cannot get the...     1   \n",
              "2  q1   4089  Never disappoints. Attentive service and every...     2   \n",
              "3  q1   4093  We have visited L'Andana in several occasions ...     3   \n",
              "4  q1   4332  Pam, the bartender, makes a perfect cosmo.  Bl...     4   \n",
              "\n",
              "      score         query  \n",
              "0  8.410616  ribeye pasta  \n",
              "1  8.168902  ribeye pasta  \n",
              "2  7.406424  ribeye pasta  \n",
              "3  6.811879  ribeye pasta  \n",
              "4  5.911969  ribeye pasta  "
            ]
          },
          "metadata": {},
          "execution_count": 20
        }
      ]
    },
    {
      "cell_type": "markdown",
      "metadata": {
        "id": "zfnvSpeu6TrQ"
      },
      "source": [
        "#trial"
      ]
    },
    {
      "cell_type": "code",
      "metadata": {
        "id": "P5D84kwk6RfC",
        "colab": {
          "base_uri": "https://localhost:8080/",
          "height": 629
        },
        "outputId": "4ca83d3a-7f8b-4077-d601-4f9b805e75e2"
      },
      "source": [
        "# define an example dataframe of documents\n",
        "import pandas as pd\n",
        "!rm -rf ./trial_index\n",
        "trial_df = pd.DataFrame({\n",
        "    'docno':\n",
        "    ['1', '2', '3'],\n",
        "    'url':\n",
        "    ['url1', 'url2', 'url3'],\n",
        "    'text':\n",
        "    ['He ran out of money, so he had to stop playing cook the loss',\n",
        "    'He The waves were crashing on the shore; it was a, cooks',\n",
        "    'The body may perhaps compensates for the loss, cooking waves']\n",
        "})\n",
        "\n",
        "#trial_df = pd.read_csv(\"small_B1_edit.csv\", dtype = str)\n",
        "#trial_df\n",
        "\n",
        "# index the text, record the docnos as metadata\n",
        "trial_indexer = pt.DFIndexer(\"./trial_index\", blocks=True)\n",
        "trial_indexer.setProperty(\"tokeniser\" , \"EnglishTokeniser\")\n",
        "#trial_indexer.setProperty(\"termpipelines\" , \"Stopwords,PorterStemmer\")\n",
        "trial_indexer.setProperty(\"termpipelines\" , \"\")\n",
        "\n",
        "trial_indexref = trial_indexer.index(trial_df[\"text\"], trial_df[\"docno\"])\n",
        "trial_indexinfo = pt.IndexFactory.of(trial_indexref)\n",
        "print(trial_indexinfo.getCollectionStatistics().toString()) \n",
        "\n",
        "topics = pd.DataFrame([[\"q1\", \"'the '~1\"]],columns=['qid','query'])\n",
        "pt.rewrite.reset()\n",
        "sdm = pt.rewrite.SequentialDependence()\n",
        "#sdm = pt.rewrite.SequentialDependence(prox_model=\"org.terrier.matching.models.Dirichlet_LM\")\n",
        "#pt.BatchRetrieve(trial_indexref, properties={\"termpipelines\" :\"Stopwords,PorterStemmer\"}, controls={\"wmodel\" : \"TF_IDF\"}).search(\"cook\")\n",
        "dph = pt.BatchRetrieve(trial_indexref, wmodel=\"dph\")\n",
        "pipeline = sdm >> dph\n",
        "pipeline.transform(topics)"
      ],
      "execution_count": 15,
      "outputs": [
        {
          "output_type": "stream",
          "name": "stdout",
          "text": [
            "Number of documents: 3\n",
            "Number of terms: 28\n",
            "Number of postings: 33\n",
            "Number of fields: 0\n",
            "Number of tokens: 36\n",
            "Field names: []\n",
            "Positions:   true\n",
            "\n"
          ]
        },
        {
          "output_type": "error",
          "ename": "JavaException",
          "evalue": "ignored",
          "traceback": [
            "\u001b[0;31m---------------------------------------------------------------------------\u001b[0m",
            "\u001b[0;31mJavaException\u001b[0m                             Traceback (most recent call last)",
            "\u001b[0;32m<ipython-input-15-b14bdb1090f0>\u001b[0m in \u001b[0;36m<module>\u001b[0;34m()\u001b[0m\n\u001b[1;32m     33\u001b[0m \u001b[0mdph\u001b[0m \u001b[0;34m=\u001b[0m \u001b[0mpt\u001b[0m\u001b[0;34m.\u001b[0m\u001b[0mBatchRetrieve\u001b[0m\u001b[0;34m(\u001b[0m\u001b[0mtrial_indexref\u001b[0m\u001b[0;34m,\u001b[0m \u001b[0mwmodel\u001b[0m\u001b[0;34m=\u001b[0m\u001b[0;34m\"dph\"\u001b[0m\u001b[0;34m)\u001b[0m\u001b[0;34m\u001b[0m\u001b[0;34m\u001b[0m\u001b[0m\n\u001b[1;32m     34\u001b[0m \u001b[0mpipeline\u001b[0m \u001b[0;34m=\u001b[0m \u001b[0msdm\u001b[0m \u001b[0;34m>>\u001b[0m \u001b[0mdph\u001b[0m\u001b[0;34m\u001b[0m\u001b[0;34m\u001b[0m\u001b[0m\n\u001b[0;32m---> 35\u001b[0;31m \u001b[0mpipeline\u001b[0m\u001b[0;34m.\u001b[0m\u001b[0mtransform\u001b[0m\u001b[0;34m(\u001b[0m\u001b[0mtopics\u001b[0m\u001b[0;34m)\u001b[0m\u001b[0;34m\u001b[0m\u001b[0;34m\u001b[0m\u001b[0m\n\u001b[0m",
            "\u001b[0;32m/usr/local/lib/python3.7/dist-packages/pyterrier/transformer.py\u001b[0m in \u001b[0;36mtransform\u001b[0;34m(self, topics)\u001b[0m\n\u001b[1;32m    843\u001b[0m     \u001b[0;32mdef\u001b[0m \u001b[0mtransform\u001b[0m\u001b[0;34m(\u001b[0m\u001b[0mself\u001b[0m\u001b[0;34m,\u001b[0m \u001b[0mtopics\u001b[0m\u001b[0;34m)\u001b[0m\u001b[0;34m:\u001b[0m\u001b[0;34m\u001b[0m\u001b[0;34m\u001b[0m\u001b[0m\n\u001b[1;32m    844\u001b[0m         \u001b[0;32mfor\u001b[0m \u001b[0mm\u001b[0m \u001b[0;32min\u001b[0m \u001b[0mself\u001b[0m\u001b[0;34m.\u001b[0m\u001b[0mmodels\u001b[0m\u001b[0;34m:\u001b[0m\u001b[0;34m\u001b[0m\u001b[0;34m\u001b[0m\u001b[0m\n\u001b[0;32m--> 845\u001b[0;31m             \u001b[0mtopics\u001b[0m \u001b[0;34m=\u001b[0m \u001b[0mm\u001b[0m\u001b[0;34m.\u001b[0m\u001b[0mtransform\u001b[0m\u001b[0;34m(\u001b[0m\u001b[0mtopics\u001b[0m\u001b[0;34m)\u001b[0m\u001b[0;34m\u001b[0m\u001b[0;34m\u001b[0m\u001b[0m\n\u001b[0m\u001b[1;32m    846\u001b[0m         \u001b[0;32mreturn\u001b[0m \u001b[0mtopics\u001b[0m\u001b[0;34m\u001b[0m\u001b[0;34m\u001b[0m\u001b[0m\n\u001b[1;32m    847\u001b[0m \u001b[0;34m\u001b[0m\u001b[0m\n",
            "\u001b[0;32m/usr/local/lib/python3.7/dist-packages/pyterrier/rewrite.py\u001b[0m in \u001b[0;36mtransform\u001b[0;34m(self, topics_and_res)\u001b[0m\n\u001b[1;32m     84\u001b[0m             \u001b[0mrq\u001b[0m\u001b[0;34m.\u001b[0m\u001b[0msetQueryID\u001b[0m\u001b[0;34m(\u001b[0m\u001b[0mqid\u001b[0m\u001b[0;34m)\u001b[0m\u001b[0;34m\u001b[0m\u001b[0;34m\u001b[0m\u001b[0m\n\u001b[1;32m     85\u001b[0m             \u001b[0mrq\u001b[0m\u001b[0;34m.\u001b[0m\u001b[0msetOriginalQuery\u001b[0m\u001b[0;34m(\u001b[0m\u001b[0mquery\u001b[0m\u001b[0;34m)\u001b[0m\u001b[0;34m\u001b[0m\u001b[0;34m\u001b[0m\u001b[0m\n\u001b[0;32m---> 86\u001b[0;31m             \u001b[0mTerrierQLParser\u001b[0m\u001b[0;34m.\u001b[0m\u001b[0mprocess\u001b[0m\u001b[0;34m(\u001b[0m\u001b[0;32mNone\u001b[0m\u001b[0;34m,\u001b[0m \u001b[0mrq\u001b[0m\u001b[0;34m)\u001b[0m\u001b[0;34m\u001b[0m\u001b[0;34m\u001b[0m\u001b[0m\n\u001b[0m\u001b[1;32m     87\u001b[0m             \u001b[0mTerrierQLToMatchingQueryTerms\u001b[0m\u001b[0;34m.\u001b[0m\u001b[0mprocess\u001b[0m\u001b[0;34m(\u001b[0m\u001b[0;32mNone\u001b[0m\u001b[0;34m,\u001b[0m \u001b[0mrq\u001b[0m\u001b[0;34m)\u001b[0m\u001b[0;34m\u001b[0m\u001b[0;34m\u001b[0m\u001b[0m\n\u001b[1;32m     88\u001b[0m             \u001b[0;32mif\u001b[0m \u001b[0mself\u001b[0m\u001b[0;34m.\u001b[0m\u001b[0mremove_stopwords\u001b[0m\u001b[0;34m:\u001b[0m\u001b[0;34m\u001b[0m\u001b[0;34m\u001b[0m\u001b[0m\n",
            "\u001b[0;32mjnius/jnius_export_class.pxi\u001b[0m in \u001b[0;36mjnius.JavaMultipleMethod.__call__\u001b[0;34m()\u001b[0m\n",
            "\u001b[0;32mjnius/jnius_export_class.pxi\u001b[0m in \u001b[0;36mjnius.JavaMethod.__call__\u001b[0;34m()\u001b[0m\n",
            "\u001b[0;32mjnius/jnius_export_class.pxi\u001b[0m in \u001b[0;36mjnius.JavaMethod.call_method\u001b[0;34m()\u001b[0m\n",
            "\u001b[0;32mjnius/jnius_jvm_dlopen.pxi\u001b[0m in \u001b[0;36mjnius.create_jnienv\u001b[0;34m()\u001b[0m\n",
            "\u001b[0;31mJavaException\u001b[0m: JVM exception occurred: Failed to process qid q1 ''the '~1' -- Lexical error at line 1, column 1.  Encountered: \"\\'\" (39), after : \"\" org.terrier.querying.parser.QueryParserException"
          ]
        }
      ]
    },
    {
      "cell_type": "markdown",
      "metadata": {
        "id": "GgsTNJkgXRse"
      },
      "source": [
        "@inproceedings{pyterrier2020ictir,\n",
        "\n",
        "    author = {Craig Macdonald and Nicola Tonellotto},\n",
        "    title = {Declarative Experimentation inInformation Retrieval using PyTerrier},\n",
        "    booktitle = {Proceedings of ICTIR 2020},\n",
        "    year = {2020}\n",
        "}\n",
        "\n"
      ]
    }
  ]
}